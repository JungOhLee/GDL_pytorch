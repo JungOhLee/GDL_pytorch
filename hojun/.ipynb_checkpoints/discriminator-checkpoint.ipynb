{
 "cells": [
  {
   "cell_type": "code",
   "execution_count": 3,
   "metadata": {},
   "outputs": [],
   "source": [
    "import torch\n",
    "import torch.nn as nn\n",
    "import torch.nn.functional as F"
   ]
  },
  {
   "cell_type": "code",
   "execution_count": 6,
   "metadata": {},
   "outputs": [],
   "source": [
    "from keras.layers import LeakyReLU"
   ]
  },
  {
   "cell_type": "code",
   "execution_count": 18,
   "metadata": {},
   "outputs": [
    {
     "ename": "SyntaxError",
     "evalue": "non-default argument follows default argument (<ipython-input-18-1cc04fb0bcfa>, line 2)",
     "output_type": "error",
     "traceback": [
      "\u001b[0;36m  File \u001b[0;32m\"<ipython-input-18-1cc04fb0bcfa>\"\u001b[0;36m, line \u001b[0;32m2\u001b[0m\n\u001b[0;31m    def __init__(self, input_dim, discriminator_conv_channels, discriminator_conv_kernel_size,\u001b[0m\n\u001b[0m                ^\u001b[0m\n\u001b[0;31mSyntaxError\u001b[0m\u001b[0;31m:\u001b[0m non-default argument follows default argument\n"
     ]
    }
   ],
   "source": [
    "class discriminator(nn.Module):\n",
    "    def __init__(self, discriminator_batch_norm_momentum=0.1, discriminator_batch_norm_use=True, input_dim, \n",
    "                 discriminator_conv_channels, discriminator_conv_kernel_size, discriminator_conv_strides, \n",
    "                discriminator_activation, discriminator_dropout_rate, discriminator_learning_rate):\n",
    "        \n",
    "        super(discriminator, self).__init__()\n",
    "        self.input_dim = input_dim\n",
    "        self.discriminator_conv_channels=discriminator_conv_channels\n",
    "        self.discriminator_conv_kernel_size = discriminator_conv_kernel_size\n",
    "        self.discriminator_conv_strides = discriminator_conv_strides\n",
    "        self.discriminator_batch_norm_momentum = discriminator_batch_norm_momentum\n",
    "        self.discriminator_batch_norm_use=discriminator_batch_norm_use\n",
    "        self.discriminator_activation = discriminator_activation\n",
    "        self.discriminator_dropout_rate = discriminator_dropout_rate\n",
    "        self.discriminator_learning_rate = discriminator_learning_rate\n",
    "\n",
    "        self.discriminator_conv_layers=nn.Sequential()\n",
    "\n",
    "\n",
    "        discriminator_input = Input(shape=self.input_dim, name='discriminator_input')\n",
    "\n",
    "        zero_input=torch.zeros(size=self.input_dim)\n",
    "        for i in range(self.n_layers_discriminator):\n",
    "            if i==0:\n",
    "                self.discriminator_conv_layers.add_module(\"Conv \"+str(i), nn.Conv2d(1, self.discriminator_conv_channels[i], \n",
    "                                                                     self.discriminator_conv_kernel_size[i],\n",
    "                                                                    stride=self.discriminator_conv_strides[i],\n",
    "                                                                    padding=2))\n",
    "            else:\n",
    "                self.discriminator_conv_layers.add_module(\"Conv \"+str(i), nn.Conv2d(self.discriminator_conv_channels[i-1],\n",
    "                                                                     self.discriminator_conv_channels[i], \n",
    "                                                                     self.discriminator_conv_kernel_size[i],\n",
    "                                                                    stride=self.discriminator_conv_strides[i],\n",
    "                                                                    padding=2))\n",
    "            if self.discriminator_batch_norm_use and i > 0:\n",
    "                self.discriminator_conv_layers.add_module(\"Batchnorm \"+str(i), nn.BatchNorm2d(self.discriminator_conv_channels[i]))                \n",
    "\n",
    "            self.discriminator_conv_layers.add_module(\"Activation \"+str(i), self.get_activation)\n",
    "            if self.discriminator_dropout_rate:\n",
    "                self.discriminator_conv_layers.add_module(\"Dropout \"+str(i), nn.Dropout(p=self.discriminator_dropout_rate))\n",
    "\n",
    "        self.discriminator_conv_layers.add_module(\"Flatten\", nn.Flatten())\n",
    "        zero_output=self.discriminator_conv_layers(zero_input)\n",
    "        output_size=zero_output.size\n",
    "\n",
    "        self.discriminator_conv_layers.add_module(\"Fully Connected Layer\", nn.Linear(output_size, 1))\n",
    "    \n",
    "    \n",
    "            \n",
    "    def forward(self, x):\n",
    "        out=self.discriminator_conv_layers(x)\n",
    "        return out\n",
    "             \n",
    "                \n",
    "    def get_activation(self, activation):\n",
    "        if activation == 'leaky_relu':\n",
    "            layer = nn.LeakyReLU(negative_slope=0.2)\n",
    "        else:\n",
    "            layer = nn.ReLU()\n",
    "        return layer"
   ]
  },
  {
   "cell_type": "code",
   "execution_count": 11,
   "metadata": {},
   "outputs": [
    {
     "data": {
      "text/plain": [
       "torch.Size([2])"
      ]
     },
     "execution_count": 11,
     "metadata": {},
     "output_type": "execute_result"
    }
   ],
   "source": []
  },
  {
   "cell_type": "code",
   "execution_count": null,
   "metadata": {},
   "outputs": [],
   "source": [
    "def _build_discriminator(self):\n",
    "\n",
    "    ### THE discriminator\n",
    "    discriminator_input = Input(shape=self.input_dim, name='discriminator_input')\n",
    "\n",
    "    x = discriminator_input\n",
    "\n",
    "    for i in range(self.n_layers_discriminator):\n",
    "\n",
    "        x = Conv2D(\n",
    "            filters = self.discriminator_conv_filters[i]\n",
    "            , kernel_size = self.discriminator_conv_kernel_size[i]\n",
    "            , strides = self.discriminator_conv_strides[i]\n",
    "            , padding = 'same'\n",
    "            , name = 'discriminator_conv_' + str(i)\n",
    "            , kernel_initializer = self.weight_init\n",
    "            )(x)\n",
    "\n",
    "        if self.discriminator_batch_norm_momentum and i > 0:\n",
    "            x = BatchNormalization(momentum = self.discriminator_batch_norm_momentum)(x)\n",
    "\n",
    "        x = self.get_activation(self.discriminator_activation)(x)\n",
    "\n",
    "        if self.discriminator_dropout_rate:\n",
    "            x = Dropout(rate = self.discriminator_dropout_rate)(x)\n",
    "\n",
    "    x = Flatten()(x)\n",
    "\n",
    "    discriminator_output = Dense(1, activation='sigmoid', kernel_initializer = self.weight_init)(x)\n",
    "\n",
    "    self.discriminator = Model(discriminator_input, discriminator_output)\n",
    "        \n",
    "    def get_activation(self, activation):\n",
    "        if activation == 'leaky_relu':\n",
    "            layer = LeakyReLU(alpha = 0.2)\n",
    "        else:\n",
    "            layer = Activation(activation)\n",
    "        return layer"
   ]
  }
 ],
 "metadata": {
  "kernelspec": {
   "display_name": "gan",
   "language": "python",
   "name": "gan"
  },
  "language_info": {
   "codemirror_mode": {
    "name": "ipython",
    "version": 3
   },
   "file_extension": ".py",
   "mimetype": "text/x-python",
   "name": "python",
   "nbconvert_exporter": "python",
   "pygments_lexer": "ipython3",
   "version": "3.6.8"
  }
 },
 "nbformat": 4,
 "nbformat_minor": 2
}
