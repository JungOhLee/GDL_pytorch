{
 "cells": [
  {
   "cell_type": "code",
   "execution_count": 42,
   "metadata": {},
   "outputs": [],
   "source": [
    "import torch\n",
    "import torch.nn as nn"
   ]
  },
  {
   "cell_type": "code",
   "execution_count": 6,
   "metadata": {},
   "outputs": [],
   "source": [
    "from keras.layers import LeakyReLU"
   ]
  },
  {
   "cell_type": "code",
   "execution_count": 64,
   "metadata": {},
   "outputs": [],
   "source": [
    "class Discriminator(nn.Module):\n",
    "    def __init__(self, input_dim, discriminator_conv_channels, discriminator_conv_kernel_size, \n",
    "                 discriminator_conv_strides, discriminator_activation, discriminator_dropout_rate, \n",
    "                 discriminator_batch_norm_momentum=0.1, discriminator_batch_norm_use=True):\n",
    "        \n",
    "        super(Discriminator, self).__init__()\n",
    "        self.input_dim = input_dim\n",
    "        self.discriminator_conv_channels=discriminator_conv_channels\n",
    "        self.discriminator_conv_kernel_size = discriminator_conv_kernel_size\n",
    "        self.discriminator_conv_strides = discriminator_conv_strides\n",
    "        self.discriminator_batch_norm_momentum = discriminator_batch_norm_momentum\n",
    "        self.discriminator_batch_norm_use=discriminator_batch_norm_use\n",
    "        self.discriminator_activation = discriminator_activation\n",
    "        self.discriminator_dropout_rate = discriminator_dropout_rate\n",
    "        self.n_layers_discriminator = len(discriminator_conv_channels)\n",
    "        self.discriminator_conv_layers=nn.Sequential()\n",
    "\n",
    "\n",
    "        # discriminator_input = Input(shape=self.input_dim, name='discriminator_input')\n",
    "\n",
    "        zero_input=torch.zeros(size=self.input_dim)\n",
    "        for i in range(self.n_layers_discriminator):\n",
    "            if i==0:\n",
    "                self.discriminator_conv_layers.add_module(\"Conv \"+str(i), nn.Conv2d(1, self.discriminator_conv_channels[i], \n",
    "                                                                     self.discriminator_conv_kernel_size[i],\n",
    "                                                                    stride=self.discriminator_conv_strides[i],\n",
    "                                                                    padding=2))\n",
    "            else:\n",
    "                self.discriminator_conv_layers.add_module(\"Conv \"+str(i), nn.Conv2d(self.discriminator_conv_channels[i-1],\n",
    "                                                                     self.discriminator_conv_channels[i], \n",
    "                                                                     self.discriminator_conv_kernel_size[i],\n",
    "                                                                    stride=self.discriminator_conv_strides[i],\n",
    "                                                                    padding=2))\n",
    "            if self.discriminator_batch_norm_use and i > 0:\n",
    "                self.discriminator_conv_layers.add_module(\"Batchnorm \"+str(i), nn.BatchNorm2d(self.discriminator_conv_channels[i]))                \n",
    "\n",
    "            self.discriminator_conv_layers.add_module(\"Activation \"+str(i), self.get_activation())\n",
    "            if self.discriminator_dropout_rate:\n",
    "                self.discriminator_conv_layers.add_module(\"Dropout \"+str(i), nn.Dropout(p=self.discriminator_dropout_rate))\n",
    "\n",
    "        self.discriminator_conv_layers.add_module(\"Flatten\", nn.Flatten())\n",
    "        zero_output=self.discriminator_conv_layers(zero_input)\n",
    "        output_size=zero_output.size()[1]\n",
    "        \n",
    "\n",
    "        self.discriminator_conv_layers.add_module(\"Fully Connected Layer\", nn.Linear(output_size, 1))\n",
    "    \n",
    "    \n",
    "            \n",
    "    def forward(self, x):\n",
    "        out=self.discriminator_conv_layers(x)\n",
    "        return out\n",
    "             \n",
    "                \n",
    "    def get_activation(self, activation='relu'):\n",
    "        if activation == 'leaky_relu':\n",
    "            layer = nn.LeakyReLU(negative_slope=0.2)\n",
    "        else:\n",
    "            layer = nn.ReLU()\n",
    "        return layer"
   ]
  },
  {
   "cell_type": "code",
   "execution_count": 65,
   "metadata": {},
   "outputs": [],
   "source": [
    "test_dcm=discriminator(input_dim=(60,1,28,28), discriminator_conv_channels = [64,64,128,128]\n",
    ", discriminator_conv_kernel_size = [5,5,5,5]\n",
    ", discriminator_conv_strides = [2,2,2,1]\n",
    ", discriminator_batch_norm_momentum = None\n",
    ", discriminator_activation = 'relu'\n",
    ", discriminator_dropout_rate = 0.4, discriminator_learning_rate=0.0001, )"
   ]
  },
  {
   "cell_type": "code",
   "execution_count": 66,
   "metadata": {},
   "outputs": [
    {
     "name": "stdout",
     "output_type": "stream",
     "text": [
      "discriminator(\n",
      "  (discriminator_conv_layers): Sequential(\n",
      "    (Conv 0): Conv2d(1, 64, kernel_size=(5, 5), stride=(2, 2), padding=(2, 2))\n",
      "    (Activation 0): ReLU()\n",
      "    (Dropout 0): Dropout(p=0.4, inplace=False)\n",
      "    (Conv 1): Conv2d(64, 64, kernel_size=(5, 5), stride=(2, 2), padding=(2, 2))\n",
      "    (Batchnorm 1): BatchNorm2d(64, eps=1e-05, momentum=0.1, affine=True, track_running_stats=True)\n",
      "    (Activation 1): ReLU()\n",
      "    (Dropout 1): Dropout(p=0.4, inplace=False)\n",
      "    (Conv 2): Conv2d(64, 128, kernel_size=(5, 5), stride=(2, 2), padding=(2, 2))\n",
      "    (Batchnorm 2): BatchNorm2d(128, eps=1e-05, momentum=0.1, affine=True, track_running_stats=True)\n",
      "    (Activation 2): ReLU()\n",
      "    (Dropout 2): Dropout(p=0.4, inplace=False)\n",
      "    (Conv 3): Conv2d(128, 128, kernel_size=(5, 5), stride=(1, 1), padding=(2, 2))\n",
      "    (Batchnorm 3): BatchNorm2d(128, eps=1e-05, momentum=0.1, affine=True, track_running_stats=True)\n",
      "    (Activation 3): ReLU()\n",
      "    (Dropout 3): Dropout(p=0.4, inplace=False)\n",
      "    (Flatten): Flatten()\n",
      "    (Fully Connected Layer): Linear(in_features=2048, out_features=1, bias=True)\n",
      "  )\n",
      ")\n"
     ]
    }
   ],
   "source": [
    "print(test_dcm)"
   ]
  },
  {
   "cell_type": "code",
   "execution_count": null,
   "metadata": {},
   "outputs": [],
   "source": [
    "def _build_discriminator(self):\n",
    "\n",
    "    ### THE discriminator\n",
    "    discriminator_input = Input(shape=self.input_dim, name='discriminator_input')\n",
    "\n",
    "    x = discriminator_input\n",
    "\n",
    "    for i in range(self.n_layers_discriminator):\n",
    "\n",
    "        x = Conv2D(\n",
    "            filters = self.discriminator_conv_filters[i]\n",
    "            , kernel_size = self.discriminator_conv_kernel_size[i]\n",
    "            , strides = self.discriminator_conv_strides[i]\n",
    "            , padding = 'same'\n",
    "            , name = 'discriminator_conv_' + str(i)\n",
    "            , kernel_initializer = self.weight_init\n",
    "            )(x)\n",
    "\n",
    "        if self.discriminator_batch_norm_momentum and i > 0:\n",
    "            x = BatchNormalization(momentum = self.discriminator_batch_norm_momentum)(x)\n",
    "\n",
    "        x = self.get_activation(self.discriminator_activation)(x)\n",
    "\n",
    "        if self.discriminator_dropout_rate:\n",
    "            x = Dropout(rate = self.discriminator_dropout_rate)(x)\n",
    "\n",
    "    x = Flatten()(x)\n",
    "\n",
    "    discriminator_output = Dense(1, activation='sigmoid', kernel_initializer = self.weight_init)(x)\n",
    "\n",
    "    self.discriminator = Model(discriminator_input, discriminator_output)\n",
    "        \n",
    "    def get_activation(self, activation):\n",
    "        if activation == 'leaky_relu':\n",
    "            layer = LeakyReLU(alpha = 0.2)\n",
    "        else:\n",
    "            layer = Activation(activation)\n",
    "        return layer"
   ]
  }
 ],
 "metadata": {
  "kernelspec": {
   "display_name": "gan",
   "language": "python",
   "name": "gan"
  },
  "language_info": {
   "codemirror_mode": {
    "name": "ipython",
    "version": 3
   },
   "file_extension": ".py",
   "mimetype": "text/x-python",
   "name": "python",
   "nbconvert_exporter": "python",
   "pygments_lexer": "ipython3",
   "version": "3.6.8"
  }
 },
 "nbformat": 4,
 "nbformat_minor": 2
}
