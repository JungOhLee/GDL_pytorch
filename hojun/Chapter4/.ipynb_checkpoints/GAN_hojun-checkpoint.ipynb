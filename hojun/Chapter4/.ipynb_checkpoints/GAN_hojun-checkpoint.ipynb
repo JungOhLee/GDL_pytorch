{
 "cells": [
  {
   "cell_type": "code",
   "execution_count": 32,
   "metadata": {},
   "outputs": [],
   "source": [
    "import torch\n",
    "import torch.nn as nn\n",
    "from torch.utils.data import DataLoader\n",
    "from torch.autograd.variable import Variable\n",
    "from Discriminator_hojun import Discriminator\n",
    "from Generator_hojun import Generator, make_layers, get_activation\n",
    "from utils.loaders import load_safari\n",
    "\n",
    "import numpy as np\n",
    "import os\n",
    "import matplotlib.pyplot as plot\n",
    "import json\n",
    "import pickle as pkl\n",
    "import matplotlib.pyplot as plt"
   ]
  },
  {
   "cell_type": "code",
   "execution_count": 40,
   "metadata": {},
   "outputs": [],
   "source": [
    "num_epochs = 200\n",
    "batch_size = 128\n",
    "learning_rate = 0.0004\n",
    "device = torch.device('cuda:1' if torch.cuda.is_available() else 'cpu')\n",
    "DATA_NAME='camel'\n",
    "(x_train, y_train) = load_safari(DATA_NAME)\n",
    "_x_train = np.transpose(x_train, (0,3,1,2))\n",
    "_y_train=np.array(y_train)\n",
    "x_train = torch.from_numpy(_x_train).to(device)\n",
    "y_train= torch.from_numpy(_y_train).to(device)\n",
    "input_data = [[x_item, y_item] for x_item, y_item in zip(x_train, y_train)]"
   ]
  },
  {
   "cell_type": "code",
   "execution_count": 41,
   "metadata": {},
   "outputs": [],
   "source": [
    "discriminator = Discriminator(input_dim=(60,1,28,28), discriminator_conv_channels = [64,64,128,128],\n",
    "    discriminator_conv_kernel_size = [5,5,5,5], discriminator_conv_strides = [2,2,2,1],\n",
    "    discriminator_batch_norm_momentum = None, discriminator_activation = 'relu',\n",
    "    discriminator_dropout_rate = 0.4).to(device)\n",
    "generator=Generator(input_dim=100, generator_initial_dense_layer_size = (64, 7, 7)\n",
    "        , generator_upsample = [2,2, 1, 1]\n",
    "        , generator_conv_channels = [128,64, 64,1]\n",
    "        , generator_conv_kernel_size = [5,5,5,5]\n",
    "        , generator_conv_strides = [1,1, 1, 1]\n",
    "        , generator_batch_norm_momentum = 0.9\n",
    "        , generator_activation = 'relu').to(device)"
   ]
  },
  {
   "cell_type": "code",
   "execution_count": 42,
   "metadata": {},
   "outputs": [],
   "source": [
    "def init_params(model):\n",
    "    for p in model.parameters():\n",
    "        if(p.dim() > 1):\n",
    "            nn.init.xavier_normal_(p)\n",
    "        else:\n",
    "            nn.init.uniform_(p, 0.1, 0.2)"
   ]
  },
  {
   "cell_type": "code",
   "execution_count": 43,
   "metadata": {},
   "outputs": [],
   "source": [
    "init_params(generator)\n",
    "init_params(discriminator)"
   ]
  },
  {
   "cell_type": "code",
   "execution_count": 44,
   "metadata": {},
   "outputs": [],
   "source": [
    "camel_loader=DataLoader(input_data, batch_size=batch_size, shuffle=True)\n",
    "# Loss and optimizer\n",
    "criterion = nn.BCELoss()\n",
    "\n",
    "discriminator_optimizer = torch.optim.Adam(discriminator.parameters(), lr=learning_rate)\n",
    "generator_optimizer = torch.optim.Adam(generator.parameters(), lr=learning_rate)\n"
   ]
  },
  {
   "cell_type": "code",
   "execution_count": 45,
   "metadata": {},
   "outputs": [
    {
     "name": "stdout",
     "output_type": "stream",
     "text": [
      "0: Discriminator Loss=1.0829, Generator Loss=0.2703\n",
      "1: Discriminator Loss=0.3433, Generator Loss=0.3403\n",
      "2: Discriminator Loss=0.8593, Generator Loss=1.2696\n",
      "3: Discriminator Loss=0.1432, Generator Loss=1.2632\n",
      "4: Discriminator Loss=0.1375, Generator Loss=1.7921\n",
      "5: Discriminator Loss=0.1485, Generator Loss=2.3289\n",
      "6: Discriminator Loss=0.4046, Generator Loss=1.8123\n",
      "7: Discriminator Loss=0.0288, Generator Loss=1.5002\n",
      "8: Discriminator Loss=0.0028, Generator Loss=3.0021\n",
      "9: Discriminator Loss=0.0137, Generator Loss=2.1478\n"
     ]
    }
   ],
   "source": [
    "# Train the model\n",
    "for epoch in range(num_epochs):\n",
    "    for _, (x_batch, y_batch) in enumerate(camel_loader):\n",
    "        x_batch = x_batch.to(device)\n",
    "        y_batch = y_batch.to(device)\n",
    "\n",
    "        # Forward pass\n",
    "        if len(x_batch)<batch_size:\n",
    "            valid_discriminator = torch.ones((len(x_batch),1))\n",
    "            fake_discriminator = torch.zeros((len(x_batch),1))\n",
    "        else:\n",
    "            valid_discriminator = torch.ones((batch_size,1))\n",
    "            fake_discriminator = torch.zeros((batch_size,1))\n",
    "        \n",
    "        valid_discriminator=Variable(valid_discriminator).to(device)\n",
    "        fake_discriminator=Variable(fake_discriminator).to(device)\n",
    "        noise =Variable(torch.normal(0, 1.0, (batch_size, 100))).to(device)\n",
    "        gen_x_batch = generator(noise)\n",
    "        total_x_batch=torch.cat((gen_x_batch, x_batch), 0)\n",
    "        predicted_labels=discriminator(total_x_batch)\n",
    "        labels=torch.cat((fake_discriminator, valid_discriminator), 0)\n",
    "        predicted_labels=predicted_labels.squeeze(1)\n",
    "        labels=labels.squeeze(1)\n",
    "        \n",
    "        discriminator_loss = criterion(predicted_labels, labels).to(device)\n",
    "        # Backward and optimize\n",
    "        discriminator_optimizer.zero_grad()\n",
    "        discriminator_loss.backward()\n",
    "        discriminator_optimizer.step()\n",
    "        \n",
    "        \n",
    "        valid_generator = Variable(torch.ones([batch_size,1])).to(device).squeeze(1)\n",
    "        noise_generator = Variable(torch.Tensor(np.random.normal(0, 1, (batch_size, 100)))).to(device)\n",
    "        output_generator = generator(noise_generator)\n",
    "        output_generator = discriminator(output_generator).squeeze(1)\n",
    "        generator_loss=criterion(output_generator, valid_generator)\n",
    "        generator_optimizer.zero_grad()\n",
    "        generator_loss.backward()\n",
    "        generator_optimizer.step()\n",
    "        \n",
    "    print(\"%d: Discriminator Loss=%.4f, Generator Loss=%.4f\" % (\n",
    "        epoch, 10000*discriminator_loss.item(), generator_loss.item()))\n",
    "        "
   ]
  },
  {
   "cell_type": "code",
   "execution_count": 60,
   "metadata": {},
   "outputs": [
    {
     "data": {
      "text/plain": [
       "torch.Size([2, 100])"
      ]
     },
     "execution_count": 60,
     "metadata": {},
     "output_type": "execute_result"
    }
   ],
   "source": [
    "test_sample=torch.normal(0, 1, [2, 100])\n",
    "test_sample=test_sample.to(device)\n",
    "test_sample.shape"
   ]
  },
  {
   "cell_type": "code",
   "execution_count": 70,
   "metadata": {},
   "outputs": [],
   "source": [
    "test_result=generator(test_sample).to('cpu')"
   ]
  },
  {
   "cell_type": "code",
   "execution_count": 79,
   "metadata": {},
   "outputs": [
    {
     "data": {
      "text/plain": [
       "<matplotlib.image.AxesImage at 0x7f55a0cf7390>"
      ]
     },
     "execution_count": 79,
     "metadata": {},
     "output_type": "execute_result"
    },
    {
     "data": {
      "image/png": "[encoded data removed]",
      "text/plain": [
       "<Figure size 432x288 with 1 Axes>"
      ]
     },
     "metadata": {
      "needs_background": "light"
     },
     "output_type": "display_data"
    }
   ],
   "source": [
    "plt.imshow(test_result.detach().numpy()[0].transpose([1,2,0]).reshape([28,28]))"
   ]
  },
  {
   "cell_type": "code",
   "execution_count": 6,
   "metadata": {},
   "outputs": [],
   "source": [
    "# test_x=torch.Tensor(np.random.normal(0, 1, (batch_size, 100)))\n",
    "# class generator_layer1(nn.Module):\n",
    "#     def __init__(self):\n",
    "#         super(generator_layer1, self).__init__()\n",
    "#         self.conv=nn.Sequential(\n",
    "#             nn.Linear(100, 3136)\n",
    "#         )\n",
    "#     def forward(self, x):\n",
    "#         x=self.conv(x)\n",
    "#         return(x)\n",
    "# generator(test_x)"
   ]
  },
  {
   "cell_type": "code",
   "execution_count": 7,
   "metadata": {},
   "outputs": [],
   "source": [
    "# class generator_layer2(nn.Module):\n",
    "#     def __init__(self, in_channel=64, out_channel=128, kernel_size=5, padding=2, batchnorm_momentum=0.1):\n",
    "#         super(generator_layer2, self).__init__()\n",
    "#        self.conv=nn.Sequential(\n",
    "#        nn.Upsample(scale_factor=2),\n",
    "#        nn.Conv2d(in_channel, out_channel, kernel_size=kernel_size, padding=padding),\n",
    "#        nn.BatchNorm2d(out_channel, momentum=batchnorm_momentum),\n",
    "#        get_activation()\n",
    "#        )\n",
    "#         self.conv1=nn.Conv2d(in_channels=64, out_channels=128, kernel_size=5, padding=2)\n",
    "        \n",
    "#     make_layers(in_channel=64, out_channel=128, kernel_size=5, padding=2, batchnorm_momentum=0.1)\n",
    "#     def forward(self, x):\n",
    "#         x=x.view(-1, 64, 7, 7)\n",
    "#         print(x.shape)\n",
    "#         x=self.conv1(x)\n",
    "#         return(x)"
   ]
  }
 ],
 "metadata": {
  "kernelspec": {
   "display_name": "gan",
   "language": "python",
   "name": "gan"
  },
  "language_info": {
   "codemirror_mode": {
    "name": "ipython",
    "version": 3
   },
   "file_extension": ".py",
   "mimetype": "text/x-python",
   "name": "python",
   "nbconvert_exporter": "python",
   "pygments_lexer": "ipython3",
   "version": "3.6.8"
  }
 },
 "nbformat": 4,
 "nbformat_minor": 2
}
