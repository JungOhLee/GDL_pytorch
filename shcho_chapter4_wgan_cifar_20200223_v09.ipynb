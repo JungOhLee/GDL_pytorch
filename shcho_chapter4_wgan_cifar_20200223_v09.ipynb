{
  "nbformat": 4,
  "nbformat_minor": 0,
  "metadata": {
    "colab": {
      "name": "shcho-chapter4-wgan-cifar-20200223-v09.ipynb",
      "provenance": [],
      "collapsed_sections": [],
      "authorship_tag": "ABX9TyNYIMISYEOuUt99wkgjBhyk",
      "include_colab_link": true
    },
    "kernelspec": {
      "name": "python3",
      "display_name": "Python 3"
    },
    "accelerator": "GPU",
    "widgets": {
      "application/vnd.jupyter.widget-state+json": {
        "9200ea5277a64d0c87ee94fa4452d020": {
          "model_module": "@jupyter-widgets/controls",
          "model_name": "HBoxModel",
          "state": {
            "_view_name": "HBoxView",
            "_dom_classes": [],
            "_model_name": "HBoxModel",
            "_view_module": "@jupyter-widgets/controls",
            "_model_module_version": "1.5.0",
            "_view_count": null,
            "_view_module_version": "1.5.0",
            "box_style": "",
            "layout": "IPY_MODEL_798265ec5e8b4eec89aa3d82ce18823f",
            "_model_module": "@jupyter-widgets/controls",
            "children": [
              "IPY_MODEL_13e765533ef54fb29b38206977ba6d7f",
              "IPY_MODEL_bee834a23a8e41b4839e32d3fe5a3831"
            ]
          }
        },
        "798265ec5e8b4eec89aa3d82ce18823f": {
          "model_module": "@jupyter-widgets/base",
          "model_name": "LayoutModel",
          "state": {
            "_view_name": "LayoutView",
            "grid_template_rows": null,
            "right": null,
            "justify_content": null,
            "_view_module": "@jupyter-widgets/base",
            "overflow": null,
            "_model_module_version": "1.2.0",
            "_view_count": null,
            "flex_flow": null,
            "width": null,
            "min_width": null,
            "border": null,
            "align_items": null,
            "bottom": null,
            "_model_module": "@jupyter-widgets/base",
            "top": null,
            "grid_column": null,
            "overflow_y": null,
            "overflow_x": null,
            "grid_auto_flow": null,
            "grid_area": null,
            "grid_template_columns": null,
            "flex": null,
            "_model_name": "LayoutModel",
            "justify_items": null,
            "grid_row": null,
            "max_height": null,
            "align_content": null,
            "visibility": null,
            "align_self": null,
            "height": null,
            "min_height": null,
            "padding": null,
            "grid_auto_rows": null,
            "grid_gap": null,
            "max_width": null,
            "order": null,
            "_view_module_version": "1.2.0",
            "grid_template_areas": null,
            "object_position": null,
            "object_fit": null,
            "grid_auto_columns": null,
            "margin": null,
            "display": null,
            "left": null
          }
        },
        "13e765533ef54fb29b38206977ba6d7f": {
          "model_module": "@jupyter-widgets/controls",
          "model_name": "IntProgressModel",
          "state": {
            "_view_name": "ProgressView",
            "style": "IPY_MODEL_f8e816eecff448f9b28f2a2f4bd9e752",
            "_dom_classes": [],
            "description": "",
            "_model_name": "IntProgressModel",
            "bar_style": "success",
            "max": 47,
            "_view_module": "@jupyter-widgets/controls",
            "_model_module_version": "1.5.0",
            "value": 47,
            "_view_count": null,
            "_view_module_version": "1.5.0",
            "orientation": "horizontal",
            "min": 0,
            "description_tooltip": null,
            "_model_module": "@jupyter-widgets/controls",
            "layout": "IPY_MODEL_b4e770f5e16848f6a4197abc2ef44fdc"
          }
        },
        "bee834a23a8e41b4839e32d3fe5a3831": {
          "model_module": "@jupyter-widgets/controls",
          "model_name": "HTMLModel",
          "state": {
            "_view_name": "HTMLView",
            "style": "IPY_MODEL_76b3531d7007450e969aca023de4bad9",
            "_dom_classes": [],
            "description": "",
            "_model_name": "HTMLModel",
            "placeholder": "​",
            "_view_module": "@jupyter-widgets/controls",
            "_model_module_version": "1.5.0",
            "value": "100% 47/47 [00:00&lt;00:00, 721.39it/s]",
            "_view_count": null,
            "_view_module_version": "1.5.0",
            "description_tooltip": null,
            "_model_module": "@jupyter-widgets/controls",
            "layout": "IPY_MODEL_adabf7766adb4408a6d3cecc8df25d27"
          }
        },
        "f8e816eecff448f9b28f2a2f4bd9e752": {
          "model_module": "@jupyter-widgets/controls",
          "model_name": "ProgressStyleModel",
          "state": {
            "_view_name": "StyleView",
            "_model_name": "ProgressStyleModel",
            "description_width": "",
            "_view_module": "@jupyter-widgets/base",
            "_model_module_version": "1.5.0",
            "_view_count": null,
            "_view_module_version": "1.2.0",
            "bar_color": null,
            "_model_module": "@jupyter-widgets/controls"
          }
        },
        "b4e770f5e16848f6a4197abc2ef44fdc": {
          "model_module": "@jupyter-widgets/base",
          "model_name": "LayoutModel",
          "state": {
            "_view_name": "LayoutView",
            "grid_template_rows": null,
            "right": null,
            "justify_content": null,
            "_view_module": "@jupyter-widgets/base",
            "overflow": null,
            "_model_module_version": "1.2.0",
            "_view_count": null,
            "flex_flow": null,
            "width": null,
            "min_width": null,
            "border": null,
            "align_items": null,
            "bottom": null,
            "_model_module": "@jupyter-widgets/base",
            "top": null,
            "grid_column": null,
            "overflow_y": null,
            "overflow_x": null,
            "grid_auto_flow": null,
            "grid_area": null,
            "grid_template_columns": null,
            "flex": null,
            "_model_name": "LayoutModel",
            "justify_items": null,
            "grid_row": null,
            "max_height": null,
            "align_content": null,
            "visibility": null,
            "align_self": null,
            "height": null,
            "min_height": null,
            "padding": null,
            "grid_auto_rows": null,
            "grid_gap": null,
            "max_width": null,
            "order": null,
            "_view_module_version": "1.2.0",
            "grid_template_areas": null,
            "object_position": null,
            "object_fit": null,
            "grid_auto_columns": null,
            "margin": null,
            "display": null,
            "left": null
          }
        },
        "76b3531d7007450e969aca023de4bad9": {
          "model_module": "@jupyter-widgets/controls",
          "model_name": "DescriptionStyleModel",
          "state": {
            "_view_name": "StyleView",
            "_model_name": "DescriptionStyleModel",
            "description_width": "",
            "_view_module": "@jupyter-widgets/base",
            "_model_module_version": "1.5.0",
            "_view_count": null,
            "_view_module_version": "1.2.0",
            "_model_module": "@jupyter-widgets/controls"
          }
        },
        "adabf7766adb4408a6d3cecc8df25d27": {
          "model_module": "@jupyter-widgets/base",
          "model_name": "LayoutModel",
          "state": {
            "_view_name": "LayoutView",
            "grid_template_rows": null,
            "right": null,
            "justify_content": null,
            "_view_module": "@jupyter-widgets/base",
            "overflow": null,
            "_model_module_version": "1.2.0",
            "_view_count": null,
            "flex_flow": null,
            "width": null,
            "min_width": null,
            "border": null,
            "align_items": null,
            "bottom": null,
            "_model_module": "@jupyter-widgets/base",
            "top": null,
            "grid_column": null,
            "overflow_y": null,
            "overflow_x": null,
            "grid_auto_flow": null,
            "grid_area": null,
            "grid_template_columns": null,
            "flex": null,
            "_model_name": "LayoutModel",
            "justify_items": null,
            "grid_row": null,
            "max_height": null,
            "align_content": null,
            "visibility": null,
            "align_self": null,
            "height": null,
            "min_height": null,
            "padding": null,
            "grid_auto_rows": null,
            "grid_gap": null,
            "max_width": null,
            "order": null,
            "_view_module_version": "1.2.0",
            "grid_template_areas": null,
            "object_position": null,
            "object_fit": null,
            "grid_auto_columns": null,
            "margin": null,
            "display": null,
            "left": null
          }
        }
      }
    }
  },
  "cells": [
    {
      "cell_type": "markdown",
      "metadata": {
        "id": "view-in-github",
        "colab_type": "text"
      },
      "source": [
        "<a href=\"https://colab.research.google.com/github/JungOhLee/GDL_pytorch/blob/shcho/shcho_chapter4_wgan_cifar_20200223_v09.ipynb\" target=\"_parent\"><img src=\"https://colab.research.google.com/assets/colab-badge.svg\" alt=\"Open In Colab\"/></a>"
      ]
    },
    {
      "cell_type": "code",
      "metadata": {
        "id": "8Mz5yuU5aSmJ",
        "colab_type": "code",
        "outputId": "c923af02-4c74-4861-d5f8-0cb8a13cd756",
        "colab": {
          "base_uri": "https://localhost:8080/",
          "height": 127
        }
      },
      "source": [
        "from google.colab import auth\n",
        "auth.authenticate_user()\n",
        "from google.colab import drive\n",
        "drive.mount('/content/drive')"
      ],
      "execution_count": 1,
      "outputs": [
        {
          "output_type": "stream",
          "text": [
            "Go to this URL in a browser: https://accounts.google.com/o/oauth2/auth?client_id=947318989803-6bn6qk8qdgf4n4g3pfee6491hc0brc4i.apps.googleusercontent.com&redirect_uri=urn%3aietf%3awg%3aoauth%3a2.0%3aoob&response_type=code&scope=email%20https%3a%2f%2fwww.googleapis.com%2fauth%2fdocs.test%20https%3a%2f%2fwww.googleapis.com%2fauth%2fdrive%20https%3a%2f%2fwww.googleapis.com%2fauth%2fdrive.photos.readonly%20https%3a%2f%2fwww.googleapis.com%2fauth%2fpeopleapi.readonly\n",
            "\n",
            "Enter your authorization code:\n",
            "··········\n",
            "Mounted at /content/drive\n"
          ],
          "name": "stdout"
        }
      ]
    },
    {
      "cell_type": "code",
      "metadata": {
        "id": "OVrkRlIEaa_n",
        "colab_type": "code",
        "colab": {}
      },
      "source": [
        "from torch import nn\n",
        "import torch\n",
        "from torch.utils.data import DataLoader\n",
        "import torch.optim as optim\n",
        "import  tarfile\n",
        "from torchsummary import summary as ptsum\n",
        "import torch.autograd as autograd\n",
        "import png\n",
        "\n",
        "from PIL import Image"
      ],
      "execution_count": 0,
      "outputs": []
    },
    {
      "cell_type": "markdown",
      "metadata": {
        "id": "sPiGihCWbsIC",
        "colab_type": "text"
      },
      "source": [
        ""
      ]
    },
    {
      "cell_type": "code",
      "metadata": {
        "id": "-4ZWoSB2bpRd",
        "colab_type": "code",
        "colab": {}
      },
      "source": [
        "device = torch.device('cuda' if torch.cuda.is_available() else 'cpu')"
      ],
      "execution_count": 0,
      "outputs": []
    },
    {
      "cell_type": "code",
      "metadata": {
        "id": "oM4EDvU4aaDj",
        "colab_type": "code",
        "colab": {}
      },
      "source": [
        "import numpy as np\n",
        "import os\n",
        "import matplotlib.pyplot as plt\n",
        "import collections\n",
        "from torch.autograd import Variable\n",
        "import warnings\n",
        "warnings.filterwarnings(action='ignore')"
      ],
      "execution_count": 0,
      "outputs": []
    },
    {
      "cell_type": "code",
      "metadata": {
        "id": "hf1kVGW6abBT",
        "colab_type": "code",
        "colab": {}
      },
      "source": [
        "from tqdm import tqdm_notebook as tqdm"
      ],
      "execution_count": 0,
      "outputs": []
    },
    {
      "cell_type": "code",
      "metadata": {
        "id": "9qTYkwRsZjaC",
        "colab_type": "code",
        "colab": {}
      },
      "source": [
        "def convert(data):\n",
        "    if isinstance(data, bytes):  return data.decode('ascii')\n",
        "    if isinstance(data, dict):   return dict(map(convert, data.items()))\n",
        "    if isinstance(data, tuple):  return map(convert, data)\n",
        "    return data"
      ],
      "execution_count": 0,
      "outputs": []
    },
    {
      "cell_type": "code",
      "metadata": {
        "id": "-A8xzyynY2U9",
        "colab_type": "code",
        "colab": {}
      },
      "source": [
        "def unpickle(file):\n",
        "    import pickle\n",
        "    with open(file, 'rb') as fo:\n",
        "        dict = pickle.load(fo, encoding='bytes')\n",
        "    return dict"
      ],
      "execution_count": 0,
      "outputs": []
    },
    {
      "cell_type": "code",
      "metadata": {
        "id": "KrlHmBf5ZbLr",
        "colab_type": "code",
        "colab": {}
      },
      "source": [
        "DATA_HOME_DIR = './drive/My Drive/Colab Notebooks/mlstudy/gan/gdl_code/data/cifar-10-batches-py/'"
      ],
      "execution_count": 0,
      "outputs": []
    },
    {
      "cell_type": "code",
      "metadata": {
        "id": "OeB1T3jCavqF",
        "colab_type": "code",
        "colab": {}
      },
      "source": [
        "data_files = [item for item in os.listdir(DATA_HOME_DIR) if item not in ['readme.html', 'batches.meta']]"
      ],
      "execution_count": 0,
      "outputs": []
    },
    {
      "cell_type": "code",
      "metadata": {
        "id": "4xA7L8kkZoov",
        "colab_type": "code",
        "colab": {}
      },
      "source": [
        "data_dict_list = []\n",
        "for item in data_files:\n",
        "  DATA_DIR = DATA_HOME_DIR + item\n",
        "  data_dict  = convert(unpickle(DATA_DIR))\n",
        "\n",
        "  data_dict_list.append(data_dict)"
      ],
      "execution_count": 0,
      "outputs": []
    },
    {
      "cell_type": "code",
      "metadata": {
        "id": "WhxoR29S_-jc",
        "colab_type": "code",
        "outputId": "f0b62732-11ef-4b82-bb10-4de346a239d5",
        "colab": {
          "base_uri": "https://localhost:8080/",
          "height": 35
        }
      },
      "source": [
        "len(data_dict_list)"
      ],
      "execution_count": 11,
      "outputs": [
        {
          "output_type": "execute_result",
          "data": {
            "text/plain": [
              "6"
            ]
          },
          "metadata": {
            "tags": []
          },
          "execution_count": 11
        }
      ]
    },
    {
      "cell_type": "code",
      "metadata": {
        "id": "Ka1X_Hqyaa9p",
        "colab_type": "code",
        "colab": {}
      },
      "source": [
        "_x_train = []\n",
        "for item in data_dict_list:\n",
        "  for _label, _data in zip(item['labels'], item['data']):\n",
        "    if _label == 7:\n",
        "      _x_train.append(_data)"
      ],
      "execution_count": 0,
      "outputs": []
    },
    {
      "cell_type": "code",
      "metadata": {
        "id": "IBmV_r0zAIun",
        "colab_type": "code",
        "outputId": "b82032b7-9b5c-44c9-9b31-7e5107e89be2",
        "colab": {
          "base_uri": "https://localhost:8080/",
          "height": 35
        }
      },
      "source": [
        "len(_x_train)"
      ],
      "execution_count": 13,
      "outputs": [
        {
          "output_type": "execute_result",
          "data": {
            "text/plain": [
              "6000"
            ]
          },
          "metadata": {
            "tags": []
          },
          "execution_count": 13
        }
      ]
    },
    {
      "cell_type": "code",
      "metadata": {
        "id": "vY7SjB2Yd3oR",
        "colab_type": "code",
        "colab": {}
      },
      "source": [
        "_x_train_stacked = np.stack(_x_train)"
      ],
      "execution_count": 0,
      "outputs": []
    },
    {
      "cell_type": "code",
      "metadata": {
        "id": "LOZ9DLLLd7qi",
        "colab_type": "code",
        "outputId": "9dff4d7d-cf34-4c8a-cc06-6251963b9e78",
        "colab": {
          "base_uri": "https://localhost:8080/",
          "height": 35
        }
      },
      "source": [
        "_x_train_stacked.shape"
      ],
      "execution_count": 15,
      "outputs": [
        {
          "output_type": "execute_result",
          "data": {
            "text/plain": [
              "(6000, 3072)"
            ]
          },
          "metadata": {
            "tags": []
          },
          "execution_count": 15
        }
      ]
    },
    {
      "cell_type": "code",
      "metadata": {
        "id": "sa3wGISwcyzo",
        "colab_type": "code",
        "colab": {}
      },
      "source": [
        "x_train = _x_train_stacked.reshape(-1,3,32,32)/255\n",
        "for_figure_x_train = x_train.transpose([0,2,3,1])"
      ],
      "execution_count": 0,
      "outputs": []
    },
    {
      "cell_type": "code",
      "metadata": {
        "id": "kevb_ct5aa7v",
        "colab_type": "code",
        "outputId": "9d832aaf-c2a7-4043-d1ab-4a5ae9e388e1",
        "colab": {
          "base_uri": "https://localhost:8080/",
          "height": 35
        }
      },
      "source": [
        "for_figure_x_train.shape"
      ],
      "execution_count": 17,
      "outputs": [
        {
          "output_type": "execute_result",
          "data": {
            "text/plain": [
              "(6000, 32, 32, 3)"
            ]
          },
          "metadata": {
            "tags": []
          },
          "execution_count": 17
        }
      ]
    },
    {
      "cell_type": "code",
      "metadata": {
        "id": "NbpkQZH5aa5Z",
        "colab_type": "code",
        "outputId": "1e76e906-9036-4c54-8244-cb6c8a6cdfa1",
        "colab": {
          "base_uri": "https://localhost:8080/",
          "height": 284
        }
      },
      "source": [
        "plt.imshow(for_figure_x_train[3,:,:,:])"
      ],
      "execution_count": 18,
      "outputs": [
        {
          "output_type": "execute_result",
          "data": {
            "text/plain": [
              "<matplotlib.image.AxesImage at 0x7f8694dbcba8>"
            ]
          },
          "metadata": {
            "tags": []
          },
          "execution_count": 18
        },
        {
          "output_type": "display_data",
          "data": {
            "image/png": "[encoded data removed]",
            "text/plain": [
              "<Figure size 432x288 with 1 Axes>"
            ]
          },
          "metadata": {
            "tags": []
          }
        }
      ]
    },
    {
      "cell_type": "markdown",
      "metadata": {
        "id": "kh68_i5Uaa3P",
        "colab_type": "text"
      },
      "source": [
        "## Architecture"
      ]
    },
    {
      "cell_type": "code",
      "metadata": {
        "id": "n_MzSex5aa2G",
        "colab_type": "code",
        "colab": {}
      },
      "source": [
        "class Discriminator_PT(nn.Module): # GAN Pytorch\n",
        "    def __init__(self\n",
        "        , input_dim\n",
        "        , discriminator_conv_filters\n",
        "        , discriminator_conv_kernel_size\n",
        "        , discriminator_conv_strides\n",
        "        , discriminator_batch_norm_momentum\n",
        "        , discriminator_activation\n",
        "        , discriminator_dropout_rate\n",
        "        , discriminator_learning_rate\n",
        "        , optimiser\n",
        "        , z_dim\n",
        "        , activation_function\n",
        "        ):\n",
        "        \n",
        "        super(Discriminator_PT, self).__init__()\n",
        "\n",
        "        self.name = 'gan'\n",
        "\n",
        "        self.input_dim = input_dim\n",
        "        \n",
        "        ## discriminator\n",
        "        self.discriminator_conv_filters_input = [input_dim[0]] + discriminator_conv_filters[:-1]\n",
        "        self.discriminator_conv_filters_output = discriminator_conv_filters\n",
        "        self.discriminator_conv_kernel_size = discriminator_conv_kernel_size\n",
        "        self.discriminator_conv_strides = discriminator_conv_strides\n",
        "        self.discriminator_batch_norm_momentum = discriminator_batch_norm_momentum\n",
        "        self.discriminator_activation = discriminator_activation\n",
        "        self.discriminator_dropout_rate = discriminator_dropout_rate\n",
        "        self.discriminator_learning_rate = discriminator_learning_rate\n",
        "        self.activation_function = activation_function\n",
        "\n",
        "        \n",
        "        self.z_dim = z_dim\n",
        "\n",
        "        self.n_layers_discriminator = len(discriminator_conv_filters)\n",
        "\n",
        "        # initializer\n",
        "        self.weight_init = torch.normal(mean=torch.Tensor([0.]), std=0.02)\n",
        "\n",
        "        self.d_losses = []\n",
        "        self.g_losses = []\n",
        "\n",
        "        self.epoch = 0\n",
        "        \n",
        "        self.discriminator_conv_layers = nn.Sequential()\n",
        "        self.discriminator_output_shape = collections.OrderedDict()\n",
        "        \n",
        "        self.discriminator_output_shape['Input'] = self.input_dim\n",
        "\n",
        "        self._build_discriminator()\n",
        "\n",
        "    def _build_discriminator(self):\n",
        "\n",
        "        print('Build Discriminator')\n",
        "        current_layer_name = 'Input'\n",
        "        current_input_shape = self.discriminator_output_shape[current_layer_name]\n",
        "        \n",
        "        for i in range(self.n_layers_discriminator):\n",
        "            \n",
        "            current_filter, input_H, input_W = current_input_shape\n",
        "            current_layer_name = 'Layer {} Conv2d'.format(i)\n",
        "            \n",
        "            kernel_H, kernel_W = self.discriminator_conv_kernel_size[i]\n",
        "            stride_H, stride_W  = self.discriminator_conv_strides[i]\n",
        "            \n",
        "            _output_H = int((input_H-kernel_H)/stride_H) + 1 # int 논리 맞는지 확인\n",
        "            _output_W = int((input_W-kernel_W)/stride_W) + 1\n",
        "            \n",
        "            target_output_H = np.ceil(input_H/stride_H)\n",
        "            target_output_W = np.ceil(input_W/stride_W)\n",
        "            \n",
        "            if target_output_H != _output_H:\n",
        "                padding_H = int(np.ceil(((target_output_H-1)*stride_H-input_H+kernel_H)/2))\n",
        "            else:\n",
        "                padding_H = 0\n",
        "                \n",
        "            if target_output_W != _output_W:\n",
        "                padding_W = int(np.ceil(((target_output_W-1)*stride_W-input_W+kernel_W)/2))\n",
        "            else:\n",
        "                padding_W = 0\n",
        "            \n",
        "            output_H = int((input_H-kernel_H+2*padding_H)/stride_H) + 1\n",
        "            output_W = int((input_W-kernel_W+2*padding_W)/stride_W) + 1\n",
        "            \n",
        "            print(output_H, output_W)\n",
        "            \n",
        "            self.discriminator_output_shape[current_layer_name] = [self.discriminator_conv_filters_output[i], output_H, output_W]\n",
        "            current_input_shape = self.discriminator_output_shape[current_layer_name]\n",
        "            \n",
        "            conv = nn.Conv2d(\n",
        "                        self.discriminator_conv_filters_input[i]\n",
        "                        , self.discriminator_conv_filters_output[i]\n",
        "                        , kernel_size = self.discriminator_conv_kernel_size[i]\n",
        "                        , stride = self.discriminator_conv_strides[i]\n",
        "                        , padding = (padding_H, padding_W)\n",
        "#                         , kernel_initializer = self.weight_init\n",
        "                        )\n",
        "            # conv.weight.data.apply_(self.weight_init)\n",
        "\n",
        "            self.discriminator_conv_layers.add_module(\n",
        "                current_layer_name,\n",
        "                conv\n",
        "            )\n",
        "\n",
        "            if self.discriminator_batch_norm_momentum and i > 0:\n",
        "                self.discriminator_conv_layers.add_module('Layer {} BatchNorm2d'.format(i), \n",
        "                                            nn.BatchNorm2d(self.discriminator_conv_filters_output[i],\n",
        "                                                          momentum=self.discriminator_batch_norm_momentum))\n",
        "\n",
        "            self.discriminator_conv_layers.add_module('Layer {} LeakyReLU'.format(i), nn.LeakyReLU())\n",
        "\n",
        "            if self.discriminator_dropout_rate:\n",
        "                self.discriminator_conv_layers.add_module('Layer {} Dropout2d'.format(i), nn.Dropout2d(p=self.discriminator_dropout_rate))\n",
        "            \n",
        "        self.discriminator_cnn_output_shape = current_input_shape\n",
        "        \n",
        "        self.discriminator_flattened_shape = np.prod(self.discriminator_cnn_output_shape)\n",
        "\n",
        "        \n",
        "        ## Flatten 층 생성\n",
        "        ## 역시 이 전에 reshaping은 forward에서\n",
        "        self.discriminator_flattened = nn.Linear(self.discriminator_flattened_shape, 1)\n",
        "        self.Sigmoid = nn.Sigmoid()\n",
        "\n",
        "    def forward(self, x):\n",
        "        \n",
        "        x = self.discriminator_conv_layers(x)\n",
        "        x = x.reshape(x.size()[0],-1)\n",
        "        \n",
        "#         print(x.shape)\n",
        "        \n",
        "        x = self.discriminator_flattened(x)\n",
        "\n",
        "        if self.activation_function == 'Sigmoid':\n",
        "          x = self.Sigmoid(x)\n",
        "        \n",
        "        \n",
        "        return x\n"
      ],
      "execution_count": 0,
      "outputs": []
    },
    {
      "cell_type": "code",
      "metadata": {
        "id": "cbiH1Kx3aayt",
        "colab_type": "code",
        "colab": {}
      },
      "source": [
        "## generator 는 똑같다.\n",
        "\n",
        "class Generator_PT(nn.Module): # GAN Pytorch\n",
        "    def __init__(self\n",
        "        , generator_initial_dense_layer_size\n",
        "        , input_dim\n",
        "        , generator_upsample\n",
        "        , generator_conv_filters\n",
        "        , generator_conv_kernel_size\n",
        "        , generator_conv_strides\n",
        "        , generator_batch_norm_momentum\n",
        "        , generator_activation\n",
        "        , generator_dropout_rate\n",
        "        , generator_learning_rate\n",
        "        , optimiser\n",
        "        , z_dim\n",
        "        , discriminator_output_shape\n",
        "        , discriminator_cnn_output_shape\n",
        "        ):\n",
        "        \n",
        "        super(Generator_PT, self).__init__()\n",
        "\n",
        "        # Necessary information from discriminator\n",
        "        self.discriminator_output_shape = discriminator_output_shape\n",
        "        self.discriminator_cnn_output_shape = discriminator_cnn_output_shape\n",
        "        \n",
        "        self.name = 'gan'\n",
        "        self.input_dim = input_dim\n",
        "        \n",
        "        ## generator\n",
        "        self.generator_initial_dense_layer_size = generator_initial_dense_layer_size\n",
        "        self.generator_upsample = generator_upsample\n",
        "        self.generator_conv_filters_input = [self.generator_initial_dense_layer_size[0]] + generator_conv_filters[:-1]\n",
        "        self.generator_conv_filters_output = generator_conv_filters\n",
        "        self.generator_conv_kernel_size = generator_conv_kernel_size\n",
        "        self.generator_conv_strides = generator_conv_strides\n",
        "        self.generator_batch_norm_momentum = generator_batch_norm_momentum\n",
        "        self.generator_activation = generator_activation\n",
        "        self.generator_dropout_rate = generator_dropout_rate\n",
        "        self.generator_learning_rate = generator_learning_rate\n",
        "        \n",
        "        self.z_dim = z_dim\n",
        "\n",
        "        self.n_layers_generator = len(generator_conv_filters)\n",
        "\n",
        "        # initializer\n",
        "        self.weight_init = torch.normal(mean=torch.Tensor([0.]), std=0.02)\n",
        "\n",
        "        self.d_losses = []\n",
        "        self.g_losses = []\n",
        "\n",
        "        self.epoch = 0\n",
        "                \n",
        "        self.generator_conv_layers = nn.Sequential()\n",
        "        self.generator_output_shape = collections.OrderedDict()\n",
        "        \n",
        "        self.generator_initial_layers = nn.Sequential()\n",
        "        \n",
        "        self.generator_output_shape['Input'] = self.input_dim\n",
        "        self.generator_output_shape['Input'] = self.generator_initial_dense_layer_size\n",
        "\n",
        "\n",
        "        self._build_generator()\n",
        "\n",
        "    def get_activation(self, activation):\n",
        "        if activation == 'leaky_relu':\n",
        "            layer = LeakyReLU(alpha = 0.2)\n",
        "        else:\n",
        "            layer = Activation(activation)\n",
        "        return layer\n",
        "\n",
        "    def _build_generator(self):\n",
        "\n",
        "        print('Build Generator')\n",
        "        ### THE generator\n",
        "\n",
        "        self.generator_initial_layers.add_module('Layer Generator Input', \n",
        "                                            nn.Linear(self.z_dim, np.prod(self.generator_initial_dense_layer_size)))\n",
        "\n",
        "        self.generator_initial_layers.add_module('Layer Generator Input LeakyReLU', nn.LeakyReLU())\n",
        "        \n",
        "        if self.generator_dropout_rate:\n",
        "            self.generator_initial_layers.add_module('Layer Generator Input Dropout2d', nn.Dropout2d(p=self.generator_dropout_rate))\n",
        "            \n",
        "        # 이건 forward가서\n",
        "#         x = Reshape(self.generator_initial_dense_layer_size)(x)\n",
        "        \n",
        "        current_layer_name = 'Input'\n",
        "        current_input_shape = self.generator_output_shape[current_layer_name]\n",
        "        \n",
        "        discriminator_conv_layer_name_list = []\n",
        "        \n",
        "#         print(self.discriminator_output_shape)\n",
        "        \n",
        "        for item in self.discriminator_output_shape:\n",
        "            discriminator_conv_layer_name_list.append(item)\n",
        "        discriminator_conv_layer_name_list.reverse()\n",
        "\n",
        "#         print(discriminator_conv_layer_name_list)\n",
        "        for i, discriminator_layer_name in zip(range(self.n_layers_generator), discriminator_conv_layer_name_list[1:]):\n",
        "            \n",
        "#             print(discriminator_layer_name)\n",
        "            \n",
        "            discriminator_layer_shape = self.discriminator_output_shape[discriminator_layer_name]\n",
        "            \n",
        "            current_filter, input_H, input_W = discriminator_layer_shape\n",
        "            current_layer_name = 'Layer {} Conv2d'.format(i)\n",
        "\n",
        "        \n",
        "            if self.generator_upsample[i] == 2:\n",
        "                \n",
        "                current_filter, input_H, input_W = current_input_shape\n",
        "                \n",
        "                input_H = input_H*self.generator_upsample[i]\n",
        "                input_W = input_W*self.generator_upsample[i]\n",
        "                \n",
        "                current_layer_name = 'Layer {} Conv2d'.format(i)\n",
        "\n",
        "                kernel_H, kernel_W = self.generator_conv_kernel_size[i]\n",
        "                stride_H, stride_W  = self.generator_conv_strides[i]\n",
        "\n",
        "                _output_H = int((input_H-kernel_H)/stride_H) + 1\n",
        "                _output_W = int((input_W-kernel_W)/stride_W) + 1\n",
        "\n",
        "                target_output_H = int(input_H/stride_H)\n",
        "                target_output_W = int(input_W/stride_W)\n",
        "\n",
        "                if target_output_H != _output_H:\n",
        "                    padding_H = int(np.ceil(((target_output_H-1)*stride_H-input_H+kernel_H)/2))\n",
        "                else:\n",
        "                    padding_H = 0\n",
        "\n",
        "                if target_output_W != _output_W:\n",
        "                    padding_W = int(np.ceil(((target_output_W-1)*stride_W-input_W+kernel_W)/2))\n",
        "                else:\n",
        "                    padding_W = 0\n",
        "\n",
        "                output_H = int((input_H-kernel_H+2*padding_H)/stride_H) + 1\n",
        "                output_W = int((input_W-kernel_W+2*padding_W)/stride_W) + 1\n",
        "                \n",
        "                self.generator_output_shape[current_layer_name] = [self.generator_conv_filters_output[i], output_H, output_W]\n",
        "                current_input_shape = self.generator_output_shape[current_layer_name]\n",
        "                \n",
        "\n",
        "                self.generator_conv_layers.add_module('Layer {} Upsample'.format(i),\n",
        "                                            nn.Upsample(scale_factor=self.generator_upsample[i])\n",
        "                                           )\n",
        "                \n",
        "\n",
        "                self.generator_conv_layers.add_module(\n",
        "                    current_layer_name,\n",
        "                    nn.Conv2d(\n",
        "                            self.generator_conv_filters_input[i]\n",
        "                            , self.generator_conv_filters_output[i]\n",
        "                            , kernel_size = self.generator_conv_kernel_size[i]\n",
        "                            , stride = self.generator_conv_strides[i]\n",
        "                            , padding = (padding_H, padding_W)\n",
        "    #                         , kernel_initializer = self.weight_init\n",
        "                            )\n",
        "                )\n",
        "                \n",
        "            else:\n",
        "                \n",
        "                # defining size\n",
        "                current_filter, input_H, input_W = current_input_shape\n",
        "                current_layer_name = 'Layer {} Conv2d'.format(i)\n",
        "\n",
        "                kernel_H, kernel_W = self.generator_conv_kernel_size[i]\n",
        "                stride_H, stride_W = self.generator_conv_strides[i]\n",
        "\n",
        "                target_output_H = max(input_H*stride_H,discriminator_layer_shape[1])\n",
        "                target_output_W = max(input_W*stride_W,discriminator_layer_shape[2])\n",
        "\n",
        "                padding_output_padding_H = (input_H - 1) * stride_H + (kernel_H - 1) + 1 - target_output_H\n",
        "                padding_output_padding_W = (input_W - 1) * stride_W + (kernel_W - 1) + 1 - target_output_W\n",
        "                \n",
        "                if padding_output_padding_H%2==0:\n",
        "                    output_padding_H = 0\n",
        "                    padding_H = int(padding_output_padding_H/2)\n",
        "                else:\n",
        "                    output_padding_H = max(stride_H-1,0)\n",
        "                    padding_H = int((padding_output_padding_H+output_padding_H)/2)\n",
        "                    \n",
        "                if padding_output_padding_W%2==0:\n",
        "                    output_padding_W = 0\n",
        "                    padding_W = int(padding_output_padding_W/2)\n",
        "                else:\n",
        "                    output_padding_W = max(stride_W-1,0)\n",
        "                    padding_W = int((padding_output_padding_W+output_padding_W)/2)\n",
        "\n",
        "                # padding_H = max(0, padding_H)\n",
        "                # padding_W = max(0, padding_W)\n",
        "                    \n",
        "                output_H = (input_H-1)*stride_H + (kernel_H-1)+1 - 2 * padding_H + output_padding_H\n",
        "                output_W = (input_W-1)*stride_W + (kernel_W-1)+1 - 2 * padding_W + output_padding_W\n",
        "\n",
        "                self.generator_output_shape[current_layer_name] = [self.generator_conv_filters_output[i], output_H, output_W]\n",
        "                current_input_shape = self.generator_output_shape[current_layer_name]\n",
        "                \n",
        "                # print('\\n')\n",
        "                # print(output_H, target_output_H, padding_H, output_padding_H, stride_H, kernel_H)\n",
        "\n",
        "                # self.output_shape[current_layer_name] = [self.generator_conv_filters_output[i], output_H, output_W]\n",
        "                # current_input_shape = self.output_shape[current_layer_name]\n",
        "\n",
        "                self.generator_conv_layers.add_module(current_layer_name,\n",
        "                                nn.ConvTranspose2d(self.generator_conv_filters_input[i]\n",
        "                                        , self.generator_conv_filters_output[i]\n",
        "                                        , kernel_size = self.generator_conv_kernel_size[i]\n",
        "                                        , stride = self.generator_conv_strides[i]\n",
        "                                        , padding = (padding_H, padding_W)\n",
        "                                        , output_padding = (output_padding_H, output_padding_W)\n",
        "                                        ))\n",
        "\n",
        "            print(output_H, output_W, padding_H, padding_W)\n",
        "                \n",
        "            if i < self.n_layers_generator - 1:\n",
        "\n",
        "                if self.generator_batch_norm_momentum:\n",
        "                    self.generator_conv_layers.add_module('Layer {} BatchNorm2d'.format(i), \n",
        "                                                nn.BatchNorm2d(self.generator_conv_filters_output[i],\n",
        "                                                              momentum=self.generator_batch_norm_momentum))\n",
        "\n",
        "                self.generator_conv_layers.add_module('Layer {} LeakyReLU'.format(i), nn.LeakyReLU())\n",
        "                    \n",
        "                \n",
        "            # else:\n",
        "\n",
        "            self.tanh = nn.Tanh()\n",
        "\n",
        "\n",
        "        # 이 부분도 forward로\n",
        "#         generator_output = x\n",
        "\n",
        "#         self.generator = Model(generator_input, generator_output)\n",
        "\n",
        "\n",
        "    def forward(self, x):\n",
        "        \n",
        "        \n",
        "        x = self.generator_initial_layers(x)\n",
        "        # print(x.shape)\n",
        "        \n",
        "        x = x.reshape([x.size()[0]]+list(self.generator_initial_dense_layer_size))\n",
        "        \n",
        "        x = self.generator_conv_layers(x)\n",
        "        x = self.tanh(x)\n",
        "        \n",
        "        return x\n",
        "\n"
      ],
      "execution_count": 0,
      "outputs": []
    },
    {
      "cell_type": "code",
      "metadata": {
        "id": "nH6DOaSGfxV9",
        "colab_type": "code",
        "colab": {}
      },
      "source": [
        "z_dim = 100"
      ],
      "execution_count": 0,
      "outputs": []
    },
    {
      "cell_type": "code",
      "metadata": {
        "id": "QmFgaVFdjvPD",
        "colab_type": "code",
        "colab": {}
      },
      "source": [
        "input_dim = (3, 32, 32)"
      ],
      "execution_count": 0,
      "outputs": []
    },
    {
      "cell_type": "code",
      "metadata": {
        "id": "7sst1KTwslGS",
        "colab_type": "code",
        "colab": {}
      },
      "source": [
        "activation_function = 'WGANGP'"
      ],
      "execution_count": 0,
      "outputs": []
    },
    {
      "cell_type": "code",
      "metadata": {
        "id": "gEKYgsy-Aprk",
        "colab_type": "code",
        "colab": {}
      },
      "source": [
        "activation_function = 'Sigmoid'"
      ],
      "execution_count": 0,
      "outputs": []
    },
    {
      "cell_type": "code",
      "metadata": {
        "id": "668V6wCO-l2V",
        "colab_type": "code",
        "colab": {}
      },
      "source": [
        "activation_function = 'WGAN'"
      ],
      "execution_count": 0,
      "outputs": []
    },
    {
      "cell_type": "code",
      "metadata": {
        "id": "wHizhS16xJaP",
        "colab_type": "code",
        "colab": {}
      },
      "source": [
        "if activation_function == 'Sigmoid':\n",
        "  discriminator_learning_rate = 0.0008\n",
        "  generator_learning_rate = 0.0004\n",
        "else:\n",
        "  discriminator_learning_rate = 0.00005\n",
        "  generator_learning_rate = 0.00005"
      ],
      "execution_count": 0,
      "outputs": []
    },
    {
      "cell_type": "markdown",
      "metadata": {
        "id": "HTFGVZL7tNRN",
        "colab_type": "text"
      },
      "source": [
        "device = 'cpu'"
      ]
    },
    {
      "cell_type": "code",
      "metadata": {
        "id": "cnyHdhg6aauk",
        "colab_type": "code",
        "outputId": "a208a9e3-b9d9-4ca9-dc6b-6166216de497",
        "colab": {
          "base_uri": "https://localhost:8080/",
          "height": 107
        }
      },
      "source": [
        "Discriminator = Discriminator_PT(\n",
        "    input_dim = input_dim\n",
        "    , discriminator_conv_filters = [32,64,128,128]\n",
        "    , discriminator_conv_kernel_size = [(5,5),(5,5),(5,5),(5,5)]\n",
        "    , discriminator_conv_strides = [(2,2),(2,2),(2,2),(1,1)]\n",
        "    , discriminator_batch_norm_momentum = 0.5\n",
        "    , discriminator_activation = 'relu'\n",
        "    , discriminator_dropout_rate = 0.4\n",
        "    , discriminator_learning_rate = discriminator_learning_rate\n",
        "    , optimiser = 'rmsprop'\n",
        "    , z_dim = z_dim\n",
        "    , activation_function = activation_function\n",
        "    ).to(device)"
      ],
      "execution_count": 57,
      "outputs": [
        {
          "output_type": "stream",
          "text": [
            "Build Discriminator\n",
            "16 16\n",
            "8 8\n",
            "4 4\n",
            "4 4\n"
          ],
          "name": "stdout"
        }
      ]
    },
    {
      "cell_type": "code",
      "metadata": {
        "id": "U8z_nYgVlEAp",
        "colab_type": "code",
        "outputId": "8020f948-bd56-47ad-c50b-07aa577adb68",
        "colab": {
          "base_uri": "https://localhost:8080/",
          "height": 107
        }
      },
      "source": [
        "Generator = Generator_PT(\n",
        "    input_dim = input_dim\n",
        "    , generator_initial_dense_layer_size = (128, 4, 4)\n",
        "    , generator_upsample = [2,2, 2, 1]\n",
        "    , generator_conv_filters = [128,64, 64,3]\n",
        "    , generator_conv_kernel_size = [(5,5),(5,5),(5,5),(5,5)]\n",
        "    , generator_conv_strides = [(1,1),(1,1), (1,1), (1,1)]\n",
        "    , generator_batch_norm_momentum = 0.8\n",
        "    , generator_dropout_rate = 0.25\n",
        "    , generator_activation = 'relu'\n",
        "    , generator_learning_rate = generator_learning_rate\n",
        "    , optimiser = 'rmsprop'\n",
        "    , z_dim = z_dim\n",
        "    , discriminator_output_shape = Discriminator.discriminator_output_shape\n",
        "    , discriminator_cnn_output_shape = Discriminator.discriminator_cnn_output_shape\n",
        "    ).to(device)"
      ],
      "execution_count": 58,
      "outputs": [
        {
          "output_type": "stream",
          "text": [
            "Build Generator\n",
            "8 8 2 2\n",
            "16 16 2 2\n",
            "32 32 2 2\n",
            "32 32 2 2\n"
          ],
          "name": "stdout"
        }
      ]
    },
    {
      "cell_type": "markdown",
      "metadata": {
        "id": "gHav9Fi7aaqI",
        "colab_type": "text"
      },
      "source": [
        "## 학습"
      ]
    },
    {
      "cell_type": "code",
      "metadata": {
        "id": "nPfH9Z7ollkZ",
        "colab_type": "code",
        "outputId": "2bc52b36-4f9a-42d7-a438-89620048a061",
        "colab": {
          "base_uri": "https://localhost:8080/",
          "height": 35
        }
      },
      "source": [
        "Discriminator.train()\n",
        "Generator.train()\n",
        "print('Train mode')"
      ],
      "execution_count": 59,
      "outputs": [
        {
          "output_type": "stream",
          "text": [
            "Train mode\n"
          ],
          "name": "stdout"
        }
      ]
    },
    {
      "cell_type": "code",
      "metadata": {
        "id": "-RB91ndpaakV",
        "colab_type": "code",
        "colab": {}
      },
      "source": [
        "# Binary Cross Entropy loss\n",
        "criterion = nn.BCELoss().to(device)\n",
        "\n",
        "# 생성자의 매개 변수를 최적화하는 Adam optimizer\n",
        "G_optimizer = optim.RMSprop(Generator.parameters(), lr=Generator.generator_learning_rate)\n",
        "# 구분자의 매개 변수를 최적화하는 Adam optimizer\n",
        "D_optimizer = optim.RMSprop(Discriminator.parameters(), \n",
        "                            lr=Discriminator.discriminator_learning_rate)\n",
        "\n",
        "# optim.RMSprop\n",
        "# optim.Adam"
      ],
      "execution_count": 0,
      "outputs": []
    },
    {
      "cell_type": "code",
      "metadata": {
        "id": "cRKWgdX8aaiR",
        "colab_type": "code",
        "colab": {}
      },
      "source": [
        "x_train_pt = torch.from_numpy(x_train).float().to(device)"
      ],
      "execution_count": 0,
      "outputs": []
    },
    {
      "cell_type": "code",
      "metadata": {
        "id": "ShnanfPCaagf",
        "colab_type": "code",
        "colab": {}
      },
      "source": [
        "EPOCHS = 1"
      ],
      "execution_count": 0,
      "outputs": []
    },
    {
      "cell_type": "code",
      "metadata": {
        "id": "k-qCBwrtaae0",
        "colab_type": "code",
        "colab": {}
      },
      "source": [
        "batch_size = 128"
      ],
      "execution_count": 0,
      "outputs": []
    },
    {
      "cell_type": "code",
      "metadata": {
        "id": "kN8tJ4Iob9Uz",
        "colab_type": "code",
        "outputId": "9bc712c8-39ac-4784-eb0a-b032810ad71f",
        "colab": {
          "base_uri": "https://localhost:8080/",
          "height": 67,
          "referenced_widgets": [
            "9200ea5277a64d0c87ee94fa4452d020",
            "798265ec5e8b4eec89aa3d82ce18823f",
            "13e765533ef54fb29b38206977ba6d7f",
            "bee834a23a8e41b4839e32d3fe5a3831",
            "f8e816eecff448f9b28f2a2f4bd9e752",
            "b4e770f5e16848f6a4197abc2ef44fdc",
            "76b3531d7007450e969aca023de4bad9",
            "adabf7766adb4408a6d3cecc8df25d27"
          ]
        }
      },
      "source": [
        "for epoch in range(EPOCHS):\n",
        "    \n",
        "    for real_data in tqdm(DataLoader(x_train_pt, batch_size = batch_size, shuffle=True)):\n",
        "      pass"
      ],
      "execution_count": 64,
      "outputs": [
        {
          "output_type": "display_data",
          "data": {
            "application/vnd.jupyter.widget-view+json": {
              "model_id": "9200ea5277a64d0c87ee94fa4452d020",
              "version_minor": 0,
              "version_major": 2
            },
            "text/plain": [
              "HBox(children=(IntProgress(value=0, max=47), HTML(value='')))"
            ]
          },
          "metadata": {
            "tags": []
          }
        },
        {
          "output_type": "stream",
          "text": [
            "\n"
          ],
          "name": "stdout"
        }
      ]
    },
    {
      "cell_type": "code",
      "metadata": {
        "id": "X4Y5GbhgdQ69",
        "colab_type": "code",
        "colab": {}
      },
      "source": [
        "EPOCHS = 5000"
      ],
      "execution_count": 0,
      "outputs": []
    },
    {
      "cell_type": "markdown",
      "metadata": {
        "id": "-2hkQJfgqi9x",
        "colab_type": "text"
      },
      "source": [
        "## activation_function\n",
        "\n",
        "이것이 'None'이면 WGAN이다."
      ]
    },
    {
      "cell_type": "code",
      "metadata": {
        "id": "6A2kcB72sflL",
        "colab_type": "code",
        "outputId": "56a9c15f-767e-4c9a-c0b0-c427f11b6148",
        "colab": {
          "base_uri": "https://localhost:8080/",
          "height": 35
        }
      },
      "source": [
        "print(activation_function)"
      ],
      "execution_count": 66,
      "outputs": [
        {
          "output_type": "stream",
          "text": [
            "WGAN\n"
          ],
          "name": "stdout"
        }
      ]
    },
    {
      "cell_type": "code",
      "metadata": {
        "id": "zuubn8M7-8kr",
        "colab_type": "code",
        "colab": {}
      },
      "source": [
        "from torch.autograd import Variable"
      ],
      "execution_count": 0,
      "outputs": []
    },
    {
      "cell_type": "code",
      "metadata": {
        "id": "OlfC8MkHyiDo",
        "colab_type": "code",
        "colab": {}
      },
      "source": [
        "CLIP_THRESHOLD = 0.01"
      ],
      "execution_count": 0,
      "outputs": []
    },
    {
      "cell_type": "code",
      "metadata": {
        "id": "BywL244r9xEu",
        "colab_type": "code",
        "colab": {}
      },
      "source": [
        "def compute_gradient_penalty(D, real_samples, fake_samples):\n",
        "    \"\"\"Calculates the gradient penalty loss for WGAN GP\"\"\"\n",
        "    # Random weight term for interpolation between real and fake samples\n",
        "    alpha = torch.from_numpy(np.random.random((real_samples.size(0), 1, 1, 1))).to(device)\n",
        "    # Get random interpolation between real and fake samples\n",
        "    interpolates = (alpha * real_samples + ((1 - alpha) * fake_samples)).requires_grad_(True)\n",
        "    d_interpolates = D(interpolates.float())\n",
        "    fake = torch.ones(real_samples.shape[0], 1)\n",
        "    # Get gradient w.r.t. interpolates\n",
        "    gradients = autograd.grad(\n",
        "        outputs=d_interpolates,\n",
        "        inputs=interpolates,\n",
        "        grad_outputs=fake,\n",
        "        create_graph=True,\n",
        "        retain_graph=True,\n",
        "        only_inputs=True,\n",
        "    )[0]\n",
        "    gradients = gradients.view(gradients.size(0), -1)\n",
        "    gradient_penalty = ((gradients.norm(2, dim=1) - 1) ** 2).mean()\n",
        "    return gradient_penalty"
      ],
      "execution_count": 0,
      "outputs": []
    },
    {
      "cell_type": "code",
      "metadata": {
        "id": "2jjnBXDa2iPQ",
        "colab_type": "code",
        "colab": {}
      },
      "source": [
        "if activation_function == 'Sigmoid':\n",
        "  discriminator_train_number = 1\n",
        "else:\n",
        "  discriminator_train_number = 5"
      ],
      "execution_count": 0,
      "outputs": []
    },
    {
      "cell_type": "markdown",
      "metadata": {
        "id": "_BvmlzsHzwZu",
        "colab_type": "text"
      },
      "source": [
        "https://github.com/eriklindernoren/PyTorch-GAN/blob/master/implementations/wgan_gp/wgan_gp.py"
      ]
    },
    {
      "cell_type": "markdown",
      "metadata": {
        "id": "5PlYEQ5sVSrt",
        "colab_type": "text"
      },
      "source": [
        "## Clipping 시키는 예시\n",
        "\n",
        "https://github.com/Zeleni9/pytorch-wgan/blob/master/models/wgan_clipping.py"
      ]
    },
    {
      "cell_type": "code",
      "metadata": {
        "id": "RcDDH6I-BECW",
        "colab_type": "code",
        "colab": {}
      },
      "source": [
        "# Loss weight for gradient penalty\n",
        "lambda_gp = 10"
      ],
      "execution_count": 0,
      "outputs": []
    },
    {
      "cell_type": "code",
      "metadata": {
        "id": "5ReZP9GpHKZk",
        "colab_type": "code",
        "outputId": "b0a8fa9d-5628-4f4c-e7f8-c628fce0a902",
        "colab": {
          "base_uri": "https://localhost:8080/",
          "height": 35
        }
      },
      "source": [
        "print(activation_function)"
      ],
      "execution_count": 72,
      "outputs": [
        {
          "output_type": "stream",
          "text": [
            "WGAN\n"
          ],
          "name": "stdout"
        }
      ]
    },
    {
      "cell_type": "code",
      "metadata": {
        "id": "-6X0JMB5MqnC",
        "colab_type": "code",
        "colab": {}
      },
      "source": [
        "try:\n",
        "  restart_epoch = epoch\n",
        "except:\n",
        "  restart_epoch = 0"
      ],
      "execution_count": 0,
      "outputs": []
    },
    {
      "cell_type": "code",
      "metadata": {
        "id": "H_tf6blIaacZ",
        "colab_type": "code",
        "outputId": "fa1fba3c-7f44-4ef8-e150-189ff790337b",
        "colab": {
          "base_uri": "https://localhost:8080/",
          "height": 1000
        }
      },
      "source": [
        "try:\n",
        "  restart_epoch = epoch\n",
        "except:\n",
        "  restart_epoch = 0\n",
        "\n",
        "for epoch in range(restart_epoch, EPOCHS):\n",
        "  \n",
        "  total_D_loss = 0\n",
        "  total_G_loss = 0\n",
        "  \n",
        "  batch_count_for_generator = 0\n",
        "  # for real_data in tqdm(DataLoader(x_train_pt, batch_size = batch_size, shuffle=True)):\n",
        "  for real_data in DataLoader(x_train_pt, batch_size = batch_size, shuffle=True):\n",
        "    # print(batch_count_for_generator)\n",
        "    real_data_shape = real_data.shape[0]\n",
        "\n",
        "    if real_data_shape!=batch_size:\n",
        "      continue\n",
        "\n",
        "    target_real = Variable(torch.ones(real_data_shape, 1)).float().to(device)\n",
        "\n",
        "    ## 판별자\n",
        "    for p in Discriminator.parameters():\n",
        "      p.requires_grad = True  # to avoid computation\n",
        "    for p in Generator.parameters():\n",
        "      p.requires_grad = False  # to avoid computation\n",
        "    D_optimizer.zero_grad()\n",
        "    Discriminator.zero_grad()\n",
        "\n",
        "    if activation_function == 'WGAN':\n",
        "      for p in Discriminator.parameters():\n",
        "        p.data.clamp_(-CLIP_THRESHOLD, CLIP_THRESHOLD)\n",
        "\n",
        "    D_result_from_real = Discriminator(real_data)\n",
        "    z = (torch.randn((real_data_shape, z_dim))).to(device)\n",
        "    fake_data = Generator(z)\n",
        "    D_result_from_fake = Discriminator(fake_data)\n",
        "    \n",
        "    if activation_function == 'Sigmoid':\n",
        "      target_fake = Variable(torch.zeros(real_data_shape, 1)).float().to(device)\n",
        "\n",
        "      D_loss_real = criterion(D_result_from_real, target_real)\n",
        "      D_loss_fake = criterion(D_result_from_fake, target_fake)\n",
        "\n",
        "    else:\n",
        "      target_fake = Variable(torch.ones(real_data_shape, 1)).float().to(device)\n",
        "\n",
        "      # D_loss_real = (D_result_from_real * target_real).mean()\n",
        "      D_loss_real = torch.mean(D_result_from_real)\n",
        "      # from fake는 fake데이터를 discriminator가 평가한것. \n",
        "      # 이것에 target_fake를 곱하면, \n",
        "      # D_loss_fake = (D_result_from_fake * target_fake).mean()\n",
        "      D_loss_fake = torch.mean(D_result_from_fake)\n",
        "\n",
        "    if activation_function == 'WGANGP':\n",
        "      gradient_penalty = compute_gradient_penalty(Discriminator, real_data.data, fake_data.data)\n",
        "    else:\n",
        "      gradient_penalty = torch.from_numpy(np.array([0])).to(device)\n",
        "\n",
        "    if activation_function == 'Sigmoid':\n",
        "      D_loss = D_loss_real + D_loss_fake\n",
        "    elif activation_function == 'WGAN':\n",
        "      D_loss = -1 * (D_loss_real - D_loss_fake)\n",
        "    elif activation_function == 'WGANGP':\n",
        "      D_loss = -1 * (D_loss_real - D_loss_fake) + lambda_gp * gradient_penalty\n",
        "\n",
        "    # Discriminator.zero_grad()\n",
        "    D_loss.backward()\n",
        "    D_optimizer.step()\n",
        "\n",
        "    # Clipping weights\n",
        "    # if activation_function == 'WGAN':\n",
        "    #   for temp_layer in Discriminator.discriminator_conv_layers:\n",
        "    #     if hasattr(temp_layer, 'weight'):\n",
        "    #       for temp_p in temp_layer02.parameters():\n",
        "    #         temp_p.data.clamp_(-CLIP_THRESHOLD, CLIP_THRESHOLD)\n",
        "    #   for temp_p in Discriminator.discriminator_flattened.parameters():\n",
        "    #     temp_p.data.clamp_(-CLIP_THRESHOLD, CLIP_THRESHOLD)\n",
        "    \n",
        "\n",
        "\n",
        "    if activation_function == 'Sigmoid':\n",
        "      batch_count_for_generator = 0\n",
        "\n",
        "    # Discriminator.train()\n",
        "    # Generator.train()\n",
        "\n",
        "    if batch_count_for_generator%5==0:\n",
        "      # print('generator',batch_count_for_generator)\n",
        "      for p in Discriminator.parameters():\n",
        "        p.requires_grad = False  # to avoid computation\n",
        "      for p in Generator.parameters():\n",
        "        p.requires_grad = True  # to avoid computation\n",
        "      G_optimizer.zero_grad()\n",
        "      Generator.zero_grad()\n",
        "      batch_count_for_generator = 0\n",
        "\n",
        "      ## 생성자\n",
        "\n",
        "      z = (torch.randn((real_data_shape, 100))).to(device)\n",
        "\n",
        "      fake_data = Generator(z)\n",
        "\n",
        "      D_result_from_fake = Discriminator(fake_data)\n",
        "\n",
        "      if activation_function == 'Sigmoid':\n",
        "        G_loss = criterion(D_result_from_fake, target_real)\n",
        "      else:\n",
        "        # G_loss = -1 * (D_result_from_fake * target_real).mean()\n",
        "        G_loss = -1 * torch.mean(D_result_from_fake)\n",
        "\n",
        "      G_loss.backward()\n",
        "      G_optimizer.step()\n",
        "\n",
        "      total_G_loss+=G_loss.item()\n",
        "\n",
        "    total_D_loss+=D_loss.item()\n",
        "    batch_count_for_generator+=1\n",
        "    \n",
        "    # print('\\t', D_loss.item())\n",
        "    # print('\\t', G_loss.item())\n",
        "\n",
        "  total_D_loss_numeric = round(total_D_loss,6)\n",
        "  total_G_loss_numeric = round(total_G_loss,6)\n",
        "\n",
        "  print_str = str(epoch) + ' ' + str(total_D_loss_numeric) + ' ' + str(total_G_loss_numeric)\n",
        "\n",
        "  print(print_str)\n",
        "\n",
        "  if epoch%10==0:\n",
        "    try:\n",
        "      torch.save(Discriminator.state_dict(), './drive/My Drive/Colab Notebooks/mlstudy/gan/gdl_code/trained_models/Discriminator.pt')\n",
        "      torch.save(Generator.state_dict(), './drive/My Drive/Colab Notebooks/mlstudy/gan/gdl_code/trained_models/Generator.pt')\n",
        "\n",
        "      Generator.eval()\n",
        "      for i in range(10):\n",
        "        generated_image = Generator(torch.randn([1,100]).to(device)).cpu().detach().numpy()[0].transpose(1,2,0)\n",
        "        generated_image02 = (((generated_image - generated_image.min())/((generated_image - generated_image.min()).max()))*255).astype(int)\n",
        "        img = Image.fromarray(np.uint8((generated_image02)))\n",
        "        img.save('./drive/My Drive/Colab Notebooks/mlstudy/gan/gdl_code/fig/image_{}.png'.format(i))\n",
        "      Generator.train()\n",
        "      \n",
        "    except:\n",
        "      pass"
      ],
      "execution_count": 0,
      "outputs": [
        {
          "output_type": "stream",
          "text": [
            "333 -9.2518 1.091965\n",
            "334 -8.957834 1.016505\n",
            "335 -9.331989 1.160553\n",
            "336 -8.642479 1.163365\n",
            "337 -10.007286 1.218336\n",
            "338 -8.874929 1.163759\n",
            "339 -8.524817 1.030848\n",
            "340 -9.177907 1.167954\n",
            "341 -9.021865 1.144822\n",
            "342 -9.563642 1.085433\n",
            "343 -9.530948 1.165575\n",
            "344 -8.998922 1.137707\n",
            "345 -9.134876 1.153312\n",
            "346 -9.49119 1.155174\n",
            "347 -8.748863 0.94522\n",
            "348 -9.882265 1.208\n",
            "349 -8.495804 1.173141\n",
            "350 -9.469656 1.165477\n",
            "351 -9.137828 1.229877\n",
            "352 -9.109135 1.219258\n",
            "353 -9.116688 1.137751\n",
            "354 -9.289638 1.161777\n",
            "355 -9.206695 1.113414\n",
            "356 -8.839629 1.262194\n",
            "357 -9.523347 1.118122\n",
            "358 -9.674909 1.242992\n",
            "359 -8.805984 1.064766\n",
            "360 -9.155401 1.150191\n",
            "361 -9.011026 1.223272\n",
            "362 -9.270594 1.187162\n",
            "363 -10.042325 1.176415\n",
            "364 -8.824216 1.176917\n",
            "365 -9.197322 1.258417\n",
            "366 -9.115946 1.165731\n",
            "367 -9.408002 1.164778\n",
            "368 -9.684373 1.236387\n",
            "369 -8.894471 1.157045\n",
            "370 -8.867021 1.107258\n",
            "371 -9.040951 1.253521\n",
            "372 -9.006661 1.24689\n",
            "373 -9.859563 0.998287\n",
            "374 -9.275534 1.315272\n",
            "375 -9.148767 1.158583\n",
            "376 -9.599768 1.179833\n",
            "377 -8.997547 1.176309\n",
            "378 -8.815691 1.212451\n",
            "379 -9.186366 1.166018\n",
            "380 -9.297651 1.219999\n",
            "381 -9.928699 1.167526\n",
            "382 -8.744896 1.238439\n",
            "383 -8.657789 1.145603\n",
            "384 -8.118856 1.199834\n",
            "385 -8.560816 1.144098\n",
            "386 -8.882618 1.230741\n",
            "387 -9.98656 1.225232\n",
            "388 -9.758732 1.24859\n",
            "389 -8.308393 1.06779\n",
            "390 -9.698639 1.176499\n",
            "391 -8.869156 1.131317\n",
            "392 -9.612896 1.152999\n",
            "393 -9.065964 1.104943\n",
            "394 -8.48732 1.170932\n",
            "395 -8.46116 0.998056\n",
            "396 -8.783746 1.053925\n",
            "397 -8.908643 1.199236\n",
            "398 -9.512332 1.148423\n",
            "399 -9.536009 1.228574\n",
            "400 -9.100243 0.997062\n",
            "401 -9.529559 1.191318\n",
            "402 -9.260251 1.218258\n",
            "403 -8.926366 1.150257\n",
            "404 -8.603661 1.133832\n",
            "405 -8.852401 1.037829\n",
            "406 -8.453856 1.131536\n",
            "407 -9.216186 1.004549\n",
            "408 -8.869268 1.163456\n",
            "409 -8.927909 1.240406\n",
            "410 -9.824159 1.022385\n",
            "411 -8.181228 1.070878\n",
            "412 -9.010899 1.002897\n",
            "413 -9.802517 1.208087\n",
            "414 -8.529012 1.115257\n",
            "415 -8.966968 1.208289\n",
            "416 -9.192746 1.201863\n",
            "417 -8.232192 1.17287\n",
            "418 -10.103244 1.054202\n",
            "419 -8.158682 1.005323\n",
            "420 -8.588467 1.075559\n",
            "421 -8.91494 1.005091\n",
            "422 -8.452386 1.219809\n",
            "423 -8.781468 1.004481\n",
            "424 -8.975379 1.152671\n",
            "425 -8.374219 1.057288\n",
            "426 -9.121385 1.126937\n",
            "427 -8.565081 1.127643\n",
            "428 -8.96925 1.062935\n",
            "429 -8.410124 1.138279\n",
            "430 -8.713019 1.033384\n",
            "431 -8.583588 1.214646\n",
            "432 -8.669004 1.156867\n",
            "433 -8.499324 1.066196\n",
            "434 -9.10995 1.162071\n",
            "435 -8.984486 1.270519\n",
            "436 -8.696674 1.147881\n",
            "437 -8.210513 1.034039\n",
            "438 -8.805058 1.159106\n",
            "439 -8.163857 1.180536\n",
            "440 -8.376705 1.237007\n",
            "441 -9.20516 1.047548\n",
            "442 -9.671398 1.166384\n",
            "443 -8.199948 1.139098\n",
            "444 -8.386718 1.103396\n",
            "445 -8.186315 1.187551\n",
            "446 -8.736913 1.145953\n",
            "447 -8.382063 1.177454\n",
            "448 -9.068977 1.031341\n",
            "449 -8.17304 1.289932\n",
            "450 -9.145787 1.153558\n",
            "451 -8.329465 0.981261\n",
            "452 -8.235401 1.158137\n",
            "453 -9.062682 0.988218\n",
            "454 -8.095081 1.053026\n",
            "455 -9.34404 1.146627\n",
            "456 -8.619209 1.174978\n",
            "457 -8.80614 1.22479\n",
            "458 -8.261257 1.121356\n",
            "459 -9.100565 1.155717\n",
            "460 -8.500809 1.181883\n",
            "461 -9.768644 1.080165\n",
            "462 -8.46845 1.131091\n",
            "463 -8.582449 1.143059\n",
            "464 -8.840886 1.130472\n",
            "465 -8.62286 1.037304\n",
            "466 -8.194874 1.204504\n",
            "467 -8.760608 1.138496\n",
            "468 -9.244093 1.107246\n",
            "469 -8.749519 1.107587\n",
            "470 -9.269974 1.169394\n",
            "471 -8.3977 1.175453\n",
            "472 -8.865915 1.090442\n",
            "473 -8.232665 1.221381\n",
            "474 -8.806589 1.067788\n",
            "475 -8.167936 1.025793\n",
            "476 -8.039168 1.248757\n",
            "477 -8.116894 1.090469\n",
            "478 -8.396261 1.189411\n",
            "479 -9.407458 1.097077\n",
            "480 -9.082073 1.030342\n",
            "481 -8.376979 1.180347\n",
            "482 -8.005646 1.043122\n",
            "483 -8.511966 1.114346\n",
            "484 -8.671093 1.03696\n",
            "485 -8.790187 1.041153\n",
            "486 -8.364607 0.9548\n",
            "487 -8.470758 1.065868\n",
            "488 -8.114444 1.189488\n",
            "489 -8.093879 1.02777\n",
            "490 -8.77581 1.249862\n",
            "491 -7.874463 1.07086\n",
            "492 -9.03321 1.059031\n",
            "493 -8.286751 1.01633\n",
            "494 -8.248321 1.199586\n",
            "495 -8.076583 1.084286\n",
            "496 -8.139111 1.257121\n",
            "497 -8.793373 1.072026\n",
            "498 -8.999971 1.036156\n",
            "499 -8.539702 1.138971\n",
            "500 -7.554734 1.12867\n",
            "501 -7.622791 0.96716\n",
            "502 -8.04945 1.049607\n",
            "503 -8.385485 1.033473\n",
            "504 -9.055345 1.104294\n",
            "505 -8.684044 1.002733\n",
            "506 -7.403871 0.937859\n",
            "507 -8.495754 1.083224\n",
            "508 -8.210445 0.975227\n",
            "509 -8.548583 1.153159\n",
            "510 -8.305418 1.159705\n",
            "511 -8.964921 1.05632\n",
            "512 -8.622021 1.186284\n",
            "513 -8.610667 0.922868\n",
            "514 -7.99637 1.046138\n",
            "515 -8.510513 1.049749\n",
            "516 -7.841112 0.954495\n",
            "517 -8.065744 0.967643\n",
            "518 -8.077636 1.057584\n",
            "519 -8.420925 1.195963\n",
            "520 -8.432297 1.105885\n",
            "521 -7.729523 1.089588\n",
            "522 -8.912957 1.181515\n",
            "523 -8.371236 1.140818\n",
            "524 -9.609302 1.090108\n",
            "525 -7.382615 1.170709\n",
            "526 -8.074669 1.088205\n",
            "527 -8.619427 1.143405\n",
            "528 -8.142931 1.122732\n",
            "529 -7.703664 1.07587\n",
            "530 -8.64046 1.180594\n",
            "531 -8.772604 0.986149\n",
            "532 -8.074862 0.987262\n",
            "533 -8.00117 1.105221\n",
            "534 -8.328301 1.049796\n",
            "535 -7.788571 1.125217\n",
            "536 -7.506918 0.980588\n",
            "537 -8.335517 1.037437\n",
            "538 -7.975304 1.095827\n",
            "539 -8.130321 1.126818\n",
            "540 -8.439425 1.150584\n",
            "541 -9.100022 1.064783\n",
            "542 -7.902916 1.168664\n",
            "543 -8.48436 1.198359\n",
            "544 -8.548827 1.066635\n",
            "545 -7.992512 1.064055\n",
            "546 -8.897536 1.029991\n",
            "547 -7.638651 1.166374\n",
            "548 -8.978535 1.085471\n",
            "549 -8.086586 1.076674\n",
            "550 -7.812125 1.118407\n",
            "551 -7.825402 1.162587\n",
            "552 -8.330603 1.058979\n",
            "553 -8.56727 0.971107\n",
            "554 -7.691341 1.11251\n",
            "555 -7.541522 1.025435\n",
            "556 -8.738693 1.124424\n",
            "557 -7.884165 1.08087\n",
            "558 -8.067413 1.070721\n",
            "559 -8.097648 1.147032\n"
          ],
          "name": "stdout"
        }
      ]
    },
    {
      "cell_type": "markdown",
      "metadata": {
        "id": "caSmwvfCI4KK",
        "colab_type": "text"
      },
      "source": [
        "## GAN"
      ]
    },
    {
      "cell_type": "code",
      "metadata": {
        "colab_type": "code",
        "id": "r1Mv0S8hcUL5",
        "colab": {}
      },
      "source": [
        "# Generator.eval()\n",
        "# generated_image = Generator(torch.randn([1,100]).to(device)).cpu().detach().numpy()[0].transpose(1,2,0)\n",
        "# generated_image02 = (((generated_image - generated_image.min())/((generated_image - generated_image.min()).max()))*255).astype(int)\n",
        "# img = Image.fromarray(np.uint8((generated_image02)))\n",
        "# Generator.train()\n",
        "# try:\n",
        "#   img.save('./drive/My Drive/Colab Notebooks/mlstudy/gan/gdl_code/fig/image.png')\n",
        "# except:\n",
        "#   pass"
      ],
      "execution_count": 0,
      "outputs": []
    },
    {
      "cell_type": "code",
      "metadata": {
        "id": "mdutjRq6aZsN",
        "colab_type": "code",
        "outputId": "ddf8236d-3bb0-43a1-d63d-d40b84d2dbaf",
        "colab": {
          "base_uri": "https://localhost:8080/",
          "height": 302
        }
      },
      "source": [
        "Generator.eval()\n",
        "plt.imshow(Generator(torch.randn([1,100]).to(device)).cpu().detach().numpy()[0].transpose(1,2,0))\n",
        "Generator.train()"
      ],
      "execution_count": 0,
      "outputs": [
        {
          "output_type": "stream",
          "text": [
            "Clipping input data to the valid range for imshow with RGB data ([0..1] for floats or [0..255] for integers).\n"
          ],
          "name": "stderr"
        },
        {
          "output_type": "execute_result",
          "data": {
            "text/plain": [
              "<matplotlib.image.AxesImage at 0x7f95445d1710>"
            ]
          },
          "metadata": {
            "tags": []
          },
          "execution_count": 665
        },
        {
          "output_type": "display_data",
          "data": {
            "image/png": "[encoded data removed]",
            "text/plain": [
              "<Figure size 432x288 with 1 Axes>"
            ]
          },
          "metadata": {
            "tags": []
          }
        }
      ]
    },
    {
      "cell_type": "markdown",
      "metadata": {
        "id": "k-5gSSF3I6yz",
        "colab_type": "text"
      },
      "source": [
        "## WGAN"
      ]
    },
    {
      "cell_type": "code",
      "metadata": {
        "id": "xmqTocPZI6g6",
        "colab_type": "code",
        "outputId": "8a67c197-8ed6-4b91-9531-3cc318a28f5b",
        "colab": {
          "base_uri": "https://localhost:8080/",
          "height": 302
        }
      },
      "source": [
        "Generator.eval()\n",
        "plt.imshow(Generator(torch.randn([1,100]).to(device)).cpu().detach().numpy()[0].transpose(1,2,0))\n",
        "Generator.train()\n",
        "print(1)"
      ],
      "execution_count": 85,
      "outputs": [
        {
          "output_type": "stream",
          "text": [
            "Clipping input data to the valid range for imshow with RGB data ([0..1] for floats or [0..255] for integers).\n"
          ],
          "name": "stderr"
        },
        {
          "output_type": "stream",
          "text": [
            "1\n"
          ],
          "name": "stdout"
        },
        {
          "output_type": "display_data",
          "data": {
            "image/png": "[encoded data removed]",
            "text/plain": [
              "<Figure size 432x288 with 1 Axes>"
            ]
          },
          "metadata": {
            "tags": []
          }
        }
      ]
    },
    {
      "cell_type": "markdown",
      "metadata": {
        "id": "nY4M8LLpI9Iz",
        "colab_type": "text"
      },
      "source": [
        "## WGAN-GP"
      ]
    },
    {
      "cell_type": "code",
      "metadata": {
        "id": "KZihgzdn4MFq",
        "colab_type": "code",
        "colab": {}
      },
      "source": [
        "plt.imshow(Generator(torch.randn([1,100]).to(device)).cpu().detach().numpy()[0].transpose(1,2,0))"
      ],
      "execution_count": 0,
      "outputs": []
    }
  ]
}