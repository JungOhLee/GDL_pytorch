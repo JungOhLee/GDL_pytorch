{
 "cells": [
  {
   "cell_type": "markdown",
   "metadata": {
    "colab_type": "text",
    "id": "view-in-github"
   },
   "source": [
    "<a href=\"https://colab.research.google.com/github/JungOhLee/GDL_pytorch/blob/shcho/shcho_chapter4_wgan_cifar_20200222_v08.ipynb\" target=\"_parent\"><img src=\"https://colab.research.google.com/assets/colab-badge.svg\" alt=\"Open In Colab\"/></a>"
   ]
  },
  {
   "cell_type": "code",
   "execution_count": 0,
   "metadata": {
    "colab": {
     "base_uri": "https://localhost:8080/",
     "height": 35
    },
    "colab_type": "code",
    "id": "8Mz5yuU5aSmJ",
    "outputId": "76b21dd1-efcc-4d15-f961-81162038f684"
   },
   "outputs": [
    {
     "name": "stdout",
     "output_type": "stream",
     "text": [
      "Drive already mounted at /content/drive; to attempt to forcibly remount, call drive.mount(\"/content/drive\", force_remount=True).\n"
     ]
    }
   ],
   "source": [
    "from google.colab import auth\n",
    "auth.authenticate_user()\n",
    "from google.colab import drive\n",
    "drive.mount('/content/drive')"
   ]
  },
  {
   "cell_type": "code",
   "execution_count": 0,
   "metadata": {
    "colab": {},
    "colab_type": "code",
    "id": "OVrkRlIEaa_n"
   },
   "outputs": [],
   "source": [
    "from torch import nn\n",
    "import torch\n",
    "from torch.utils.data import DataLoader\n",
    "import torch.optim as optim\n",
    "import  tarfile\n",
    "from torchsummary import summary as ptsum\n",
    "import torch.autograd as autograd"
   ]
  },
  {
   "cell_type": "markdown",
   "metadata": {
    "colab_type": "text",
    "id": "sPiGihCWbsIC"
   },
   "source": []
  },
  {
   "cell_type": "code",
   "execution_count": 0,
   "metadata": {
    "colab": {},
    "colab_type": "code",
    "id": "-4ZWoSB2bpRd"
   },
   "outputs": [],
   "source": [
    "device = torch.device('cuda' if torch.cuda.is_available() else 'cpu')"
   ]
  },
  {
   "cell_type": "code",
   "execution_count": 0,
   "metadata": {
    "colab": {},
    "colab_type": "code",
    "id": "oM4EDvU4aaDj"
   },
   "outputs": [],
   "source": [
    "import numpy as np\n",
    "import os\n",
    "import matplotlib.pyplot as plt\n",
    "import collections\n",
    "from torch.autograd import Variable\n",
    "import warnings\n",
    "warnings.filterwarnings(action='ignore')"
   ]
  },
  {
   "cell_type": "code",
   "execution_count": 0,
   "metadata": {
    "colab": {},
    "colab_type": "code",
    "id": "hf1kVGW6abBT"
   },
   "outputs": [],
   "source": [
    "from tqdm import tqdm_notebook as tqdm"
   ]
  },
  {
   "cell_type": "code",
   "execution_count": 0,
   "metadata": {
    "colab": {},
    "colab_type": "code",
    "id": "9qTYkwRsZjaC"
   },
   "outputs": [],
   "source": [
    "def convert(data):\n",
    "    if isinstance(data, bytes):  return data.decode('ascii')\n",
    "    if isinstance(data, dict):   return dict(map(convert, data.items()))\n",
    "    if isinstance(data, tuple):  return map(convert, data)\n",
    "    return data"
   ]
  },
  {
   "cell_type": "code",
   "execution_count": 0,
   "metadata": {
    "colab": {},
    "colab_type": "code",
    "id": "-A8xzyynY2U9"
   },
   "outputs": [],
   "source": [
    "def unpickle(file):\n",
    "    import pickle\n",
    "    with open(file, 'rb') as fo:\n",
    "        dict = pickle.load(fo, encoding='bytes')\n",
    "    return dict"
   ]
  },
  {
   "cell_type": "code",
   "execution_count": 0,
   "metadata": {
    "colab": {},
    "colab_type": "code",
    "id": "KrlHmBf5ZbLr"
   },
   "outputs": [],
   "source": [
    "DATA_HOME_DIR = './drive/My Drive/Colab Notebooks/mlstudy/gan/gdl_code/data/cifar-10-batches-py/'"
   ]
  },
  {
   "cell_type": "code",
   "execution_count": 0,
   "metadata": {
    "colab": {},
    "colab_type": "code",
    "id": "OeB1T3jCavqF"
   },
   "outputs": [],
   "source": [
    "data_files = [item for item in os.listdir(DATA_HOME_DIR) if item not in ['readme.html', 'batches.meta']]"
   ]
  },
  {
   "cell_type": "code",
   "execution_count": 0,
   "metadata": {
    "colab": {},
    "colab_type": "code",
    "id": "4xA7L8kkZoov"
   },
   "outputs": [],
   "source": [
    "for item in data_files:\n",
    "  DATA_DIR = DATA_HOME_DIR + item\n",
    "  data_dict  = convert(unpickle(DATA_DIR))"
   ]
  },
  {
   "cell_type": "code",
   "execution_count": 0,
   "metadata": {
    "colab": {},
    "colab_type": "code",
    "id": "Ka1X_Hqyaa9p"
   },
   "outputs": [],
   "source": [
    "_x_train = []\n",
    "for _label, _data in zip(data_dict['labels'], data_dict['data']):\n",
    "  if _label == 7:\n",
    "    _x_train.append(_data)"
   ]
  },
  {
   "cell_type": "code",
   "execution_count": 0,
   "metadata": {
    "colab": {},
    "colab_type": "code",
    "id": "vY7SjB2Yd3oR"
   },
   "outputs": [],
   "source": [
    "_x_train_stacked = np.stack(_x_train)"
   ]
  },
  {
   "cell_type": "code",
   "execution_count": 0,
   "metadata": {
    "colab": {
     "base_uri": "https://localhost:8080/",
     "height": 35
    },
    "colab_type": "code",
    "id": "LOZ9DLLLd7qi",
    "outputId": "ca06a97c-b59e-4b31-8f58-83275c112d16"
   },
   "outputs": [
    {
     "data": {
      "text/plain": [
       "(1000, 3072)"
      ]
     },
     "execution_count": 13,
     "metadata": {
      "tags": []
     },
     "output_type": "execute_result"
    }
   ],
   "source": [
    "_x_train_stacked.shape"
   ]
  },
  {
   "cell_type": "code",
   "execution_count": 0,
   "metadata": {
    "colab": {},
    "colab_type": "code",
    "id": "sa3wGISwcyzo"
   },
   "outputs": [],
   "source": [
    "x_train = _x_train_stacked.reshape(-1,3,32,32)/255\n",
    "for_figure_x_train = x_train.transpose([0,2,3,1])"
   ]
  },
  {
   "cell_type": "code",
   "execution_count": 0,
   "metadata": {
    "colab": {
     "base_uri": "https://localhost:8080/",
     "height": 35
    },
    "colab_type": "code",
    "id": "kevb_ct5aa7v",
    "outputId": "84247ac8-9d11-4db5-c92b-22e178e6b64c"
   },
   "outputs": [
    {
     "data": {
      "text/plain": [
       "(1000, 32, 32, 3)"
      ]
     },
     "execution_count": 15,
     "metadata": {
      "tags": []
     },
     "output_type": "execute_result"
    }
   ],
   "source": [
    "for_figure_x_train.shape"
   ]
  },
  {
   "cell_type": "code",
   "execution_count": 0,
   "metadata": {
    "colab": {
     "base_uri": "https://localhost:8080/",
     "height": 284
    },
    "colab_type": "code",
    "id": "NbpkQZH5aa5Z",
    "outputId": "e417ef05-42f6-4b6a-8b74-a0993c9c2cab"
   },
   "outputs": [
    {
     "data": {
      "text/plain": [
       "<matplotlib.image.AxesImage at 0x7f988920cc88>"
      ]
     },
     "execution_count": 16,
     "metadata": {
      "tags": []
     },
     "output_type": "execute_result"
    },
    {
     "data": {
      "image/png": "[encoded data removed]",
      "text/plain": [
       "<Figure size 432x288 with 1 Axes>"
      ]
     },
     "metadata": {
      "tags": []
     },
     "output_type": "display_data"
    }
   ],
   "source": [
    "plt.imshow(for_figure_x_train[3,:,:,:])"
   ]
  },
  {
   "cell_type": "markdown",
   "metadata": {
    "colab_type": "text",
    "id": "kh68_i5Uaa3P"
   },
   "source": [
    "## Architecture"
   ]
  },
  {
   "cell_type": "code",
   "execution_count": 0,
   "metadata": {
    "colab": {},
    "colab_type": "code",
    "id": "n_MzSex5aa2G"
   },
   "outputs": [],
   "source": [
    "class Discriminator_PT(nn.Module): # GAN Pytorch\n",
    "    def __init__(self\n",
    "        , input_dim\n",
    "        , discriminator_conv_filters\n",
    "        , discriminator_conv_kernel_size\n",
    "        , discriminator_conv_strides\n",
    "        , discriminator_batch_norm_momentum\n",
    "        , discriminator_activation\n",
    "        , discriminator_dropout_rate\n",
    "        , discriminator_learning_rate\n",
    "        , optimiser\n",
    "        , z_dim\n",
    "        , activation_function\n",
    "        ):\n",
    "        \n",
    "        super(Discriminator_PT, self).__init__()\n",
    "\n",
    "        self.name = 'gan'\n",
    "\n",
    "        self.input_dim = input_dim\n",
    "        \n",
    "        ## discriminator\n",
    "        self.discriminator_conv_filters_input = [input_dim[0]] + discriminator_conv_filters[:-1]\n",
    "        self.discriminator_conv_filters_output = discriminator_conv_filters\n",
    "        self.discriminator_conv_kernel_size = discriminator_conv_kernel_size\n",
    "        self.discriminator_conv_strides = discriminator_conv_strides\n",
    "        self.discriminator_batch_norm_momentum = discriminator_batch_norm_momentum\n",
    "        self.discriminator_activation = discriminator_activation\n",
    "        self.discriminator_dropout_rate = discriminator_dropout_rate\n",
    "        self.discriminator_learning_rate = discriminator_learning_rate\n",
    "        self.activation_function = activation_function\n",
    "\n",
    "        \n",
    "        self.z_dim = z_dim\n",
    "\n",
    "        self.n_layers_discriminator = len(discriminator_conv_filters)\n",
    "\n",
    "        # initializer\n",
    "        self.weight_init = torch.normal(mean=torch.Tensor([0.]), std=0.02)\n",
    "\n",
    "        self.d_losses = []\n",
    "        self.g_losses = []\n",
    "\n",
    "        self.epoch = 0\n",
    "        \n",
    "        self.discriminator_conv_layers = nn.Sequential()\n",
    "        self.discriminator_output_shape = collections.OrderedDict()\n",
    "        \n",
    "        self.discriminator_output_shape['Input'] = self.input_dim\n",
    "\n",
    "        self._build_discriminator()\n",
    "\n",
    "    def _build_discriminator(self):\n",
    "\n",
    "        print('Build Discriminator')\n",
    "        current_layer_name = 'Input'\n",
    "        current_input_shape = self.discriminator_output_shape[current_layer_name]\n",
    "        \n",
    "        for i in range(self.n_layers_discriminator):\n",
    "            \n",
    "            current_filter, input_H, input_W = current_input_shape\n",
    "            current_layer_name = 'Layer {} Conv2d'.format(i)\n",
    "            \n",
    "            kernel_H, kernel_W = self.discriminator_conv_kernel_size[i]\n",
    "            stride_H, stride_W  = self.discriminator_conv_strides[i]\n",
    "            \n",
    "            _output_H = int((input_H-kernel_H)/stride_H) + 1 # int 논리 맞는지 확인\n",
    "            _output_W = int((input_W-kernel_W)/stride_W) + 1\n",
    "            \n",
    "            target_output_H = np.ceil(input_H/stride_H)\n",
    "            target_output_W = np.ceil(input_W/stride_W)\n",
    "            \n",
    "            if target_output_H != _output_H:\n",
    "                padding_H = int(np.ceil(((target_output_H-1)*stride_H-input_H+kernel_H)/2))\n",
    "            else:\n",
    "                padding_H = 0\n",
    "                \n",
    "            if target_output_W != _output_W:\n",
    "                padding_W = int(np.ceil(((target_output_W-1)*stride_W-input_W+kernel_W)/2))\n",
    "            else:\n",
    "                padding_W = 0\n",
    "            \n",
    "            output_H = int((input_H-kernel_H+2*padding_H)/stride_H) + 1\n",
    "            output_W = int((input_W-kernel_W+2*padding_W)/stride_W) + 1\n",
    "            \n",
    "            print(output_H, output_W)\n",
    "            \n",
    "            self.discriminator_output_shape[current_layer_name] = [self.discriminator_conv_filters_output[i], output_H, output_W]\n",
    "            current_input_shape = self.discriminator_output_shape[current_layer_name]\n",
    "            \n",
    "            conv = nn.Conv2d(\n",
    "                        self.discriminator_conv_filters_input[i]\n",
    "                        , self.discriminator_conv_filters_output[i]\n",
    "                        , kernel_size = self.discriminator_conv_kernel_size[i]\n",
    "                        , stride = self.discriminator_conv_strides[i]\n",
    "                        , padding = (padding_H, padding_W)\n",
    "#                         , kernel_initializer = self.weight_init\n",
    "                        )\n",
    "            # conv.weight.data.apply_(self.weight_init)\n",
    "\n",
    "            self.discriminator_conv_layers.add_module(\n",
    "                current_layer_name,\n",
    "                conv\n",
    "            )\n",
    "\n",
    "            if self.discriminator_batch_norm_momentum and i > 0:\n",
    "                self.discriminator_conv_layers.add_module('Layer {} BatchNorm2d'.format(i), \n",
    "                                            nn.BatchNorm2d(self.discriminator_conv_filters_output[i],\n",
    "                                                          momentum=self.discriminator_batch_norm_momentum))\n",
    "\n",
    "            self.discriminator_conv_layers.add_module('Layer {} LeakyReLU'.format(i), nn.LeakyReLU())\n",
    "\n",
    "            if self.discriminator_dropout_rate:\n",
    "                self.discriminator_conv_layers.add_module('Layer {} Dropout2d'.format(i), nn.Dropout2d(p=self.discriminator_dropout_rate))\n",
    "            \n",
    "        self.discriminator_cnn_output_shape = current_input_shape\n",
    "        \n",
    "        self.discriminator_flattened_shape = np.prod(self.discriminator_cnn_output_shape)\n",
    "\n",
    "        \n",
    "        ## Flatten 층 생성\n",
    "        ## 역시 이 전에 reshaping은 forward에서\n",
    "        self.discriminator_flattened = nn.Linear(self.discriminator_flattened_shape, 1)\n",
    "        self.Sigmoid = nn.Sigmoid()\n",
    "\n",
    "    def forward(self, x):\n",
    "        \n",
    "        x = self.discriminator_conv_layers(x)\n",
    "        x = x.reshape(x.size()[0],-1)\n",
    "        \n",
    "#         print(x.shape)\n",
    "        \n",
    "        x = self.discriminator_flattened(x)\n",
    "\n",
    "        if self.activation_function == 'Sigmoid':\n",
    "          x = self.Sigmoid(x)\n",
    "        \n",
    "        \n",
    "        return x\n"
   ]
  },
  {
   "cell_type": "code",
   "execution_count": 0,
   "metadata": {
    "colab": {},
    "colab_type": "code",
    "id": "cbiH1Kx3aayt"
   },
   "outputs": [],
   "source": [
    "## generator 는 똑같다.\n",
    "\n",
    "class Generator_PT(nn.Module): # GAN Pytorch\n",
    "    def __init__(self\n",
    "        , generator_initial_dense_layer_size\n",
    "        , input_dim\n",
    "        , generator_upsample\n",
    "        , generator_conv_filters\n",
    "        , generator_conv_kernel_size\n",
    "        , generator_conv_strides\n",
    "        , generator_batch_norm_momentum\n",
    "        , generator_activation\n",
    "        , generator_dropout_rate\n",
    "        , generator_learning_rate\n",
    "        , optimiser\n",
    "        , z_dim\n",
    "        , discriminator_output_shape\n",
    "        , discriminator_cnn_output_shape\n",
    "        ):\n",
    "        \n",
    "        super(Generator_PT, self).__init__()\n",
    "\n",
    "        # Necessary information from discriminator\n",
    "        self.discriminator_output_shape = discriminator_output_shape\n",
    "        self.discriminator_cnn_output_shape = discriminator_cnn_output_shape\n",
    "        \n",
    "        self.name = 'gan'\n",
    "        self.input_dim = input_dim\n",
    "        \n",
    "        ## generator\n",
    "        self.generator_initial_dense_layer_size = generator_initial_dense_layer_size\n",
    "        self.generator_upsample = generator_upsample\n",
    "        self.generator_conv_filters_input = [self.generator_initial_dense_layer_size[0]] + generator_conv_filters[:-1]\n",
    "        self.generator_conv_filters_output = generator_conv_filters\n",
    "        self.generator_conv_kernel_size = generator_conv_kernel_size\n",
    "        self.generator_conv_strides = generator_conv_strides\n",
    "        self.generator_batch_norm_momentum = generator_batch_norm_momentum\n",
    "        self.generator_activation = generator_activation\n",
    "        self.generator_dropout_rate = generator_dropout_rate\n",
    "        self.generator_learning_rate = generator_learning_rate\n",
    "        \n",
    "        self.z_dim = z_dim\n",
    "\n",
    "        self.n_layers_generator = len(generator_conv_filters)\n",
    "\n",
    "        # initializer\n",
    "        self.weight_init = torch.normal(mean=torch.Tensor([0.]), std=0.02)\n",
    "\n",
    "        self.d_losses = []\n",
    "        self.g_losses = []\n",
    "\n",
    "        self.epoch = 0\n",
    "                \n",
    "        self.generator_conv_layers = nn.Sequential()\n",
    "        self.generator_output_shape = collections.OrderedDict()\n",
    "        \n",
    "        self.generator_initial_layers = nn.Sequential()\n",
    "        \n",
    "        self.generator_output_shape['Input'] = self.input_dim\n",
    "        self.generator_output_shape['Input'] = self.generator_initial_dense_layer_size\n",
    "\n",
    "\n",
    "        self._build_generator()\n",
    "\n",
    "    def get_activation(self, activation):\n",
    "        if activation == 'leaky_relu':\n",
    "            layer = LeakyReLU(alpha = 0.2)\n",
    "        else:\n",
    "            layer = Activation(activation)\n",
    "        return layer\n",
    "\n",
    "    def _build_generator(self):\n",
    "\n",
    "        print('Build Generator')\n",
    "        ### THE generator\n",
    "\n",
    "        self.generator_initial_layers.add_module('Layer Generator Input', \n",
    "                                            nn.Linear(self.z_dim, np.prod(self.generator_initial_dense_layer_size)))\n",
    "\n",
    "        self.generator_initial_layers.add_module('Layer Generator Input LeakyReLU', nn.LeakyReLU())\n",
    "        \n",
    "        if self.generator_dropout_rate:\n",
    "            self.generator_initial_layers.add_module('Layer Generator Input Dropout2d', nn.Dropout2d(p=self.generator_dropout_rate))\n",
    "            \n",
    "        # 이건 forward가서\n",
    "#         x = Reshape(self.generator_initial_dense_layer_size)(x)\n",
    "        \n",
    "        current_layer_name = 'Input'\n",
    "        current_input_shape = self.generator_output_shape[current_layer_name]\n",
    "        \n",
    "        discriminator_conv_layer_name_list = []\n",
    "        \n",
    "#         print(self.discriminator_output_shape)\n",
    "        \n",
    "        for item in self.discriminator_output_shape:\n",
    "            discriminator_conv_layer_name_list.append(item)\n",
    "        discriminator_conv_layer_name_list.reverse()\n",
    "\n",
    "#         print(discriminator_conv_layer_name_list)\n",
    "        for i, discriminator_layer_name in zip(range(self.n_layers_generator), discriminator_conv_layer_name_list[1:]):\n",
    "            \n",
    "#             print(discriminator_layer_name)\n",
    "            \n",
    "            discriminator_layer_shape = self.discriminator_output_shape[discriminator_layer_name]\n",
    "            \n",
    "            current_filter, input_H, input_W = discriminator_layer_shape\n",
    "            current_layer_name = 'Layer {} Conv2d'.format(i)\n",
    "\n",
    "        \n",
    "            if self.generator_upsample[i] == 2:\n",
    "                \n",
    "                current_filter, input_H, input_W = current_input_shape\n",
    "                \n",
    "                input_H = input_H*self.generator_upsample[i]\n",
    "                input_W = input_W*self.generator_upsample[i]\n",
    "                \n",
    "                current_layer_name = 'Layer {} Conv2d'.format(i)\n",
    "\n",
    "                kernel_H, kernel_W = self.generator_conv_kernel_size[i]\n",
    "                stride_H, stride_W  = self.generator_conv_strides[i]\n",
    "\n",
    "                _output_H = int((input_H-kernel_H)/stride_H) + 1\n",
    "                _output_W = int((input_W-kernel_W)/stride_W) + 1\n",
    "\n",
    "                target_output_H = int(input_H/stride_H)\n",
    "                target_output_W = int(input_W/stride_W)\n",
    "\n",
    "                if target_output_H != _output_H:\n",
    "                    padding_H = int(np.ceil(((target_output_H-1)*stride_H-input_H+kernel_H)/2))\n",
    "                else:\n",
    "                    padding_H = 0\n",
    "\n",
    "                if target_output_W != _output_W:\n",
    "                    padding_W = int(np.ceil(((target_output_W-1)*stride_W-input_W+kernel_W)/2))\n",
    "                else:\n",
    "                    padding_W = 0\n",
    "\n",
    "                output_H = int((input_H-kernel_H+2*padding_H)/stride_H) + 1\n",
    "                output_W = int((input_W-kernel_W+2*padding_W)/stride_W) + 1\n",
    "                \n",
    "                self.generator_output_shape[current_layer_name] = [self.generator_conv_filters_output[i], output_H, output_W]\n",
    "                current_input_shape = self.generator_output_shape[current_layer_name]\n",
    "                \n",
    "\n",
    "                self.generator_conv_layers.add_module('Layer {} Upsample'.format(i),\n",
    "                                            nn.Upsample(scale_factor=self.generator_upsample[i])\n",
    "                                           )\n",
    "                \n",
    "\n",
    "                self.generator_conv_layers.add_module(\n",
    "                    current_layer_name,\n",
    "                    nn.Conv2d(\n",
    "                            self.generator_conv_filters_input[i]\n",
    "                            , self.generator_conv_filters_output[i]\n",
    "                            , kernel_size = self.generator_conv_kernel_size[i]\n",
    "                            , stride = self.generator_conv_strides[i]\n",
    "                            , padding = (padding_H, padding_W)\n",
    "    #                         , kernel_initializer = self.weight_init\n",
    "                            )\n",
    "                )\n",
    "                \n",
    "            else:\n",
    "                \n",
    "                # defining size\n",
    "                current_filter, input_H, input_W = current_input_shape\n",
    "                current_layer_name = 'Layer {} Conv2d'.format(i)\n",
    "\n",
    "                kernel_H, kernel_W = self.generator_conv_kernel_size[i]\n",
    "                stride_H, stride_W = self.generator_conv_strides[i]\n",
    "\n",
    "                target_output_H = max(input_H*stride_H,discriminator_layer_shape[1])\n",
    "                target_output_W = max(input_W*stride_W,discriminator_layer_shape[2])\n",
    "\n",
    "                padding_output_padding_H = (input_H - 1) * stride_H + (kernel_H - 1) + 1 - target_output_H\n",
    "                padding_output_padding_W = (input_W - 1) * stride_W + (kernel_W - 1) + 1 - target_output_W\n",
    "                \n",
    "                if padding_output_padding_H%2==0:\n",
    "                    output_padding_H = 0\n",
    "                    padding_H = int(padding_output_padding_H/2)\n",
    "                else:\n",
    "                    output_padding_H = max(stride_H-1,0)\n",
    "                    padding_H = int((padding_output_padding_H+output_padding_H)/2)\n",
    "                    \n",
    "                if padding_output_padding_W%2==0:\n",
    "                    output_padding_W = 0\n",
    "                    padding_W = int(padding_output_padding_W/2)\n",
    "                else:\n",
    "                    output_padding_W = max(stride_W-1,0)\n",
    "                    padding_W = int((padding_output_padding_W+output_padding_W)/2)\n",
    "\n",
    "                # padding_H = max(0, padding_H)\n",
    "                # padding_W = max(0, padding_W)\n",
    "                    \n",
    "                output_H = (input_H-1)*stride_H + (kernel_H-1)+1 - 2 * padding_H + output_padding_H\n",
    "                output_W = (input_W-1)*stride_W + (kernel_W-1)+1 - 2 * padding_W + output_padding_W\n",
    "\n",
    "                self.generator_output_shape[current_layer_name] = [self.generator_conv_filters_output[i], output_H, output_W]\n",
    "                current_input_shape = self.generator_output_shape[current_layer_name]\n",
    "                \n",
    "                # print('\\n')\n",
    "                # print(output_H, target_output_H, padding_H, output_padding_H, stride_H, kernel_H)\n",
    "\n",
    "                # self.output_shape[current_layer_name] = [self.generator_conv_filters_output[i], output_H, output_W]\n",
    "                # current_input_shape = self.output_shape[current_layer_name]\n",
    "\n",
    "                self.generator_conv_layers.add_module(current_layer_name,\n",
    "                                nn.ConvTranspose2d(self.generator_conv_filters_input[i]\n",
    "                                        , self.generator_conv_filters_output[i]\n",
    "                                        , kernel_size = self.generator_conv_kernel_size[i]\n",
    "                                        , stride = self.generator_conv_strides[i]\n",
    "                                        , padding = (padding_H, padding_W)\n",
    "                                        , output_padding = (output_padding_H, output_padding_W)\n",
    "                                        ))\n",
    "\n",
    "            print(output_H, output_W, padding_H, padding_W)\n",
    "                \n",
    "            if i < self.n_layers_generator - 1:\n",
    "\n",
    "                if self.generator_batch_norm_momentum:\n",
    "                    self.generator_conv_layers.add_module('Layer {} BatchNorm2d'.format(i), \n",
    "                                                nn.BatchNorm2d(self.generator_conv_filters_output[i],\n",
    "                                                              momentum=self.generator_batch_norm_momentum))\n",
    "\n",
    "                self.generator_conv_layers.add_module('Layer {} LeakyReLU'.format(i), nn.LeakyReLU())\n",
    "                    \n",
    "                \n",
    "            else:\n",
    "\n",
    "                self.generator_conv_layers.add_module('Layer {} Tanh'.format(i), nn.Tanh())\n",
    "\n",
    "\n",
    "        # 이 부분도 forward로\n",
    "#         generator_output = x\n",
    "\n",
    "#         self.generator = Model(generator_input, generator_output)\n",
    "\n",
    "\n",
    "    def forward(self, x):\n",
    "        \n",
    "        \n",
    "        x = self.generator_initial_layers(x)\n",
    "        # print(x.shape)\n",
    "        \n",
    "        x = x.reshape([x.size()[0]]+list(self.generator_initial_dense_layer_size))\n",
    "        \n",
    "        x = self.generator_conv_layers(x)\n",
    "        \n",
    "        return x\n",
    "\n"
   ]
  },
  {
   "cell_type": "code",
   "execution_count": 0,
   "metadata": {
    "colab": {},
    "colab_type": "code",
    "id": "nH6DOaSGfxV9"
   },
   "outputs": [],
   "source": [
    "z_dim = 100"
   ]
  },
  {
   "cell_type": "code",
   "execution_count": 0,
   "metadata": {
    "colab": {},
    "colab_type": "code",
    "id": "QmFgaVFdjvPD"
   },
   "outputs": [],
   "source": [
    "input_dim = (3, 32, 32)"
   ]
  },
  {
   "cell_type": "code",
   "execution_count": 0,
   "metadata": {
    "colab": {},
    "colab_type": "code",
    "id": "7sst1KTwslGS"
   },
   "outputs": [],
   "source": [
    "activation_function = 'WGANGP'"
   ]
  },
  {
   "cell_type": "code",
   "execution_count": 0,
   "metadata": {
    "colab": {},
    "colab_type": "code",
    "id": "wHizhS16xJaP"
   },
   "outputs": [],
   "source": [
    "if activation_function == 'Sigmoid':\n",
    "  discriminator_learning_rate = 0.0008\n",
    "  generator_learning_rate = 0.0004\n",
    "else:\n",
    "  discriminator_learning_rate = 0.00005\n",
    "  generator_learning_rate = 0.00005"
   ]
  },
  {
   "cell_type": "code",
   "execution_count": 0,
   "metadata": {
    "colab": {},
    "colab_type": "code",
    "id": "HTFGVZL7tNRN"
   },
   "outputs": [],
   "source": [
    "device = 'cpu'"
   ]
  },
  {
   "cell_type": "code",
   "execution_count": 0,
   "metadata": {
    "colab": {
     "base_uri": "https://localhost:8080/",
     "height": 107
    },
    "colab_type": "code",
    "id": "cnyHdhg6aauk",
    "outputId": "2938c03c-7850-4253-c9f4-4301a21d9cae"
   },
   "outputs": [
    {
     "name": "stdout",
     "output_type": "stream",
     "text": [
      "Build Discriminator\n",
      "16 16\n",
      "8 8\n",
      "4 4\n",
      "4 4\n"
     ]
    }
   ],
   "source": [
    "Discriminator = Discriminator_PT(\n",
    "    input_dim = input_dim\n",
    "    , discriminator_conv_filters = [32,64,128,128]\n",
    "    , discriminator_conv_kernel_size = [(5,5),(5,5),(5,5),(5,5)]\n",
    "    , discriminator_conv_strides = [(2,2),(2,2),(2,2),(1,1)]\n",
    "    , discriminator_batch_norm_momentum = None\n",
    "    , discriminator_activation = 'relu'\n",
    "    , discriminator_dropout_rate = 0.4\n",
    "    , discriminator_learning_rate = discriminator_learning_rate\n",
    "    , optimiser = 'rmsprop'\n",
    "    , z_dim = z_dim\n",
    "    , activation_function = activation_function\n",
    "    ).to(device)"
   ]
  },
  {
   "cell_type": "code",
   "execution_count": 0,
   "metadata": {
    "colab": {
     "base_uri": "https://localhost:8080/",
     "height": 107
    },
    "colab_type": "code",
    "id": "U8z_nYgVlEAp",
    "outputId": "1270bec2-e7ac-4548-b7a4-7cb5c30985f6"
   },
   "outputs": [
    {
     "name": "stdout",
     "output_type": "stream",
     "text": [
      "Build Generator\n",
      "8 8 2 2\n",
      "16 16 2 2\n",
      "32 32 2 2\n",
      "32 32 2 2\n"
     ]
    }
   ],
   "source": [
    "Generator = Generator_PT(\n",
    "    input_dim = input_dim\n",
    "    , generator_initial_dense_layer_size = (128, 4, 4)\n",
    "    , generator_upsample = [2,2, 2, 1]\n",
    "    , generator_conv_filters = [128,64, 64,3]\n",
    "    , generator_conv_kernel_size = [(5,5),(5,5),(5,5),(5,5)]\n",
    "    , generator_conv_strides = [(1,1),(1,1), (1,1), (1,1)]\n",
    "    , generator_batch_norm_momentum = 0.9\n",
    "    , generator_dropout_rate = None\n",
    "    , generator_activation = 'relu'\n",
    "    , generator_learning_rate = generator_learning_rate\n",
    "    , optimiser = 'rmsprop'\n",
    "    , z_dim = z_dim\n",
    "    , discriminator_output_shape = Discriminator.discriminator_output_shape\n",
    "    , discriminator_cnn_output_shape = Discriminator.discriminator_cnn_output_shape\n",
    "    ).to(device)"
   ]
  },
  {
   "cell_type": "markdown",
   "metadata": {
    "colab_type": "text",
    "id": "gHav9Fi7aaqI"
   },
   "source": [
    "## 학습"
   ]
  },
  {
   "cell_type": "code",
   "execution_count": 0,
   "metadata": {
    "colab": {
     "base_uri": "https://localhost:8080/",
     "height": 35
    },
    "colab_type": "code",
    "id": "nPfH9Z7ollkZ",
    "outputId": "970bbd9e-6ae7-41b5-b7ad-b691b9b116e0"
   },
   "outputs": [
    {
     "name": "stdout",
     "output_type": "stream",
     "text": [
      "Train mode\n"
     ]
    }
   ],
   "source": [
    "Discriminator.train()\n",
    "Generator.train()\n",
    "print('Train mode')"
   ]
  },
  {
   "cell_type": "code",
   "execution_count": 0,
   "metadata": {
    "colab": {},
    "colab_type": "code",
    "id": "-RB91ndpaakV"
   },
   "outputs": [],
   "source": [
    "# Binary Cross Entropy loss\n",
    "criterion = nn.BCELoss().to(device)\n",
    "\n",
    "# 생성자의 매개 변수를 최적화하는 Adam optimizer\n",
    "G_optimizer = optim.Adam(Generator.parameters(), lr=Generator.generator_learning_rate, betas=(0.5, 0.999))\n",
    "# 구분자의 매개 변수를 최적화하는 Adam optimizer\n",
    "D_optimizer = optim.Adam(Discriminator.parameters(), lr=Discriminator.discriminator_learning_rate, betas=(0.5, 0.999))"
   ]
  },
  {
   "cell_type": "code",
   "execution_count": 0,
   "metadata": {
    "colab": {},
    "colab_type": "code",
    "id": "cRKWgdX8aaiR"
   },
   "outputs": [],
   "source": [
    "x_train_pt = torch.from_numpy(x_train).float().to(device)"
   ]
  },
  {
   "cell_type": "code",
   "execution_count": 0,
   "metadata": {
    "colab": {},
    "colab_type": "code",
    "id": "ShnanfPCaagf"
   },
   "outputs": [],
   "source": [
    "EPOCHS = 1"
   ]
  },
  {
   "cell_type": "code",
   "execution_count": 0,
   "metadata": {
    "colab": {},
    "colab_type": "code",
    "id": "k-qCBwrtaae0"
   },
   "outputs": [],
   "source": [
    "batch_size = 32"
   ]
  },
  {
   "cell_type": "code",
   "execution_count": 0,
   "metadata": {
    "colab": {
     "base_uri": "https://localhost:8080/",
     "height": 67,
     "referenced_widgets": [
      "3e30feb5e92f48dc95c696f76dc6fbde",
      "75430d8ff8c64db783bff1414be20653",
      "bc4c2f7ab54d480686dc1176477e7c4c",
      "70d669c62f4247f68c0e69828c169684",
      "f7fa4912f6634331bf50e9f6baa4b3e1",
      "2fe5ef9fb30c4cb7abf45052f353b97e",
      "bff01acae93b449794eec6c747c3ff18",
      "d0a3c5f838c04899a93ed88181301141"
     ]
    },
    "colab_type": "code",
    "id": "kN8tJ4Iob9Uz",
    "outputId": "d3710032-ae5b-413d-9986-f7253f2b69e9"
   },
   "outputs": [
    {
     "data": {
      "application/vnd.jupyter.widget-view+json": {
       "model_id": "3e30feb5e92f48dc95c696f76dc6fbde",
       "version_major": 2,
       "version_minor": 0
      },
      "text/plain": [
       "HBox(children=(IntProgress(value=0, max=32), HTML(value='')))"
      ]
     },
     "metadata": {
      "tags": []
     },
     "output_type": "display_data"
    },
    {
     "name": "stdout",
     "output_type": "stream",
     "text": [
      "\n"
     ]
    }
   ],
   "source": [
    "for epoch in range(EPOCHS):\n",
    "    \n",
    "    for real_data in tqdm(DataLoader(x_train_pt, batch_size = batch_size, shuffle=True)):\n",
    "      pass"
   ]
  },
  {
   "cell_type": "code",
   "execution_count": 0,
   "metadata": {
    "colab": {},
    "colab_type": "code",
    "id": "X4Y5GbhgdQ69"
   },
   "outputs": [],
   "source": [
    "EPOCHS = 200"
   ]
  },
  {
   "cell_type": "markdown",
   "metadata": {
    "colab_type": "text",
    "id": "-2hkQJfgqi9x"
   },
   "source": [
    "## activation_function\n",
    "\n",
    "이것이 'None'이면 WGAN이다."
   ]
  },
  {
   "cell_type": "code",
   "execution_count": 0,
   "metadata": {
    "colab": {
     "base_uri": "https://localhost:8080/",
     "height": 35
    },
    "colab_type": "code",
    "id": "6A2kcB72sflL",
    "outputId": "93d3c0c7-a5e9-4b7b-ae1c-be8cf94bcc66"
   },
   "outputs": [
    {
     "name": "stdout",
     "output_type": "stream",
     "text": [
      "WGANGP\n"
     ]
    }
   ],
   "source": [
    "print(activation_function)"
   ]
  },
  {
   "cell_type": "code",
   "execution_count": 0,
   "metadata": {
    "colab": {},
    "colab_type": "code",
    "id": "zuubn8M7-8kr"
   },
   "outputs": [],
   "source": [
    "from torch.autograd import Variable"
   ]
  },
  {
   "cell_type": "code",
   "execution_count": 0,
   "metadata": {
    "colab": {},
    "colab_type": "code",
    "id": "OlfC8MkHyiDo"
   },
   "outputs": [],
   "source": [
    "CLIP_THRESHOLD = 0.01"
   ]
  },
  {
   "cell_type": "code",
   "execution_count": 0,
   "metadata": {
    "colab": {},
    "colab_type": "code",
    "id": "BywL244r9xEu"
   },
   "outputs": [],
   "source": [
    "def compute_gradient_penalty(D, real_samples, fake_samples):\n",
    "    \"\"\"Calculates the gradient penalty loss for WGAN GP\"\"\"\n",
    "    # Random weight term for interpolation between real and fake samples\n",
    "    alpha = torch.from_numpy(np.random.random((real_samples.size(0), 1, 1, 1))).to(device)\n",
    "    # Get random interpolation between real and fake samples\n",
    "    interpolates = (alpha * real_samples + ((1 - alpha) * fake_samples)).requires_grad_(True)\n",
    "    d_interpolates = D(interpolates.float())\n",
    "    fake = torch.ones(real_samples.shape[0], 1)\n",
    "    # Get gradient w.r.t. interpolates\n",
    "    gradients = autograd.grad(\n",
    "        outputs=d_interpolates,\n",
    "        inputs=interpolates,\n",
    "        grad_outputs=fake,\n",
    "        create_graph=True,\n",
    "        retain_graph=True,\n",
    "        only_inputs=True,\n",
    "    )[0]\n",
    "    gradients = gradients.view(gradients.size(0), -1)\n",
    "    gradient_penalty = ((gradients.norm(2, dim=1) - 1) ** 2).mean()\n",
    "    return gradient_penalty\n"
   ]
  },
  {
   "cell_type": "code",
   "execution_count": 0,
   "metadata": {
    "colab": {},
    "colab_type": "code",
    "id": "2jjnBXDa2iPQ"
   },
   "outputs": [],
   "source": [
    "if activation_function == 'Sigmoid':\n",
    "  discriminator_train_number = 1\n",
    "else:\n",
    "  discriminator_train_number = 5"
   ]
  },
  {
   "cell_type": "markdown",
   "metadata": {
    "colab_type": "text",
    "id": "_BvmlzsHzwZu"
   },
   "source": [
    "https://github.com/eriklindernoren/PyTorch-GAN/blob/master/implementations/wgan_gp/wgan_gp.py"
   ]
  },
  {
   "cell_type": "code",
   "execution_count": 0,
   "metadata": {
    "colab": {},
    "colab_type": "code",
    "id": "RcDDH6I-BECW"
   },
   "outputs": [],
   "source": [
    "# Loss weight for gradient penalty\n",
    "lambda_gp = 10"
   ]
  },
  {
   "cell_type": "code",
   "execution_count": 0,
   "metadata": {
    "colab": {
     "base_uri": "https://localhost:8080/",
     "height": 580,
     "referenced_widgets": [
      "9e92eacca7074686a03a01a503dfc5eb",
      "e3a367989cd94a469e4ca194d68dd00d",
      "9158da074ad84d63a502f10a257013c7",
      "1fd9a1ee89324205be3a20686704ef24",
      "64aa378acca5486ca097dbc931ae0f99",
      "97c07b8ebb784bdd8d5ecf43bfb1dbff",
      "dbc7d0b0ef6f4889b1a1aee06cfe4b74",
      "ccf66230c9404d918a787ec1f4f6dff4",
      "f57444f3acc8402e923b8ff8b8bb4bac",
      "856e44768e1740b191929aa863df9f45",
      "80c68909d3de4843996677f4f7ab2dfe",
      "0f0045aabfc04b2e9978da09c8651f93",
      "e5d73c26d091472b81b9af1dd2e26eab",
      "aa753c8adb3c45f9ba2f36c2fddee741",
      "682132e8dd734ae6abd67cf55c0b09f8",
      "87efddbf96eb480ead6747e22fd8d373",
      "c074dc24ac1e4eada4852b8f942c09a4",
      "90d39cb913d043ef9f75aae44a4254b4",
      "9e2ff9fae9074957ab1fa452515fea49",
      "935170f952844e35b47c3a828f642ba3",
      "05e65453bad640a3b6c50e44944bada7",
      "af73114b94804c8ea57fc623d39877c4",
      "a2c8d1bdb8fa468781bb6427b129b697",
      "2b73cc8a3df7408e9f844122ea8a1216"
     ]
    },
    "colab_type": "code",
    "id": "H_tf6blIaacZ",
    "outputId": "7718e8c9-efc6-40fc-de8c-1dd4d73c5519"
   },
   "outputs": [
    {
     "data": {
      "application/vnd.jupyter.widget-view+json": {
       "model_id": "9e92eacca7074686a03a01a503dfc5eb",
       "version_major": 2,
       "version_minor": 0
      },
      "text/plain": [
       "HBox(children=(IntProgress(value=0, max=32), HTML(value='')))"
      ]
     },
     "metadata": {
      "tags": []
     },
     "output_type": "display_data"
    },
    {
     "name": "stdout",
     "output_type": "stream",
     "text": [
      "\n",
      "277.11 2.05\n"
     ]
    },
    {
     "data": {
      "application/vnd.jupyter.widget-view+json": {
       "model_id": "f57444f3acc8402e923b8ff8b8bb4bac",
       "version_major": 2,
       "version_minor": 0
      },
      "text/plain": [
       "HBox(children=(IntProgress(value=0, max=32), HTML(value='')))"
      ]
     },
     "metadata": {
      "tags": []
     },
     "output_type": "display_data"
    },
    {
     "name": "stdout",
     "output_type": "stream",
     "text": [
      "\n",
      "-133.96 87.95\n"
     ]
    },
    {
     "data": {
      "application/vnd.jupyter.widget-view+json": {
       "model_id": "c074dc24ac1e4eada4852b8f942c09a4",
       "version_major": 2,
       "version_minor": 0
      },
      "text/plain": [
       "HBox(children=(IntProgress(value=0, max=32), HTML(value='')))"
      ]
     },
     "metadata": {
      "tags": []
     },
     "output_type": "display_data"
    },
    {
     "name": "stdout",
     "output_type": "stream",
     "text": [
      "\n"
     ]
    },
    {
     "ename": "KeyboardInterrupt",
     "evalue": "ignored",
     "output_type": "error",
     "traceback": [
      "\u001b[0;31m---------------------------------------------------------------------------\u001b[0m",
      "\u001b[0;31mKeyboardInterrupt\u001b[0m                         Traceback (most recent call last)",
      "\u001b[0;32m<ipython-input-59-14f749089533>\u001b[0m in \u001b[0;36m<module>\u001b[0;34m()\u001b[0m\n\u001b[1;32m     24\u001b[0m     \u001b[0mD_result_from_real\u001b[0m \u001b[0;34m=\u001b[0m \u001b[0mDiscriminator\u001b[0m\u001b[0;34m(\u001b[0m\u001b[0mreal_data\u001b[0m\u001b[0;34m)\u001b[0m\u001b[0;34m\u001b[0m\u001b[0;34m\u001b[0m\u001b[0m\n\u001b[1;32m     25\u001b[0m     \u001b[0mz\u001b[0m \u001b[0;34m=\u001b[0m \u001b[0;34m(\u001b[0m\u001b[0mtorch\u001b[0m\u001b[0;34m.\u001b[0m\u001b[0mrandn\u001b[0m\u001b[0;34m(\u001b[0m\u001b[0;34m(\u001b[0m\u001b[0mreal_data_shape\u001b[0m\u001b[0;34m,\u001b[0m \u001b[0mz_dim\u001b[0m\u001b[0;34m)\u001b[0m\u001b[0;34m)\u001b[0m\u001b[0;34m)\u001b[0m\u001b[0;34m.\u001b[0m\u001b[0mto\u001b[0m\u001b[0;34m(\u001b[0m\u001b[0mdevice\u001b[0m\u001b[0;34m)\u001b[0m\u001b[0;34m\u001b[0m\u001b[0;34m\u001b[0m\u001b[0m\n\u001b[0;32m---> 26\u001b[0;31m     \u001b[0mfake_data\u001b[0m \u001b[0;34m=\u001b[0m \u001b[0mGenerator\u001b[0m\u001b[0;34m(\u001b[0m\u001b[0mz\u001b[0m\u001b[0;34m)\u001b[0m\u001b[0;34m\u001b[0m\u001b[0;34m\u001b[0m\u001b[0m\n\u001b[0m\u001b[1;32m     27\u001b[0m     \u001b[0mD_result_from_fake\u001b[0m \u001b[0;34m=\u001b[0m \u001b[0mDiscriminator\u001b[0m\u001b[0;34m(\u001b[0m\u001b[0mfake_data\u001b[0m\u001b[0;34m)\u001b[0m\u001b[0;34m\u001b[0m\u001b[0;34m\u001b[0m\u001b[0m\n\u001b[1;32m     28\u001b[0m \u001b[0;34m\u001b[0m\u001b[0m\n",
      "\u001b[0;32m/usr/local/lib/python3.6/dist-packages/torch/nn/modules/module.py\u001b[0m in \u001b[0;36m__call__\u001b[0;34m(self, *input, **kwargs)\u001b[0m\n\u001b[1;32m    530\u001b[0m             \u001b[0mresult\u001b[0m \u001b[0;34m=\u001b[0m \u001b[0mself\u001b[0m\u001b[0;34m.\u001b[0m\u001b[0m_slow_forward\u001b[0m\u001b[0;34m(\u001b[0m\u001b[0;34m*\u001b[0m\u001b[0minput\u001b[0m\u001b[0;34m,\u001b[0m \u001b[0;34m**\u001b[0m\u001b[0mkwargs\u001b[0m\u001b[0;34m)\u001b[0m\u001b[0;34m\u001b[0m\u001b[0;34m\u001b[0m\u001b[0m\n\u001b[1;32m    531\u001b[0m         \u001b[0;32melse\u001b[0m\u001b[0;34m:\u001b[0m\u001b[0;34m\u001b[0m\u001b[0;34m\u001b[0m\u001b[0m\n\u001b[0;32m--> 532\u001b[0;31m             \u001b[0mresult\u001b[0m \u001b[0;34m=\u001b[0m \u001b[0mself\u001b[0m\u001b[0;34m.\u001b[0m\u001b[0mforward\u001b[0m\u001b[0;34m(\u001b[0m\u001b[0;34m*\u001b[0m\u001b[0minput\u001b[0m\u001b[0;34m,\u001b[0m \u001b[0;34m**\u001b[0m\u001b[0mkwargs\u001b[0m\u001b[0;34m)\u001b[0m\u001b[0;34m\u001b[0m\u001b[0;34m\u001b[0m\u001b[0m\n\u001b[0m\u001b[1;32m    533\u001b[0m         \u001b[0;32mfor\u001b[0m \u001b[0mhook\u001b[0m \u001b[0;32min\u001b[0m \u001b[0mself\u001b[0m\u001b[0;34m.\u001b[0m\u001b[0m_forward_hooks\u001b[0m\u001b[0;34m.\u001b[0m\u001b[0mvalues\u001b[0m\u001b[0;34m(\u001b[0m\u001b[0;34m)\u001b[0m\u001b[0;34m:\u001b[0m\u001b[0;34m\u001b[0m\u001b[0;34m\u001b[0m\u001b[0m\n\u001b[1;32m    534\u001b[0m             \u001b[0mhook_result\u001b[0m \u001b[0;34m=\u001b[0m \u001b[0mhook\u001b[0m\u001b[0;34m(\u001b[0m\u001b[0mself\u001b[0m\u001b[0;34m,\u001b[0m \u001b[0minput\u001b[0m\u001b[0;34m,\u001b[0m \u001b[0mresult\u001b[0m\u001b[0;34m)\u001b[0m\u001b[0;34m\u001b[0m\u001b[0;34m\u001b[0m\u001b[0m\n",
      "\u001b[0;32m<ipython-input-18-b6e59855930a>\u001b[0m in \u001b[0;36mforward\u001b[0;34m(self, x)\u001b[0m\n\u001b[1;32m    243\u001b[0m         \u001b[0mx\u001b[0m \u001b[0;34m=\u001b[0m \u001b[0mx\u001b[0m\u001b[0;34m.\u001b[0m\u001b[0mreshape\u001b[0m\u001b[0;34m(\u001b[0m\u001b[0;34m[\u001b[0m\u001b[0mx\u001b[0m\u001b[0;34m.\u001b[0m\u001b[0msize\u001b[0m\u001b[0;34m(\u001b[0m\u001b[0;34m)\u001b[0m\u001b[0;34m[\u001b[0m\u001b[0;36m0\u001b[0m\u001b[0;34m]\u001b[0m\u001b[0;34m]\u001b[0m\u001b[0;34m+\u001b[0m\u001b[0mlist\u001b[0m\u001b[0;34m(\u001b[0m\u001b[0mself\u001b[0m\u001b[0;34m.\u001b[0m\u001b[0mgenerator_initial_dense_layer_size\u001b[0m\u001b[0;34m)\u001b[0m\u001b[0;34m)\u001b[0m\u001b[0;34m\u001b[0m\u001b[0;34m\u001b[0m\u001b[0m\n\u001b[1;32m    244\u001b[0m \u001b[0;34m\u001b[0m\u001b[0m\n\u001b[0;32m--> 245\u001b[0;31m         \u001b[0mx\u001b[0m \u001b[0;34m=\u001b[0m \u001b[0mself\u001b[0m\u001b[0;34m.\u001b[0m\u001b[0mgenerator_conv_layers\u001b[0m\u001b[0;34m(\u001b[0m\u001b[0mx\u001b[0m\u001b[0;34m)\u001b[0m\u001b[0;34m\u001b[0m\u001b[0;34m\u001b[0m\u001b[0m\n\u001b[0m\u001b[1;32m    246\u001b[0m \u001b[0;34m\u001b[0m\u001b[0m\n\u001b[1;32m    247\u001b[0m         \u001b[0;32mreturn\u001b[0m \u001b[0mx\u001b[0m\u001b[0;34m\u001b[0m\u001b[0;34m\u001b[0m\u001b[0m\n",
      "\u001b[0;32m/usr/local/lib/python3.6/dist-packages/torch/nn/modules/module.py\u001b[0m in \u001b[0;36m__call__\u001b[0;34m(self, *input, **kwargs)\u001b[0m\n\u001b[1;32m    530\u001b[0m             \u001b[0mresult\u001b[0m \u001b[0;34m=\u001b[0m \u001b[0mself\u001b[0m\u001b[0;34m.\u001b[0m\u001b[0m_slow_forward\u001b[0m\u001b[0;34m(\u001b[0m\u001b[0;34m*\u001b[0m\u001b[0minput\u001b[0m\u001b[0;34m,\u001b[0m \u001b[0;34m**\u001b[0m\u001b[0mkwargs\u001b[0m\u001b[0;34m)\u001b[0m\u001b[0;34m\u001b[0m\u001b[0;34m\u001b[0m\u001b[0m\n\u001b[1;32m    531\u001b[0m         \u001b[0;32melse\u001b[0m\u001b[0;34m:\u001b[0m\u001b[0;34m\u001b[0m\u001b[0;34m\u001b[0m\u001b[0m\n\u001b[0;32m--> 532\u001b[0;31m             \u001b[0mresult\u001b[0m \u001b[0;34m=\u001b[0m \u001b[0mself\u001b[0m\u001b[0;34m.\u001b[0m\u001b[0mforward\u001b[0m\u001b[0;34m(\u001b[0m\u001b[0;34m*\u001b[0m\u001b[0minput\u001b[0m\u001b[0;34m,\u001b[0m \u001b[0;34m**\u001b[0m\u001b[0mkwargs\u001b[0m\u001b[0;34m)\u001b[0m\u001b[0;34m\u001b[0m\u001b[0;34m\u001b[0m\u001b[0m\n\u001b[0m\u001b[1;32m    533\u001b[0m         \u001b[0;32mfor\u001b[0m \u001b[0mhook\u001b[0m \u001b[0;32min\u001b[0m \u001b[0mself\u001b[0m\u001b[0;34m.\u001b[0m\u001b[0m_forward_hooks\u001b[0m\u001b[0;34m.\u001b[0m\u001b[0mvalues\u001b[0m\u001b[0;34m(\u001b[0m\u001b[0;34m)\u001b[0m\u001b[0;34m:\u001b[0m\u001b[0;34m\u001b[0m\u001b[0;34m\u001b[0m\u001b[0m\n\u001b[1;32m    534\u001b[0m             \u001b[0mhook_result\u001b[0m \u001b[0;34m=\u001b[0m \u001b[0mhook\u001b[0m\u001b[0;34m(\u001b[0m\u001b[0mself\u001b[0m\u001b[0;34m,\u001b[0m \u001b[0minput\u001b[0m\u001b[0;34m,\u001b[0m \u001b[0mresult\u001b[0m\u001b[0;34m)\u001b[0m\u001b[0;34m\u001b[0m\u001b[0;34m\u001b[0m\u001b[0m\n",
      "\u001b[0;32m/usr/local/lib/python3.6/dist-packages/torch/nn/modules/container.py\u001b[0m in \u001b[0;36mforward\u001b[0;34m(self, input)\u001b[0m\n\u001b[1;32m     98\u001b[0m     \u001b[0;32mdef\u001b[0m \u001b[0mforward\u001b[0m\u001b[0;34m(\u001b[0m\u001b[0mself\u001b[0m\u001b[0;34m,\u001b[0m \u001b[0minput\u001b[0m\u001b[0;34m)\u001b[0m\u001b[0;34m:\u001b[0m\u001b[0;34m\u001b[0m\u001b[0;34m\u001b[0m\u001b[0m\n\u001b[1;32m     99\u001b[0m         \u001b[0;32mfor\u001b[0m \u001b[0mmodule\u001b[0m \u001b[0;32min\u001b[0m \u001b[0mself\u001b[0m\u001b[0;34m:\u001b[0m\u001b[0;34m\u001b[0m\u001b[0;34m\u001b[0m\u001b[0m\n\u001b[0;32m--> 100\u001b[0;31m             \u001b[0minput\u001b[0m \u001b[0;34m=\u001b[0m \u001b[0mmodule\u001b[0m\u001b[0;34m(\u001b[0m\u001b[0minput\u001b[0m\u001b[0;34m)\u001b[0m\u001b[0;34m\u001b[0m\u001b[0;34m\u001b[0m\u001b[0m\n\u001b[0m\u001b[1;32m    101\u001b[0m         \u001b[0;32mreturn\u001b[0m \u001b[0minput\u001b[0m\u001b[0;34m\u001b[0m\u001b[0;34m\u001b[0m\u001b[0m\n\u001b[1;32m    102\u001b[0m \u001b[0;34m\u001b[0m\u001b[0m\n",
      "\u001b[0;32m/usr/local/lib/python3.6/dist-packages/torch/nn/modules/module.py\u001b[0m in \u001b[0;36m__call__\u001b[0;34m(self, *input, **kwargs)\u001b[0m\n\u001b[1;32m    530\u001b[0m             \u001b[0mresult\u001b[0m \u001b[0;34m=\u001b[0m \u001b[0mself\u001b[0m\u001b[0;34m.\u001b[0m\u001b[0m_slow_forward\u001b[0m\u001b[0;34m(\u001b[0m\u001b[0;34m*\u001b[0m\u001b[0minput\u001b[0m\u001b[0;34m,\u001b[0m \u001b[0;34m**\u001b[0m\u001b[0mkwargs\u001b[0m\u001b[0;34m)\u001b[0m\u001b[0;34m\u001b[0m\u001b[0;34m\u001b[0m\u001b[0m\n\u001b[1;32m    531\u001b[0m         \u001b[0;32melse\u001b[0m\u001b[0;34m:\u001b[0m\u001b[0;34m\u001b[0m\u001b[0;34m\u001b[0m\u001b[0m\n\u001b[0;32m--> 532\u001b[0;31m             \u001b[0mresult\u001b[0m \u001b[0;34m=\u001b[0m \u001b[0mself\u001b[0m\u001b[0;34m.\u001b[0m\u001b[0mforward\u001b[0m\u001b[0;34m(\u001b[0m\u001b[0;34m*\u001b[0m\u001b[0minput\u001b[0m\u001b[0;34m,\u001b[0m \u001b[0;34m**\u001b[0m\u001b[0mkwargs\u001b[0m\u001b[0;34m)\u001b[0m\u001b[0;34m\u001b[0m\u001b[0;34m\u001b[0m\u001b[0m\n\u001b[0m\u001b[1;32m    533\u001b[0m         \u001b[0;32mfor\u001b[0m \u001b[0mhook\u001b[0m \u001b[0;32min\u001b[0m \u001b[0mself\u001b[0m\u001b[0;34m.\u001b[0m\u001b[0m_forward_hooks\u001b[0m\u001b[0;34m.\u001b[0m\u001b[0mvalues\u001b[0m\u001b[0;34m(\u001b[0m\u001b[0;34m)\u001b[0m\u001b[0;34m:\u001b[0m\u001b[0;34m\u001b[0m\u001b[0;34m\u001b[0m\u001b[0m\n\u001b[1;32m    534\u001b[0m             \u001b[0mhook_result\u001b[0m \u001b[0;34m=\u001b[0m \u001b[0mhook\u001b[0m\u001b[0;34m(\u001b[0m\u001b[0mself\u001b[0m\u001b[0;34m,\u001b[0m \u001b[0minput\u001b[0m\u001b[0;34m,\u001b[0m \u001b[0mresult\u001b[0m\u001b[0;34m)\u001b[0m\u001b[0;34m\u001b[0m\u001b[0;34m\u001b[0m\u001b[0m\n",
      "\u001b[0;32m/usr/local/lib/python3.6/dist-packages/torch/nn/modules/conv.py\u001b[0m in \u001b[0;36mforward\u001b[0;34m(self, input)\u001b[0m\n\u001b[1;32m    343\u001b[0m \u001b[0;34m\u001b[0m\u001b[0m\n\u001b[1;32m    344\u001b[0m     \u001b[0;32mdef\u001b[0m \u001b[0mforward\u001b[0m\u001b[0;34m(\u001b[0m\u001b[0mself\u001b[0m\u001b[0;34m,\u001b[0m \u001b[0minput\u001b[0m\u001b[0;34m)\u001b[0m\u001b[0;34m:\u001b[0m\u001b[0;34m\u001b[0m\u001b[0;34m\u001b[0m\u001b[0m\n\u001b[0;32m--> 345\u001b[0;31m         \u001b[0;32mreturn\u001b[0m \u001b[0mself\u001b[0m\u001b[0;34m.\u001b[0m\u001b[0mconv2d_forward\u001b[0m\u001b[0;34m(\u001b[0m\u001b[0minput\u001b[0m\u001b[0;34m,\u001b[0m \u001b[0mself\u001b[0m\u001b[0;34m.\u001b[0m\u001b[0mweight\u001b[0m\u001b[0;34m)\u001b[0m\u001b[0;34m\u001b[0m\u001b[0;34m\u001b[0m\u001b[0m\n\u001b[0m\u001b[1;32m    346\u001b[0m \u001b[0;34m\u001b[0m\u001b[0m\n\u001b[1;32m    347\u001b[0m \u001b[0;32mclass\u001b[0m \u001b[0mConv3d\u001b[0m\u001b[0;34m(\u001b[0m\u001b[0m_ConvNd\u001b[0m\u001b[0;34m)\u001b[0m\u001b[0;34m:\u001b[0m\u001b[0;34m\u001b[0m\u001b[0;34m\u001b[0m\u001b[0m\n",
      "\u001b[0;32m/usr/local/lib/python3.6/dist-packages/torch/nn/modules/conv.py\u001b[0m in \u001b[0;36mconv2d_forward\u001b[0;34m(self, input, weight)\u001b[0m\n\u001b[1;32m    340\u001b[0m                             _pair(0), self.dilation, self.groups)\n\u001b[1;32m    341\u001b[0m         return F.conv2d(input, weight, self.bias, self.stride,\n\u001b[0;32m--> 342\u001b[0;31m                         self.padding, self.dilation, self.groups)\n\u001b[0m\u001b[1;32m    343\u001b[0m \u001b[0;34m\u001b[0m\u001b[0m\n\u001b[1;32m    344\u001b[0m     \u001b[0;32mdef\u001b[0m \u001b[0mforward\u001b[0m\u001b[0;34m(\u001b[0m\u001b[0mself\u001b[0m\u001b[0;34m,\u001b[0m \u001b[0minput\u001b[0m\u001b[0;34m)\u001b[0m\u001b[0;34m:\u001b[0m\u001b[0;34m\u001b[0m\u001b[0;34m\u001b[0m\u001b[0m\n",
      "\u001b[0;31mKeyboardInterrupt\u001b[0m: "
     ]
    }
   ],
   "source": [
    "for epoch in range(EPOCHS):\n",
    "  \n",
    "  total_D_loss = 0\n",
    "  total_G_loss = 0\n",
    "  \n",
    "  batch_count_for_generator = 0\n",
    "  for real_data in tqdm(DataLoader(x_train_pt, batch_size = batch_size, shuffle=True)):\n",
    "\n",
    "    real_data_shape = real_data.shape[0]\n",
    "\n",
    "    if real_data_shape!=batch_size:\n",
    "      continue\n",
    "\n",
    "    target_real = Variable(torch.ones(real_data_shape, 1)).float().to(device)\n",
    "    \n",
    "\n",
    "    D_optimizer.zero_grad()\n",
    "    Discriminator.zero_grad()\n",
    "    \n",
    "    \n",
    "\n",
    "    ## 판별자\n",
    "\n",
    "    D_result_from_real = Discriminator(real_data)\n",
    "    z = (torch.randn((real_data_shape, z_dim))).to(device)\n",
    "    fake_data = Generator(z)\n",
    "    D_result_from_fake = Discriminator(fake_data)\n",
    "    \n",
    "    if activation_function == 'Sigmoid':\n",
    "      target_fake = Variable(torch.zeros(real_data_shape, 1)).float().to(device)\n",
    "\n",
    "      D_loss_real = criterion(D_result_from_real, target_real)\n",
    "      D_loss_fake = criterion(D_result_from_fake, target_fake)\n",
    "\n",
    "    else:\n",
    "      target_fake = Variable(torch.ones(real_data_shape, 1)).float().to(device)\n",
    "\n",
    "      D_loss_real = (D_result_from_real * target_real).mean()\n",
    "      D_loss_fake = (D_result_from_fake * target_fake).mean()\n",
    "\n",
    "    if activation_function == 'WGANGP':\n",
    "      gradient_penalty = compute_gradient_penalty(Discriminator, real_data.data, fake_data.data)\n",
    "    else:\n",
    "      gradient_penalty = torch.from_numpy(np.array([0])).to(device)\n",
    "\n",
    "    D_loss = -1 * (D_loss_real - D_loss_fake) + lambda_gp * gradient_penalty\n",
    "\n",
    "    # Discriminator.zero_grad()\n",
    "    D_loss.backward()\n",
    "    D_optimizer.step()\n",
    "\n",
    "    # Clipping weights\n",
    "    if activation_function == 'WGAN':\n",
    "      for temp_layer in Discriminator.discriminator_conv_layers:\n",
    "        if hasattr(temp_layer, 'weight'):\n",
    "          temp_layer.weight.data.clamp_(-CLIP_THRESHOLD, CLIP_THRESHOLD)\n",
    "\n",
    "\n",
    "    if activation_function == 'Sigmoid':\n",
    "      batch_count_for_generator = 0\n",
    "\n",
    "    if batch_count_for_generator%5==0:\n",
    "      G_optimizer.zero_grad()\n",
    "      Generator.zero_grad()\n",
    "      batch_count_for_generator = 0\n",
    "      ## 생성자\n",
    "\n",
    "      z = (torch.randn((real_data_shape, 100))).to(device)\n",
    "\n",
    "      fake_data = Generator(z)\n",
    "\n",
    "      D_result_from_fake = Discriminator(fake_data)\n",
    "\n",
    "      if activation_function == 'Sigmoid':\n",
    "        G_loss = criterion(D_result_from_fake, target_real)\n",
    "      else:\n",
    "        G_loss = -1 * (D_result_from_fake * target_real).mean()\n",
    "\n",
    "      G_loss.backward()\n",
    "      G_optimizer.step()\n",
    "      total_G_loss+=G_loss.item()\n",
    "\n",
    "    total_D_loss+=D_loss.item()\n",
    "    batch_count_for_generator+=1\n",
    "    \n",
    "\n",
    "    # print('\\t', D_loss.item())\n",
    "    # print('\\t', G_loss.item())\n",
    "\n",
    "  total_D_loss_numeric = round(total_D_loss,2)\n",
    "  total_G_loss_numeric = round(total_G_loss,2)\n",
    "  print(total_D_loss_numeric, total_G_loss_numeric)\n",
    "\n",
    "  if epoch%15==0:\n",
    "    pass"
   ]
  },
  {
   "cell_type": "code",
   "execution_count": 0,
   "metadata": {
    "colab": {},
    "colab_type": "code",
    "id": "mdutjRq6aZsN"
   },
   "outputs": [],
   "source": [
    "plt.imshow(Generator(torch.randn([1,100]).to(device)).cpu().detach().numpy()[0].transpose(1,2,0))"
   ]
  },
  {
   "cell_type": "code",
   "execution_count": 0,
   "metadata": {
    "colab": {
     "base_uri": "https://localhost:8080/",
     "height": 302
    },
    "colab_type": "code",
    "id": "KZihgzdn4MFq",
    "outputId": "bbbda8e1-aca7-43d5-9fed-f47f01d4cec4"
   },
   "outputs": [
    {
     "name": "stderr",
     "output_type": "stream",
     "text": [
      "Clipping input data to the valid range for imshow with RGB data ([0..1] for floats or [0..255] for integers).\n"
     ]
    },
    {
     "data": {
      "text/plain": [
       "<matplotlib.image.AxesImage at 0x7f596884eb38>"
      ]
     },
     "execution_count": 158,
     "metadata": {
      "tags": []
     },
     "output_type": "execute_result"
    },
    {
     "data": {
      "image/png": "[encoded data removed]",
      "text/plain": [
       "<Figure size 432x288 with 1 Axes>"
      ]
     },
     "metadata": {
      "tags": []
     },
     "output_type": "display_data"
    }
   ],
   "source": [
    "plt.imshow(Generator(torch.randn([1,100]).to(device)).cpu().detach().numpy()[0].transpose(1,2,0))"
   ]
  }
 ],
 "metadata": {
  "accelerator": "GPU",
  "colab": {
   "authorship_tag": "ABX9TyM2+dXzGOHSfKKhBonlAfqz",
   "collapsed_sections": [],
   "include_colab_link": true,
   "name": "shcho-chapter4-wgan-cifar-20200222-v08.ipynb",
   "provenance": []
  },
  "kernelspec": {
   "display_name": "Python 3",
   "language": "python",
   "name": "python3"
  },
  "language_info": {
   "codemirror_mode": {
    "name": "ipython",
    "version": 3
   },
   "file_extension": ".py",
   "mimetype": "text/x-python",
   "name": "python",
   "nbconvert_exporter": "python",
   "pygments_lexer": "ipython3",
   "version": "3.6.8"
  },
  "widgets": {
   "application/vnd.jupyter.widget-state+json": {
    "05e65453bad640a3b6c50e44944bada7": {
     "model_module": "@jupyter-widgets/controls",
     "model_name": "ProgressStyleModel",
     "state": {
      "_model_module": "@jupyter-widgets/controls",
      "_model_module_version": "1.5.0",
      "_model_name": "ProgressStyleModel",
      "_view_count": null,
      "_view_module": "@jupyter-widgets/base",
      "_view_module_version": "1.2.0",
      "_view_name": "StyleView",
      "bar_color": null,
      "description_width": ""
     }
    },
    "0f0045aabfc04b2e9978da09c8651f93": {
     "model_module": "@jupyter-widgets/controls",
     "model_name": "HTMLModel",
     "state": {
      "_dom_classes": [],
      "_model_module": "@jupyter-widgets/controls",
      "_model_module_version": "1.5.0",
      "_model_name": "HTMLModel",
      "_view_count": null,
      "_view_module": "@jupyter-widgets/controls",
      "_view_module_version": "1.5.0",
      "_view_name": "HTMLView",
      "description": "",
      "description_tooltip": null,
      "layout": "IPY_MODEL_87efddbf96eb480ead6747e22fd8d373",
      "placeholder": "​",
      "style": "IPY_MODEL_682132e8dd734ae6abd67cf55c0b09f8",
      "value": "100% 32/32 [00:21&lt;00:00,  1.46it/s]"
     }
    },
    "1fd9a1ee89324205be3a20686704ef24": {
     "model_module": "@jupyter-widgets/controls",
     "model_name": "HTMLModel",
     "state": {
      "_dom_classes": [],
      "_model_module": "@jupyter-widgets/controls",
      "_model_module_version": "1.5.0",
      "_model_name": "HTMLModel",
      "_view_count": null,
      "_view_module": "@jupyter-widgets/controls",
      "_view_module_version": "1.5.0",
      "_view_name": "HTMLView",
      "description": "",
      "description_tooltip": null,
      "layout": "IPY_MODEL_ccf66230c9404d918a787ec1f4f6dff4",
      "placeholder": "​",
      "style": "IPY_MODEL_dbc7d0b0ef6f4889b1a1aee06cfe4b74",
      "value": "100% 32/32 [00:21&lt;00:00,  1.47it/s]"
     }
    },
    "2b73cc8a3df7408e9f844122ea8a1216": {
     "model_module": "@jupyter-widgets/base",
     "model_name": "LayoutModel",
     "state": {
      "_model_module": "@jupyter-widgets/base",
      "_model_module_version": "1.2.0",
      "_model_name": "LayoutModel",
      "_view_count": null,
      "_view_module": "@jupyter-widgets/base",
      "_view_module_version": "1.2.0",
      "_view_name": "LayoutView",
      "align_content": null,
      "align_items": null,
      "align_self": null,
      "border": null,
      "bottom": null,
      "display": null,
      "flex": null,
      "flex_flow": null,
      "grid_area": null,
      "grid_auto_columns": null,
      "grid_auto_flow": null,
      "grid_auto_rows": null,
      "grid_column": null,
      "grid_gap": null,
      "grid_row": null,
      "grid_template_areas": null,
      "grid_template_columns": null,
      "grid_template_rows": null,
      "height": null,
      "justify_content": null,
      "justify_items": null,
      "left": null,
      "margin": null,
      "max_height": null,
      "max_width": null,
      "min_height": null,
      "min_width": null,
      "object_fit": null,
      "object_position": null,
      "order": null,
      "overflow": null,
      "overflow_x": null,
      "overflow_y": null,
      "padding": null,
      "right": null,
      "top": null,
      "visibility": null,
      "width": null
     }
    },
    "2fe5ef9fb30c4cb7abf45052f353b97e": {
     "model_module": "@jupyter-widgets/base",
     "model_name": "LayoutModel",
     "state": {
      "_model_module": "@jupyter-widgets/base",
      "_model_module_version": "1.2.0",
      "_model_name": "LayoutModel",
      "_view_count": null,
      "_view_module": "@jupyter-widgets/base",
      "_view_module_version": "1.2.0",
      "_view_name": "LayoutView",
      "align_content": null,
      "align_items": null,
      "align_self": null,
      "border": null,
      "bottom": null,
      "display": null,
      "flex": null,
      "flex_flow": null,
      "grid_area": null,
      "grid_auto_columns": null,
      "grid_auto_flow": null,
      "grid_auto_rows": null,
      "grid_column": null,
      "grid_gap": null,
      "grid_row": null,
      "grid_template_areas": null,
      "grid_template_columns": null,
      "grid_template_rows": null,
      "height": null,
      "justify_content": null,
      "justify_items": null,
      "left": null,
      "margin": null,
      "max_height": null,
      "max_width": null,
      "min_height": null,
      "min_width": null,
      "object_fit": null,
      "object_position": null,
      "order": null,
      "overflow": null,
      "overflow_x": null,
      "overflow_y": null,
      "padding": null,
      "right": null,
      "top": null,
      "visibility": null,
      "width": null
     }
    },
    "3e30feb5e92f48dc95c696f76dc6fbde": {
     "model_module": "@jupyter-widgets/controls",
     "model_name": "HBoxModel",
     "state": {
      "_dom_classes": [],
      "_model_module": "@jupyter-widgets/controls",
      "_model_module_version": "1.5.0",
      "_model_name": "HBoxModel",
      "_view_count": null,
      "_view_module": "@jupyter-widgets/controls",
      "_view_module_version": "1.5.0",
      "_view_name": "HBoxView",
      "box_style": "",
      "children": [
       "IPY_MODEL_bc4c2f7ab54d480686dc1176477e7c4c",
       "IPY_MODEL_70d669c62f4247f68c0e69828c169684"
      ],
      "layout": "IPY_MODEL_75430d8ff8c64db783bff1414be20653"
     }
    },
    "64aa378acca5486ca097dbc931ae0f99": {
     "model_module": "@jupyter-widgets/controls",
     "model_name": "ProgressStyleModel",
     "state": {
      "_model_module": "@jupyter-widgets/controls",
      "_model_module_version": "1.5.0",
      "_model_name": "ProgressStyleModel",
      "_view_count": null,
      "_view_module": "@jupyter-widgets/base",
      "_view_module_version": "1.2.0",
      "_view_name": "StyleView",
      "bar_color": null,
      "description_width": ""
     }
    },
    "682132e8dd734ae6abd67cf55c0b09f8": {
     "model_module": "@jupyter-widgets/controls",
     "model_name": "DescriptionStyleModel",
     "state": {
      "_model_module": "@jupyter-widgets/controls",
      "_model_module_version": "1.5.0",
      "_model_name": "DescriptionStyleModel",
      "_view_count": null,
      "_view_module": "@jupyter-widgets/base",
      "_view_module_version": "1.2.0",
      "_view_name": "StyleView",
      "description_width": ""
     }
    },
    "70d669c62f4247f68c0e69828c169684": {
     "model_module": "@jupyter-widgets/controls",
     "model_name": "HTMLModel",
     "state": {
      "_dom_classes": [],
      "_model_module": "@jupyter-widgets/controls",
      "_model_module_version": "1.5.0",
      "_model_name": "HTMLModel",
      "_view_count": null,
      "_view_module": "@jupyter-widgets/controls",
      "_view_module_version": "1.5.0",
      "_view_name": "HTMLView",
      "description": "",
      "description_tooltip": null,
      "layout": "IPY_MODEL_d0a3c5f838c04899a93ed88181301141",
      "placeholder": "​",
      "style": "IPY_MODEL_bff01acae93b449794eec6c747c3ff18",
      "value": "100% 32/32 [00:00&lt;00:00, 640.07it/s]"
     }
    },
    "75430d8ff8c64db783bff1414be20653": {
     "model_module": "@jupyter-widgets/base",
     "model_name": "LayoutModel",
     "state": {
      "_model_module": "@jupyter-widgets/base",
      "_model_module_version": "1.2.0",
      "_model_name": "LayoutModel",
      "_view_count": null,
      "_view_module": "@jupyter-widgets/base",
      "_view_module_version": "1.2.0",
      "_view_name": "LayoutView",
      "align_content": null,
      "align_items": null,
      "align_self": null,
      "border": null,
      "bottom": null,
      "display": null,
      "flex": null,
      "flex_flow": null,
      "grid_area": null,
      "grid_auto_columns": null,
      "grid_auto_flow": null,
      "grid_auto_rows": null,
      "grid_column": null,
      "grid_gap": null,
      "grid_row": null,
      "grid_template_areas": null,
      "grid_template_columns": null,
      "grid_template_rows": null,
      "height": null,
      "justify_content": null,
      "justify_items": null,
      "left": null,
      "margin": null,
      "max_height": null,
      "max_width": null,
      "min_height": null,
      "min_width": null,
      "object_fit": null,
      "object_position": null,
      "order": null,
      "overflow": null,
      "overflow_x": null,
      "overflow_y": null,
      "padding": null,
      "right": null,
      "top": null,
      "visibility": null,
      "width": null
     }
    },
    "80c68909d3de4843996677f4f7ab2dfe": {
     "model_module": "@jupyter-widgets/controls",
     "model_name": "IntProgressModel",
     "state": {
      "_dom_classes": [],
      "_model_module": "@jupyter-widgets/controls",
      "_model_module_version": "1.5.0",
      "_model_name": "IntProgressModel",
      "_view_count": null,
      "_view_module": "@jupyter-widgets/controls",
      "_view_module_version": "1.5.0",
      "_view_name": "ProgressView",
      "bar_style": "success",
      "description": "",
      "description_tooltip": null,
      "layout": "IPY_MODEL_aa753c8adb3c45f9ba2f36c2fddee741",
      "max": 32,
      "min": 0,
      "orientation": "horizontal",
      "style": "IPY_MODEL_e5d73c26d091472b81b9af1dd2e26eab",
      "value": 32
     }
    },
    "856e44768e1740b191929aa863df9f45": {
     "model_module": "@jupyter-widgets/base",
     "model_name": "LayoutModel",
     "state": {
      "_model_module": "@jupyter-widgets/base",
      "_model_module_version": "1.2.0",
      "_model_name": "LayoutModel",
      "_view_count": null,
      "_view_module": "@jupyter-widgets/base",
      "_view_module_version": "1.2.0",
      "_view_name": "LayoutView",
      "align_content": null,
      "align_items": null,
      "align_self": null,
      "border": null,
      "bottom": null,
      "display": null,
      "flex": null,
      "flex_flow": null,
      "grid_area": null,
      "grid_auto_columns": null,
      "grid_auto_flow": null,
      "grid_auto_rows": null,
      "grid_column": null,
      "grid_gap": null,
      "grid_row": null,
      "grid_template_areas": null,
      "grid_template_columns": null,
      "grid_template_rows": null,
      "height": null,
      "justify_content": null,
      "justify_items": null,
      "left": null,
      "margin": null,
      "max_height": null,
      "max_width": null,
      "min_height": null,
      "min_width": null,
      "object_fit": null,
      "object_position": null,
      "order": null,
      "overflow": null,
      "overflow_x": null,
      "overflow_y": null,
      "padding": null,
      "right": null,
      "top": null,
      "visibility": null,
      "width": null
     }
    },
    "87efddbf96eb480ead6747e22fd8d373": {
     "model_module": "@jupyter-widgets/base",
     "model_name": "LayoutModel",
     "state": {
      "_model_module": "@jupyter-widgets/base",
      "_model_module_version": "1.2.0",
      "_model_name": "LayoutModel",
      "_view_count": null,
      "_view_module": "@jupyter-widgets/base",
      "_view_module_version": "1.2.0",
      "_view_name": "LayoutView",
      "align_content": null,
      "align_items": null,
      "align_self": null,
      "border": null,
      "bottom": null,
      "display": null,
      "flex": null,
      "flex_flow": null,
      "grid_area": null,
      "grid_auto_columns": null,
      "grid_auto_flow": null,
      "grid_auto_rows": null,
      "grid_column": null,
      "grid_gap": null,
      "grid_row": null,
      "grid_template_areas": null,
      "grid_template_columns": null,
      "grid_template_rows": null,
      "height": null,
      "justify_content": null,
      "justify_items": null,
      "left": null,
      "margin": null,
      "max_height": null,
      "max_width": null,
      "min_height": null,
      "min_width": null,
      "object_fit": null,
      "object_position": null,
      "order": null,
      "overflow": null,
      "overflow_x": null,
      "overflow_y": null,
      "padding": null,
      "right": null,
      "top": null,
      "visibility": null,
      "width": null
     }
    },
    "90d39cb913d043ef9f75aae44a4254b4": {
     "model_module": "@jupyter-widgets/base",
     "model_name": "LayoutModel",
     "state": {
      "_model_module": "@jupyter-widgets/base",
      "_model_module_version": "1.2.0",
      "_model_name": "LayoutModel",
      "_view_count": null,
      "_view_module": "@jupyter-widgets/base",
      "_view_module_version": "1.2.0",
      "_view_name": "LayoutView",
      "align_content": null,
      "align_items": null,
      "align_self": null,
      "border": null,
      "bottom": null,
      "display": null,
      "flex": null,
      "flex_flow": null,
      "grid_area": null,
      "grid_auto_columns": null,
      "grid_auto_flow": null,
      "grid_auto_rows": null,
      "grid_column": null,
      "grid_gap": null,
      "grid_row": null,
      "grid_template_areas": null,
      "grid_template_columns": null,
      "grid_template_rows": null,
      "height": null,
      "justify_content": null,
      "justify_items": null,
      "left": null,
      "margin": null,
      "max_height": null,
      "max_width": null,
      "min_height": null,
      "min_width": null,
      "object_fit": null,
      "object_position": null,
      "order": null,
      "overflow": null,
      "overflow_x": null,
      "overflow_y": null,
      "padding": null,
      "right": null,
      "top": null,
      "visibility": null,
      "width": null
     }
    },
    "9158da074ad84d63a502f10a257013c7": {
     "model_module": "@jupyter-widgets/controls",
     "model_name": "IntProgressModel",
     "state": {
      "_dom_classes": [],
      "_model_module": "@jupyter-widgets/controls",
      "_model_module_version": "1.5.0",
      "_model_name": "IntProgressModel",
      "_view_count": null,
      "_view_module": "@jupyter-widgets/controls",
      "_view_module_version": "1.5.0",
      "_view_name": "ProgressView",
      "bar_style": "success",
      "description": "",
      "description_tooltip": null,
      "layout": "IPY_MODEL_97c07b8ebb784bdd8d5ecf43bfb1dbff",
      "max": 32,
      "min": 0,
      "orientation": "horizontal",
      "style": "IPY_MODEL_64aa378acca5486ca097dbc931ae0f99",
      "value": 32
     }
    },
    "935170f952844e35b47c3a828f642ba3": {
     "model_module": "@jupyter-widgets/controls",
     "model_name": "HTMLModel",
     "state": {
      "_dom_classes": [],
      "_model_module": "@jupyter-widgets/controls",
      "_model_module_version": "1.5.0",
      "_model_name": "HTMLModel",
      "_view_count": null,
      "_view_module": "@jupyter-widgets/controls",
      "_view_module_version": "1.5.0",
      "_view_name": "HTMLView",
      "description": "",
      "description_tooltip": null,
      "layout": "IPY_MODEL_2b73cc8a3df7408e9f844122ea8a1216",
      "placeholder": "​",
      "style": "IPY_MODEL_a2c8d1bdb8fa468781bb6427b129b697",
      "value": " 22% 7/32 [00:05&lt;00:18,  1.32it/s]"
     }
    },
    "97c07b8ebb784bdd8d5ecf43bfb1dbff": {
     "model_module": "@jupyter-widgets/base",
     "model_name": "LayoutModel",
     "state": {
      "_model_module": "@jupyter-widgets/base",
      "_model_module_version": "1.2.0",
      "_model_name": "LayoutModel",
      "_view_count": null,
      "_view_module": "@jupyter-widgets/base",
      "_view_module_version": "1.2.0",
      "_view_name": "LayoutView",
      "align_content": null,
      "align_items": null,
      "align_self": null,
      "border": null,
      "bottom": null,
      "display": null,
      "flex": null,
      "flex_flow": null,
      "grid_area": null,
      "grid_auto_columns": null,
      "grid_auto_flow": null,
      "grid_auto_rows": null,
      "grid_column": null,
      "grid_gap": null,
      "grid_row": null,
      "grid_template_areas": null,
      "grid_template_columns": null,
      "grid_template_rows": null,
      "height": null,
      "justify_content": null,
      "justify_items": null,
      "left": null,
      "margin": null,
      "max_height": null,
      "max_width": null,
      "min_height": null,
      "min_width": null,
      "object_fit": null,
      "object_position": null,
      "order": null,
      "overflow": null,
      "overflow_x": null,
      "overflow_y": null,
      "padding": null,
      "right": null,
      "top": null,
      "visibility": null,
      "width": null
     }
    },
    "9e2ff9fae9074957ab1fa452515fea49": {
     "model_module": "@jupyter-widgets/controls",
     "model_name": "IntProgressModel",
     "state": {
      "_dom_classes": [],
      "_model_module": "@jupyter-widgets/controls",
      "_model_module_version": "1.5.0",
      "_model_name": "IntProgressModel",
      "_view_count": null,
      "_view_module": "@jupyter-widgets/controls",
      "_view_module_version": "1.5.0",
      "_view_name": "ProgressView",
      "bar_style": "danger",
      "description": "",
      "description_tooltip": null,
      "layout": "IPY_MODEL_af73114b94804c8ea57fc623d39877c4",
      "max": 32,
      "min": 0,
      "orientation": "horizontal",
      "style": "IPY_MODEL_05e65453bad640a3b6c50e44944bada7",
      "value": 7
     }
    },
    "9e92eacca7074686a03a01a503dfc5eb": {
     "model_module": "@jupyter-widgets/controls",
     "model_name": "HBoxModel",
     "state": {
      "_dom_classes": [],
      "_model_module": "@jupyter-widgets/controls",
      "_model_module_version": "1.5.0",
      "_model_name": "HBoxModel",
      "_view_count": null,
      "_view_module": "@jupyter-widgets/controls",
      "_view_module_version": "1.5.0",
      "_view_name": "HBoxView",
      "box_style": "",
      "children": [
       "IPY_MODEL_9158da074ad84d63a502f10a257013c7",
       "IPY_MODEL_1fd9a1ee89324205be3a20686704ef24"
      ],
      "layout": "IPY_MODEL_e3a367989cd94a469e4ca194d68dd00d"
     }
    },
    "a2c8d1bdb8fa468781bb6427b129b697": {
     "model_module": "@jupyter-widgets/controls",
     "model_name": "DescriptionStyleModel",
     "state": {
      "_model_module": "@jupyter-widgets/controls",
      "_model_module_version": "1.5.0",
      "_model_name": "DescriptionStyleModel",
      "_view_count": null,
      "_view_module": "@jupyter-widgets/base",
      "_view_module_version": "1.2.0",
      "_view_name": "StyleView",
      "description_width": ""
     }
    },
    "aa753c8adb3c45f9ba2f36c2fddee741": {
     "model_module": "@jupyter-widgets/base",
     "model_name": "LayoutModel",
     "state": {
      "_model_module": "@jupyter-widgets/base",
      "_model_module_version": "1.2.0",
      "_model_name": "LayoutModel",
      "_view_count": null,
      "_view_module": "@jupyter-widgets/base",
      "_view_module_version": "1.2.0",
      "_view_name": "LayoutView",
      "align_content": null,
      "align_items": null,
      "align_self": null,
      "border": null,
      "bottom": null,
      "display": null,
      "flex": null,
      "flex_flow": null,
      "grid_area": null,
      "grid_auto_columns": null,
      "grid_auto_flow": null,
      "grid_auto_rows": null,
      "grid_column": null,
      "grid_gap": null,
      "grid_row": null,
      "grid_template_areas": null,
      "grid_template_columns": null,
      "grid_template_rows": null,
      "height": null,
      "justify_content": null,
      "justify_items": null,
      "left": null,
      "margin": null,
      "max_height": null,
      "max_width": null,
      "min_height": null,
      "min_width": null,
      "object_fit": null,
      "object_position": null,
      "order": null,
      "overflow": null,
      "overflow_x": null,
      "overflow_y": null,
      "padding": null,
      "right": null,
      "top": null,
      "visibility": null,
      "width": null
     }
    },
    "af73114b94804c8ea57fc623d39877c4": {
     "model_module": "@jupyter-widgets/base",
     "model_name": "LayoutModel",
     "state": {
      "_model_module": "@jupyter-widgets/base",
      "_model_module_version": "1.2.0",
      "_model_name": "LayoutModel",
      "_view_count": null,
      "_view_module": "@jupyter-widgets/base",
      "_view_module_version": "1.2.0",
      "_view_name": "LayoutView",
      "align_content": null,
      "align_items": null,
      "align_self": null,
      "border": null,
      "bottom": null,
      "display": null,
      "flex": null,
      "flex_flow": null,
      "grid_area": null,
      "grid_auto_columns": null,
      "grid_auto_flow": null,
      "grid_auto_rows": null,
      "grid_column": null,
      "grid_gap": null,
      "grid_row": null,
      "grid_template_areas": null,
      "grid_template_columns": null,
      "grid_template_rows": null,
      "height": null,
      "justify_content": null,
      "justify_items": null,
      "left": null,
      "margin": null,
      "max_height": null,
      "max_width": null,
      "min_height": null,
      "min_width": null,
      "object_fit": null,
      "object_position": null,
      "order": null,
      "overflow": null,
      "overflow_x": null,
      "overflow_y": null,
      "padding": null,
      "right": null,
      "top": null,
      "visibility": null,
      "width": null
     }
    },
    "bc4c2f7ab54d480686dc1176477e7c4c": {
     "model_module": "@jupyter-widgets/controls",
     "model_name": "IntProgressModel",
     "state": {
      "_dom_classes": [],
      "_model_module": "@jupyter-widgets/controls",
      "_model_module_version": "1.5.0",
      "_model_name": "IntProgressModel",
      "_view_count": null,
      "_view_module": "@jupyter-widgets/controls",
      "_view_module_version": "1.5.0",
      "_view_name": "ProgressView",
      "bar_style": "success",
      "description": "",
      "description_tooltip": null,
      "layout": "IPY_MODEL_2fe5ef9fb30c4cb7abf45052f353b97e",
      "max": 32,
      "min": 0,
      "orientation": "horizontal",
      "style": "IPY_MODEL_f7fa4912f6634331bf50e9f6baa4b3e1",
      "value": 32
     }
    },
    "bff01acae93b449794eec6c747c3ff18": {
     "model_module": "@jupyter-widgets/controls",
     "model_name": "DescriptionStyleModel",
     "state": {
      "_model_module": "@jupyter-widgets/controls",
      "_model_module_version": "1.5.0",
      "_model_name": "DescriptionStyleModel",
      "_view_count": null,
      "_view_module": "@jupyter-widgets/base",
      "_view_module_version": "1.2.0",
      "_view_name": "StyleView",
      "description_width": ""
     }
    },
    "c074dc24ac1e4eada4852b8f942c09a4": {
     "model_module": "@jupyter-widgets/controls",
     "model_name": "HBoxModel",
     "state": {
      "_dom_classes": [],
      "_model_module": "@jupyter-widgets/controls",
      "_model_module_version": "1.5.0",
      "_model_name": "HBoxModel",
      "_view_count": null,
      "_view_module": "@jupyter-widgets/controls",
      "_view_module_version": "1.5.0",
      "_view_name": "HBoxView",
      "box_style": "",
      "children": [
       "IPY_MODEL_9e2ff9fae9074957ab1fa452515fea49",
       "IPY_MODEL_935170f952844e35b47c3a828f642ba3"
      ],
      "layout": "IPY_MODEL_90d39cb913d043ef9f75aae44a4254b4"
     }
    },
    "ccf66230c9404d918a787ec1f4f6dff4": {
     "model_module": "@jupyter-widgets/base",
     "model_name": "LayoutModel",
     "state": {
      "_model_module": "@jupyter-widgets/base",
      "_model_module_version": "1.2.0",
      "_model_name": "LayoutModel",
      "_view_count": null,
      "_view_module": "@jupyter-widgets/base",
      "_view_module_version": "1.2.0",
      "_view_name": "LayoutView",
      "align_content": null,
      "align_items": null,
      "align_self": null,
      "border": null,
      "bottom": null,
      "display": null,
      "flex": null,
      "flex_flow": null,
      "grid_area": null,
      "grid_auto_columns": null,
      "grid_auto_flow": null,
      "grid_auto_rows": null,
      "grid_column": null,
      "grid_gap": null,
      "grid_row": null,
      "grid_template_areas": null,
      "grid_template_columns": null,
      "grid_template_rows": null,
      "height": null,
      "justify_content": null,
      "justify_items": null,
      "left": null,
      "margin": null,
      "max_height": null,
      "max_width": null,
      "min_height": null,
      "min_width": null,
      "object_fit": null,
      "object_position": null,
      "order": null,
      "overflow": null,
      "overflow_x": null,
      "overflow_y": null,
      "padding": null,
      "right": null,
      "top": null,
      "visibility": null,
      "width": null
     }
    },
    "d0a3c5f838c04899a93ed88181301141": {
     "model_module": "@jupyter-widgets/base",
     "model_name": "LayoutModel",
     "state": {
      "_model_module": "@jupyter-widgets/base",
      "_model_module_version": "1.2.0",
      "_model_name": "LayoutModel",
      "_view_count": null,
      "_view_module": "@jupyter-widgets/base",
      "_view_module_version": "1.2.0",
      "_view_name": "LayoutView",
      "align_content": null,
      "align_items": null,
      "align_self": null,
      "border": null,
      "bottom": null,
      "display": null,
      "flex": null,
      "flex_flow": null,
      "grid_area": null,
      "grid_auto_columns": null,
      "grid_auto_flow": null,
      "grid_auto_rows": null,
      "grid_column": null,
      "grid_gap": null,
      "grid_row": null,
      "grid_template_areas": null,
      "grid_template_columns": null,
      "grid_template_rows": null,
      "height": null,
      "justify_content": null,
      "justify_items": null,
      "left": null,
      "margin": null,
      "max_height": null,
      "max_width": null,
      "min_height": null,
      "min_width": null,
      "object_fit": null,
      "object_position": null,
      "order": null,
      "overflow": null,
      "overflow_x": null,
      "overflow_y": null,
      "padding": null,
      "right": null,
      "top": null,
      "visibility": null,
      "width": null
     }
    },
    "dbc7d0b0ef6f4889b1a1aee06cfe4b74": {
     "model_module": "@jupyter-widgets/controls",
     "model_name": "DescriptionStyleModel",
     "state": {
      "_model_module": "@jupyter-widgets/controls",
      "_model_module_version": "1.5.0",
      "_model_name": "DescriptionStyleModel",
      "_view_count": null,
      "_view_module": "@jupyter-widgets/base",
      "_view_module_version": "1.2.0",
      "_view_name": "StyleView",
      "description_width": ""
     }
    },
    "e3a367989cd94a469e4ca194d68dd00d": {
     "model_module": "@jupyter-widgets/base",
     "model_name": "LayoutModel",
     "state": {
      "_model_module": "@jupyter-widgets/base",
      "_model_module_version": "1.2.0",
      "_model_name": "LayoutModel",
      "_view_count": null,
      "_view_module": "@jupyter-widgets/base",
      "_view_module_version": "1.2.0",
      "_view_name": "LayoutView",
      "align_content": null,
      "align_items": null,
      "align_self": null,
      "border": null,
      "bottom": null,
      "display": null,
      "flex": null,
      "flex_flow": null,
      "grid_area": null,
      "grid_auto_columns": null,
      "grid_auto_flow": null,
      "grid_auto_rows": null,
      "grid_column": null,
      "grid_gap": null,
      "grid_row": null,
      "grid_template_areas": null,
      "grid_template_columns": null,
      "grid_template_rows": null,
      "height": null,
      "justify_content": null,
      "justify_items": null,
      "left": null,
      "margin": null,
      "max_height": null,
      "max_width": null,
      "min_height": null,
      "min_width": null,
      "object_fit": null,
      "object_position": null,
      "order": null,
      "overflow": null,
      "overflow_x": null,
      "overflow_y": null,
      "padding": null,
      "right": null,
      "top": null,
      "visibility": null,
      "width": null
     }
    },
    "e5d73c26d091472b81b9af1dd2e26eab": {
     "model_module": "@jupyter-widgets/controls",
     "model_name": "ProgressStyleModel",
     "state": {
      "_model_module": "@jupyter-widgets/controls",
      "_model_module_version": "1.5.0",
      "_model_name": "ProgressStyleModel",
      "_view_count": null,
      "_view_module": "@jupyter-widgets/base",
      "_view_module_version": "1.2.0",
      "_view_name": "StyleView",
      "bar_color": null,
      "description_width": ""
     }
    },
    "f57444f3acc8402e923b8ff8b8bb4bac": {
     "model_module": "@jupyter-widgets/controls",
     "model_name": "HBoxModel",
     "state": {
      "_dom_classes": [],
      "_model_module": "@jupyter-widgets/controls",
      "_model_module_version": "1.5.0",
      "_model_name": "HBoxModel",
      "_view_count": null,
      "_view_module": "@jupyter-widgets/controls",
      "_view_module_version": "1.5.0",
      "_view_name": "HBoxView",
      "box_style": "",
      "children": [
       "IPY_MODEL_80c68909d3de4843996677f4f7ab2dfe",
       "IPY_MODEL_0f0045aabfc04b2e9978da09c8651f93"
      ],
      "layout": "IPY_MODEL_856e44768e1740b191929aa863df9f45"
     }
    },
    "f7fa4912f6634331bf50e9f6baa4b3e1": {
     "model_module": "@jupyter-widgets/controls",
     "model_name": "ProgressStyleModel",
     "state": {
      "_model_module": "@jupyter-widgets/controls",
      "_model_module_version": "1.5.0",
      "_model_name": "ProgressStyleModel",
      "_view_count": null,
      "_view_module": "@jupyter-widgets/base",
      "_view_module_version": "1.2.0",
      "_view_name": "StyleView",
      "bar_color": null,
      "description_width": ""
     }
    }
   }
  }
 },
 "nbformat": 4,
 "nbformat_minor": 1
}
