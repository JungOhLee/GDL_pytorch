{
 "cells": [
  {
   "cell_type": "code",
   "execution_count": null,
   "metadata": {},
   "outputs": [],
   "source": [
    "import pickle\n",
    "import os\n",
    "import pandas as pd\n",
    "import numpy as np\n",
    "from os import walk, getcwd\n",
    "import scipy\n",
    "from glob import glob\n",
    "import pdb\n",
    "\n",
    "# from keras.datasets import mnist\n",
    "# from keras.preprocessing.image import ImageDataGenerator, load_img, save_img, img_to_array\n",
    "\n",
    "# from keras import backend as K\n",
    "# from keras.utils import to_categorical\n",
    "\n",
    "class ImageLabelLoader():\n",
    "    def __init__(self, image_folder, target_size):\n",
    "        self.image_folder = image_folder\n",
    "        self.target_size = target_size\n",
    "\n",
    "    def build(self, att, batch_size, label = None):\n",
    "\n",
    "        data_gen = ImageDataGenerator(rescale=1./255)\n",
    "        if label:\n",
    "            data_flow = data_gen.flow_from_dataframe(\n",
    "                att\n",
    "                , self.image_folder\n",
    "                , x_col='image_id'\n",
    "                , y_col=label\n",
    "                , target_size=self.target_size \n",
    "                , class_mode='other'\n",
    "                , batch_size=batch_size\n",
    "                , shuffle=True\n",
    "            )\n",
    "        else:\n",
    "            data_flow = data_gen.flow_from_dataframe(\n",
    "                att\n",
    "                , self.image_folder\n",
    "                , x_col='image_id'\n",
    "                , target_size=self.target_size \n",
    "                , class_mode='input'\n",
    "                , batch_size=batch_size\n",
    "                , shuffle=True\n",
    "            )\n",
    "\n",
    "        return data_flow\n"
   ]
  }
 ],
 "metadata": {
  "kernelspec": {
   "display_name": "gan",
   "language": "python",
   "name": "gan"
  },
  "language_info": {
   "codemirror_mode": {
    "name": "ipython",
    "version": 3
   },
   "file_extension": ".py",
   "mimetype": "text/x-python",
   "name": "python",
   "nbconvert_exporter": "python",
   "pygments_lexer": "ipython3",
   "version": "3.6.8"
  }
 },
 "nbformat": 4,
 "nbformat_minor": 2
}
