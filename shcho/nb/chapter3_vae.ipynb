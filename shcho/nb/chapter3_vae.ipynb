{
 "cells": [
  {
   "cell_type": "markdown",
   "metadata": {},
   "source": [
    "## VAE digits"
   ]
  },
  {
   "cell_type": "code",
   "execution_count": 1,
   "metadata": {},
   "outputs": [],
   "source": [
    "import torch.nn as nn"
   ]
  },
  {
   "cell_type": "code",
   "execution_count": 2,
   "metadata": {},
   "outputs": [],
   "source": [
    "import numpy as np\n",
    "import json\n",
    "import os\n",
    "import pickle"
   ]
  },
  {
   "cell_type": "code",
   "execution_count": 3,
   "metadata": {},
   "outputs": [],
   "source": [
    "import torch\n",
    "import torch.optim as optim"
   ]
  },
  {
   "cell_type": "code",
   "execution_count": 4,
   "metadata": {},
   "outputs": [],
   "source": [
    "import collections"
   ]
  },
  {
   "cell_type": "code",
   "execution_count": 5,
   "metadata": {},
   "outputs": [],
   "source": [
    "from torchsummary import summary as torch_network_summary"
   ]
  },
  {
   "cell_type": "code",
   "execution_count": 6,
   "metadata": {},
   "outputs": [],
   "source": [
    "import numpy as np\n",
    "import matplotlib.pyplot as plt\n",
    "import numpy as np\n",
    "import os\n",
    "from scipy.stats import norm"
   ]
  },
  {
   "cell_type": "code",
   "execution_count": 7,
   "metadata": {},
   "outputs": [],
   "source": [
    "from tqdm import tqdm_notebook as tqdm"
   ]
  },
  {
   "cell_type": "code",
   "execution_count": 8,
   "metadata": {},
   "outputs": [],
   "source": [
    "device = torch.device('cuda' if torch.cuda.is_available() else 'cpu')"
   ]
  },
  {
   "cell_type": "code",
   "execution_count": 9,
   "metadata": {},
   "outputs": [],
   "source": [
    "class Encoder_part(nn.Module):\n",
    "    def __init__(self\n",
    "        , input_dim\n",
    "        , encoder_conv_filters\n",
    "        , encoder_conv_kernel_size\n",
    "        , encoder_conv_strides\n",
    "        , z_dim\n",
    "        , use_batch_norm = False\n",
    "        , use_dropout= False\n",
    "        , use_VAE = False\n",
    "        ):\n",
    "        super(Encoder_part, self).__init__()\n",
    "\n",
    "        self.name = 'variational_autoencoder'\n",
    "\n",
    "        self.input_dim = input_dim\n",
    "        self.input_filter = self.input_dim[0]\n",
    "        self.encoder_conv_filters_input = [self.input_filter] + encoder_conv_filters[:-1]\n",
    "        self.encoder_conv_filters_output = encoder_conv_filters\n",
    "        self.encoder_conv_kernel_size = encoder_conv_kernel_size\n",
    "        self.encoder_conv_strides = encoder_conv_strides\n",
    "        self.z_dim = z_dim\n",
    "        \n",
    "        self.use_VAE = use_VAE\n",
    "\n",
    "        self.use_batch_norm = use_batch_norm\n",
    "        self.use_dropout = use_dropout\n",
    "\n",
    "        self.n_layers_encoder = len(encoder_conv_filters)\n",
    "        \n",
    "        self.conv_layers = nn.Sequential()\n",
    "        self.output_shape = collections.OrderedDict()\n",
    "        \n",
    "        self.output_shape['Input'] = self.input_dim\n",
    "        current_layer_name = 'Input'\n",
    "        current_input_shape = self.output_shape[current_layer_name]\n",
    "        \n",
    "        for i in range(self.n_layers_encoder):\n",
    "            \n",
    "            current_filter, input_H, input_W = current_input_shape\n",
    "            current_layer_name = 'Layer {} Conv2d'.format(i)\n",
    "            \n",
    "            kernel = self.encoder_conv_kernel_size[i]\n",
    "            stride = self.encoder_conv_strides[i]\n",
    "            \n",
    "            _output_H = int((input_H-kernel)/stride) + 1\n",
    "            _output_W = int((input_W-kernel)/stride) + 1\n",
    "            \n",
    "            if int(input_H/stride) != _output_H:\n",
    "                padding = max(0, int((kernel-(_output_H%stride))/2))\n",
    "            else:\n",
    "                padding = 0\n",
    "            \n",
    "            output_H = int((input_H-kernel+2*padding)/stride) + 1\n",
    "            output_W = int((input_W-kernel+2*padding)/stride) + 1\n",
    "            \n",
    "            self.output_shape[current_layer_name] = [self.encoder_conv_filters_output[i], output_H, output_W]\n",
    "            current_input_shape = self.output_shape[current_layer_name]\n",
    "            \n",
    "            self.conv_layers.add_module(current_layer_name,\n",
    "                            nn.Conv2d(self.encoder_conv_filters_input[i]\n",
    "                                    , self.encoder_conv_filters_output[i]\n",
    "                                    , kernel_size = self.encoder_conv_kernel_size[i]\n",
    "                                    , stride = self.encoder_conv_strides[i]\n",
    "                                    , padding = padding\n",
    "                                    ))\n",
    "            if self.use_batch_norm:\n",
    "                \n",
    "                self.conv_layers.add_module('Layer {} BatchNorm2d'.format(i), \n",
    "                                            nn.BatchNorm2d(self.encoder_conv_filters_output[i]))\n",
    "\n",
    "            self.conv_layers.add_module('Layer {} LeakyReLU'.format(i), nn.LeakyReLU())\n",
    "\n",
    "            if self.use_dropout:\n",
    "                self.conv_layers.add_module('Layer {} Dropout2d'.format(i), nn.Dropout2d(p=0.25))\n",
    "        \n",
    "        self.encoder_cnn_output_shape = current_input_shape\n",
    "        self.Flattened_shape = np.prod(self.encoder_cnn_output_shape)\n",
    "        self.Flattened = nn.Linear(self.Flattened_shape, self.z_dim)\n",
    "        \n",
    "        if self.use_VAE:\n",
    "            self.mu = nn.Linear(self.Flattened_shape, self.z_dim)\n",
    "            self.log_var = nn.Linear(self.Flattened_shape, self.z_dim)\n",
    "            self.kl_loss = None\n",
    "        \n",
    "    def forward(self, x):\n",
    "        x = self.conv_layers(x)\n",
    "        x = x.reshape(x.size()[0],-1)\n",
    "        flattened = self.Flattened(x)\n",
    "        \n",
    "        if self.use_VAE:\n",
    "            epsilon = torch.randn(flattened.size()[1:]).to(device)\n",
    "            mu = self.mu(x)\n",
    "            log_var = self.log_var(x)\n",
    "            encoder_output = mu + torch.exp(log_var/2) * epsilon\n",
    "            \n",
    "            self.kl_loss =  -0.5 * (1 + log_var - mu**2 - torch.exp(log_var)).sum()\n",
    "            \n",
    "        else:\n",
    "            encoder_output = flattened\n",
    "            \n",
    "        return encoder_output\n",
    "        "
   ]
  },
  {
   "cell_type": "code",
   "execution_count": 10,
   "metadata": {},
   "outputs": [],
   "source": [
    "class Decoder_part(nn.Module):\n",
    "    def __init__(self\n",
    "        , encoder_cnn_output_shape\n",
    "        , decoder_conv_t_filters\n",
    "        , decoder_conv_t_kernel_size\n",
    "        , decoder_conv_t_strides\n",
    "        , z_dim\n",
    "        , use_batch_norm = False\n",
    "        , use_dropout= False\n",
    "        ):\n",
    "        super(Decoder_part, self).__init__()\n",
    "    \n",
    "        self.encoder_cnn_output_shape = encoder_cnn_output_shape\n",
    "        self.decoder_conv_t_filters_input = [encoder_cnn_output_shape[0]] + decoder_conv_t_filters[:-1]\n",
    "        self.decoder_conv_t_filters_output = decoder_conv_t_filters\n",
    "        self.decoder_conv_t_kernel_size = decoder_conv_t_kernel_size\n",
    "        self.decoder_conv_t_strides = decoder_conv_t_strides\n",
    "        self.z_dim = z_dim\n",
    "\n",
    "        self.use_batch_norm = use_batch_norm\n",
    "        self.use_dropout = use_dropout\n",
    "\n",
    "        self.n_layers_decoder = len(decoder_conv_t_filters)\n",
    "        \n",
    "        \n",
    "        self.conv_layers = nn.Sequential()\n",
    "        self.output_shape = collections.OrderedDict()\n",
    "        \n",
    "        self.output_shape['Input'] = self.encoder_cnn_output_shape\n",
    "        current_layer_name = 'Input'\n",
    "        current_input_shape = self.output_shape[current_layer_name]\n",
    "        \n",
    "        self.Reshaping = nn.Linear(self.z_dim, np.prod(self.encoder_cnn_output_shape))\n",
    "        \n",
    "        for i in range(self.n_layers_decoder):\n",
    "            \n",
    "            current_filter, input_H, input_W = current_input_shape\n",
    "            current_layer_name = 'Layer {} Conv2d'.format(i)\n",
    "            \n",
    "            kernel = self.decoder_conv_t_kernel_size[i]\n",
    "            stride = self.decoder_conv_t_strides[i]\n",
    "            \n",
    "            _output_H = (input_H-1)*stride + kernel\n",
    "            _output_W = (input_W-1)*stride + kernel\n",
    "            \n",
    "            if int(input_H*stride) != _output_H:\n",
    "                padding = (_output_H-input_H*stride)/2\n",
    "                if padding%1 == 0.5:\n",
    "                    padding = max(0, int(padding)) + 1\n",
    "                    output_padding = 1\n",
    "                else:\n",
    "                    padding = int(padding)\n",
    "                    output_padding = 0\n",
    "            else:\n",
    "                padding = 0\n",
    "                output_padding = 0\n",
    "            \n",
    "            output_H = (input_H-1)*stride + kernel - 2*padding + output_padding\n",
    "            output_W = (input_W-1)*stride + kernel - 2*padding + output_padding\n",
    "            \n",
    "            self.output_shape[current_layer_name] = [self.decoder_conv_t_filters_output[i], output_H, output_W]\n",
    "            current_input_shape = self.output_shape[current_layer_name]\n",
    "            \n",
    "            self.conv_layers.add_module(current_layer_name,\n",
    "                            nn.ConvTranspose2d(self.decoder_conv_t_filters_input[i]\n",
    "                                    , self.decoder_conv_t_filters_output[i]\n",
    "                                    , kernel_size = self.decoder_conv_t_kernel_size[i]\n",
    "                                    , stride = self.decoder_conv_t_strides[i]\n",
    "                                    , padding = padding\n",
    "                                    , output_padding = output_padding\n",
    "                                    ))\n",
    "            if i < self.n_layers_decoder - 1:\n",
    "                if self.use_batch_norm:\n",
    "                    self.conv_layers.add_module('Layer {} BatchNorm2d'.format(i), \n",
    "                                                nn.BatchNorm2d(self.decoder_conv_t_filters_output[i]))\n",
    "\n",
    "                self.conv_layers.add_module('Layer {} LeakyReLU'.format(i), nn.LeakyReLU())\n",
    "\n",
    "                if self.use_dropout:\n",
    "                    self.conv_layers.add_module('Layer {} Dropout2d'.format(i), nn.Dropout2d(p=0.25))\n",
    "            else:\n",
    "                self.conv_layers.add_module('Layer {} Sigmoid'.format(i), nn.Sigmoid())\n",
    "        \n",
    "    def forward(self, x):\n",
    "        x = self.Reshaping(x)\n",
    "        x = x.reshape([x.size()[0]]+self.encoder_cnn_output_shape)\n",
    "        x = self.conv_layers(x)\n",
    "        \n",
    "        return x"
   ]
  },
  {
   "cell_type": "code",
   "execution_count": 11,
   "metadata": {},
   "outputs": [],
   "source": [
    "class Autoenocoder_pt(nn.Module):\n",
    "    def __init__(self,\n",
    "                encoder, decoder):\n",
    "        super(Autoenocoder_pt, self).__init__()\n",
    "        self.encoder_part = encoder_part\n",
    "        self.decoder_part = decoder_part\n",
    "        \n",
    "    def forward(self, x):\n",
    "        x = self.encoder_part(x)\n",
    "        x = self.decoder_part(x)\n",
    "        \n",
    "        return x"
   ]
  },
  {
   "cell_type": "markdown",
   "metadata": {},
   "source": [
    "## Training"
   ]
  },
  {
   "cell_type": "code",
   "execution_count": 121,
   "metadata": {},
   "outputs": [],
   "source": [
    "channels, H, W = 1, 28, 28"
   ]
  },
  {
   "cell_type": "code",
   "execution_count": 122,
   "metadata": {},
   "outputs": [],
   "source": [
    "sample_input = torch.rand(1,channels, H, W).to(device)\n",
    "input_dim = sample_input.cpu().numpy().shape[1:]"
   ]
  },
  {
   "cell_type": "code",
   "execution_count": 123,
   "metadata": {},
   "outputs": [],
   "source": [
    "encoder_conv_filters = [32,64,64, 64]\n",
    "encoder_conv_kernel_size = [3,3,3,3]\n",
    "encoder_conv_strides = [1,2,2,1]\n",
    "decoder_conv_t_filters = [64,64,32,1]\n",
    "decoder_conv_t_kernel_size = [3,3,3,3]\n",
    "decoder_conv_t_strides = [1,2,2,1]\n",
    "z_dim = 2"
   ]
  },
  {
   "cell_type": "code",
   "execution_count": 124,
   "metadata": {},
   "outputs": [],
   "source": [
    "use_VAE_mode = True"
   ]
  },
  {
   "cell_type": "code",
   "execution_count": 125,
   "metadata": {},
   "outputs": [],
   "source": [
    "encoder_part = Encoder_part(\n",
    "            input_dim = input_dim\n",
    "        , encoder_conv_filters = encoder_conv_filters\n",
    "        , encoder_conv_kernel_size = encoder_conv_kernel_size\n",
    "        , encoder_conv_strides = encoder_conv_strides\n",
    "        , z_dim = z_dim\n",
    "#         , use_batch_norm = True\n",
    "#         , use_dropout= True\n",
    "        , use_VAE = use_VAE_mode\n",
    ").to(device)"
   ]
  },
  {
   "cell_type": "code",
   "execution_count": 126,
   "metadata": {},
   "outputs": [],
   "source": [
    "decoder_part = Decoder_part(\n",
    "        encoder_cnn_output_shape = encoder_part.encoder_cnn_output_shape\n",
    "        , decoder_conv_t_filters = decoder_conv_t_filters\n",
    "        , decoder_conv_t_kernel_size = decoder_conv_t_kernel_size\n",
    "        , decoder_conv_t_strides = decoder_conv_t_strides\n",
    "        , z_dim = z_dim\n",
    "#         , use_batch_norm = True\n",
    "#         , use_dropout= True\n",
    ").to(device)"
   ]
  },
  {
   "cell_type": "code",
   "execution_count": 127,
   "metadata": {},
   "outputs": [],
   "source": [
    "AE = Autoenocoder_pt(encoder_part, decoder_part)"
   ]
  },
  {
   "cell_type": "markdown",
   "metadata": {},
   "source": [
    "torch_network_summary(AE, encoder_part.input_dim)"
   ]
  },
  {
   "cell_type": "code",
   "execution_count": 128,
   "metadata": {},
   "outputs": [],
   "source": [
    "from utils.loaders import load_mnist, load_model\n",
    "from torch.utils.data import DataLoader"
   ]
  },
  {
   "cell_type": "code",
   "execution_count": 129,
   "metadata": {},
   "outputs": [],
   "source": [
    "(_x_train, y_train), (_x_test, y_test) = load_mnist()\n",
    "_x_train_t = np.transpose(_x_train, (0,3,1,2))\n",
    "_x_test_t = np.transpose(_x_test, (0,3,1,2))\n",
    "\n",
    "x_train = torch.from_numpy(_x_train_t).to(device)\n",
    "x_test = torch.from_numpy(_x_test_t).to(device)\n",
    "\n",
    "input_data = [[x_item, y_item] for x_item, y_item in zip(_x_train_t, y_train)]"
   ]
  },
  {
   "cell_type": "code",
   "execution_count": 130,
   "metadata": {},
   "outputs": [],
   "source": [
    "LEARNING_RATE = 0.0005\n",
    "R_LOSS_FACTOR = 1000"
   ]
  },
  {
   "cell_type": "code",
   "execution_count": 131,
   "metadata": {},
   "outputs": [],
   "source": [
    "optimizer = optim.Adam(AE.parameters(), lr=LEARNING_RATE)\n",
    "criterion = nn.MSELoss().to(device)"
   ]
  },
  {
   "cell_type": "code",
   "execution_count": 132,
   "metadata": {
    "scrolled": true
   },
   "outputs": [
    {
     "name": "stderr",
     "output_type": "stream",
     "text": [
      "/home/hojun/.virtualenvs/gan/lib/python3.6/site-packages/ipykernel_launcher.py:15: TqdmDeprecationWarning: This function will be removed in tqdm==5.0.0\n",
      "Please use `tqdm.notebook.tqdm` instead of `tqdm.tqdm_notebook`\n",
      "  from ipykernel import kernelapp as app\n"
     ]
    },
    {
     "data": {
      "application/vnd.jupyter.widget-view+json": {
       "model_id": "d4f3a69e3b7f472380647c282f40a7e4",
       "version_major": 2,
       "version_minor": 0
      },
      "text/plain": [
       "HBox(children=(FloatProgress(value=0.0, max=1875.0), HTML(value='')))"
      ]
     },
     "metadata": {},
     "output_type": "display_data"
    },
    {
     "name": "stdout",
     "output_type": "stream",
     "text": [
      "\n",
      "0  128857.06605148315  128.83262684568763  24.43932431936264\n"
     ]
    },
    {
     "data": {
      "application/vnd.jupyter.widget-view+json": {
       "model_id": "b32629e441fd4ab9852caa52284a10e8",
       "version_major": 2,
       "version_minor": 0
      },
      "text/plain": [
       "HBox(children=(FloatProgress(value=0.0, max=1875.0), HTML(value='')))"
      ]
     },
     "metadata": {},
     "output_type": "display_data"
    },
    {
     "name": "stdout",
     "output_type": "stream",
     "text": [
      "\n",
      "1  126299.8832244873  126.29742866382003  2.4543579816818237\n"
     ]
    },
    {
     "data": {
      "application/vnd.jupyter.widget-view+json": {
       "model_id": "4147295c46f445b69faba576783e837c",
       "version_major": 2,
       "version_minor": 0
      },
      "text/plain": [
       "HBox(children=(FloatProgress(value=0.0, max=1875.0), HTML(value='')))"
      ]
     },
     "metadata": {},
     "output_type": "display_data"
    },
    {
     "name": "stdout",
     "output_type": "stream",
     "text": [
      "\n",
      "2  126261.76258087158  126.25854399055243  3.2187950909137726\n"
     ]
    },
    {
     "data": {
      "application/vnd.jupyter.widget-view+json": {
       "model_id": "3637ba52fd094666b2e08f568bcc3de5",
       "version_major": 2,
       "version_minor": 0
      },
      "text/plain": [
       "HBox(children=(FloatProgress(value=0.0, max=1875.0), HTML(value='')))"
      ]
     },
     "metadata": {},
     "output_type": "display_data"
    },
    {
     "name": "stdout",
     "output_type": "stream",
     "text": [
      "\n",
      "3  126249.36501693726  126.24697262048721  2.39232474565506\n"
     ]
    },
    {
     "data": {
      "application/vnd.jupyter.widget-view+json": {
       "model_id": "299e3749cc58431f9e842df05474a01b",
       "version_major": 2,
       "version_minor": 0
      },
      "text/plain": [
       "HBox(children=(FloatProgress(value=0.0, max=1875.0), HTML(value='')))"
      ]
     },
     "metadata": {},
     "output_type": "display_data"
    },
    {
     "name": "stdout",
     "output_type": "stream",
     "text": [
      "\n",
      "4  126238.34685516357  126.23665798828006  1.68855419754982\n"
     ]
    },
    {
     "data": {
      "application/vnd.jupyter.widget-view+json": {
       "model_id": "40fd9cf6742b4445ac832edfe4e4b940",
       "version_major": 2,
       "version_minor": 0
      },
      "text/plain": [
       "HBox(children=(FloatProgress(value=0.0, max=1875.0), HTML(value='')))"
      ]
     },
     "metadata": {},
     "output_type": "display_data"
    },
    {
     "name": "stdout",
     "output_type": "stream",
     "text": [
      "\n",
      "5  126216.00657272339  126.21277927607298  3.227247506380081\n"
     ]
    },
    {
     "data": {
      "application/vnd.jupyter.widget-view+json": {
       "model_id": "1a8f62568a1c4f0f914cc87e586e92dc",
       "version_major": 2,
       "version_minor": 0
      },
      "text/plain": [
       "HBox(children=(FloatProgress(value=0.0, max=1875.0), HTML(value='')))"
      ]
     },
     "metadata": {},
     "output_type": "display_data"
    },
    {
     "name": "stdout",
     "output_type": "stream",
     "text": [
      "\n",
      "6  126197.88187026978  126.19583132117987  2.050579935312271\n"
     ]
    },
    {
     "data": {
      "application/vnd.jupyter.widget-view+json": {
       "model_id": "689b2843145644a3880e1691eac6a4ed",
       "version_major": 2,
       "version_minor": 0
      },
      "text/plain": [
       "HBox(children=(FloatProgress(value=0.0, max=1875.0), HTML(value='')))"
      ]
     },
     "metadata": {},
     "output_type": "display_data"
    },
    {
     "name": "stdout",
     "output_type": "stream",
     "text": [
      "\n",
      "7  126201.98400115967  126.20114286988974  0.8410890400409698\n"
     ]
    },
    {
     "data": {
      "application/vnd.jupyter.widget-view+json": {
       "model_id": "76e3ec0aae3547f5b9248feaa84771e8",
       "version_major": 2,
       "version_minor": 0
      },
      "text/plain": [
       "HBox(children=(FloatProgress(value=0.0, max=1875.0), HTML(value='')))"
      ]
     },
     "metadata": {},
     "output_type": "display_data"
    },
    {
     "name": "stdout",
     "output_type": "stream",
     "text": [
      "\n",
      "8  126186.34479141235  126.1846787892282  1.666213035583496\n"
     ]
    },
    {
     "data": {
      "application/vnd.jupyter.widget-view+json": {
       "model_id": "9a6b122ef72b4d4f8bcc7ed2843fc626",
       "version_major": 2,
       "version_minor": 0
      },
      "text/plain": [
       "HBox(children=(FloatProgress(value=0.0, max=1875.0), HTML(value='')))"
      ]
     },
     "metadata": {},
     "output_type": "display_data"
    },
    {
     "name": "stdout",
     "output_type": "stream",
     "text": [
      "\n",
      "9  126188.9326171875  126.18770363926888  1.2289599776268005\n"
     ]
    },
    {
     "data": {
      "application/vnd.jupyter.widget-view+json": {
       "model_id": "98e2e8dc5c2347c28a1a5d4684ed51c6",
       "version_major": 2,
       "version_minor": 0
      },
      "text/plain": [
       "HBox(children=(FloatProgress(value=0.0, max=1875.0), HTML(value='')))"
      ]
     },
     "metadata": {},
     "output_type": "display_data"
    },
    {
     "name": "stdout",
     "output_type": "stream",
     "text": [
      "\n",
      "10  126182.59871673584  126.18133171647787  1.26709446310997\n"
     ]
    },
    {
     "data": {
      "application/vnd.jupyter.widget-view+json": {
       "model_id": "fd69e387d1ee44dd83634589a097094a",
       "version_major": 2,
       "version_minor": 0
      },
      "text/plain": [
       "HBox(children=(FloatProgress(value=0.0, max=1875.0), HTML(value='')))"
      ]
     },
     "metadata": {},
     "output_type": "display_data"
    },
    {
     "name": "stdout",
     "output_type": "stream",
     "text": [
      "\n",
      "11  126175.67834472656  126.17441220209002  1.2660744190216064\n"
     ]
    },
    {
     "data": {
      "application/vnd.jupyter.widget-view+json": {
       "model_id": "cebc813322944e7ea41d2371eab3c041",
       "version_major": 2,
       "version_minor": 0
      },
      "text/plain": [
       "HBox(children=(FloatProgress(value=0.0, max=1875.0), HTML(value='')))"
      ]
     },
     "metadata": {},
     "output_type": "display_data"
    },
    {
     "name": "stdout",
     "output_type": "stream",
     "text": [
      "\n",
      "12  126172.88679122925  126.17131586745381  1.5709302723407745\n"
     ]
    },
    {
     "data": {
      "application/vnd.jupyter.widget-view+json": {
       "model_id": "468c44305be3417c8c58ab4f1c1e7ddd",
       "version_major": 2,
       "version_minor": 0
      },
      "text/plain": [
       "HBox(children=(FloatProgress(value=0.0, max=1875.0), HTML(value='')))"
      ]
     },
     "metadata": {},
     "output_type": "display_data"
    },
    {
     "name": "stdout",
     "output_type": "stream",
     "text": [
      "\n",
      "13  126175.61813735962  126.17437467724085  1.2435924708843231\n"
     ]
    },
    {
     "data": {
      "application/vnd.jupyter.widget-view+json": {
       "model_id": "9d4f82bf798f4d5e8be6c7b151203fff",
       "version_major": 2,
       "version_minor": 0
      },
      "text/plain": [
       "HBox(children=(FloatProgress(value=0.0, max=1875.0), HTML(value='')))"
      ]
     },
     "metadata": {},
     "output_type": "display_data"
    },
    {
     "name": "stdout",
     "output_type": "stream",
     "text": [
      "\n",
      "14  126167.65032958984  126.16670994088054  0.9405408799648285\n"
     ]
    },
    {
     "data": {
      "application/vnd.jupyter.widget-view+json": {
       "model_id": "d7a84800b3124d5ca9ef18534dd81a35",
       "version_major": 2,
       "version_minor": 0
      },
      "text/plain": [
       "HBox(children=(FloatProgress(value=0.0, max=1875.0), HTML(value='')))"
      ]
     },
     "metadata": {},
     "output_type": "display_data"
    },
    {
     "name": "stdout",
     "output_type": "stream",
     "text": [
      "\n",
      "15  126163.20234298706  126.16225158050656  0.9505941271781921\n"
     ]
    },
    {
     "data": {
      "application/vnd.jupyter.widget-view+json": {
       "model_id": "c48ae4d384854b98883414cc28c2f4e8",
       "version_major": 2,
       "version_minor": 0
      },
      "text/plain": [
       "HBox(children=(FloatProgress(value=0.0, max=1875.0), HTML(value='')))"
      ]
     },
     "metadata": {},
     "output_type": "display_data"
    },
    {
     "name": "stdout",
     "output_type": "stream",
     "text": [
      "\n",
      "16  126165.57400131226  126.16469803452492  0.8761554956436157\n"
     ]
    },
    {
     "data": {
      "application/vnd.jupyter.widget-view+json": {
       "model_id": "a3e700c1eb7c4de29939a5470123457f",
       "version_major": 2,
       "version_minor": 0
      },
      "text/plain": [
       "HBox(children=(FloatProgress(value=0.0, max=1875.0), HTML(value='')))"
      ]
     },
     "metadata": {},
     "output_type": "display_data"
    },
    {
     "name": "stdout",
     "output_type": "stream",
     "text": [
      "\n",
      "17  126157.12156677246  126.15642292797565  0.6985970735549927\n"
     ]
    },
    {
     "data": {
      "application/vnd.jupyter.widget-view+json": {
       "model_id": "994382468fa449b591970820bf8ab90c",
       "version_major": 2,
       "version_minor": 0
      },
      "text/plain": [
       "HBox(children=(FloatProgress(value=0.0, max=1875.0), HTML(value='')))"
      ]
     },
     "metadata": {},
     "output_type": "display_data"
    },
    {
     "name": "stdout",
     "output_type": "stream",
     "text": [
      "\n",
      "18  126158.62558364868  126.15820534527302  0.4202563166618347\n"
     ]
    },
    {
     "data": {
      "application/vnd.jupyter.widget-view+json": {
       "model_id": "3635f8f166454451939343550a509a80",
       "version_major": 2,
       "version_minor": 0
      },
      "text/plain": [
       "HBox(children=(FloatProgress(value=0.0, max=1875.0), HTML(value='')))"
      ]
     },
     "metadata": {},
     "output_type": "display_data"
    },
    {
     "name": "stdout",
     "output_type": "stream",
     "text": [
      "\n",
      "19  126159.4303855896  126.1586272791028  0.8030276000499725\n"
     ]
    },
    {
     "data": {
      "application/vnd.jupyter.widget-view+json": {
       "model_id": "177fc8181a3a452dbe02134155175cda",
       "version_major": 2,
       "version_minor": 0
      },
      "text/plain": [
       "HBox(children=(FloatProgress(value=0.0, max=1875.0), HTML(value='')))"
      ]
     },
     "metadata": {},
     "output_type": "display_data"
    },
    {
     "name": "stdout",
     "output_type": "stream",
     "text": [
      "\n",
      "20  126158.62536239624  126.15798753127456  0.6378104984760284\n"
     ]
    },
    {
     "data": {
      "application/vnd.jupyter.widget-view+json": {
       "model_id": "95e5a041ec4446be881dd6846c449a64",
       "version_major": 2,
       "version_minor": 0
      },
      "text/plain": [
       "HBox(children=(FloatProgress(value=0.0, max=1875.0), HTML(value='')))"
      ]
     },
     "metadata": {},
     "output_type": "display_data"
    },
    {
     "name": "stdout",
     "output_type": "stream",
     "text": [
      "\n",
      "21  126156.30158615112  126.15568294376135  0.6184816360473633\n"
     ]
    },
    {
     "data": {
      "application/vnd.jupyter.widget-view+json": {
       "model_id": "4b2099cc780b40ff8c35df977d0792e7",
       "version_major": 2,
       "version_minor": 0
      },
      "text/plain": [
       "HBox(children=(FloatProgress(value=0.0, max=1875.0), HTML(value='')))"
      ]
     },
     "metadata": {},
     "output_type": "display_data"
    },
    {
     "name": "stdout",
     "output_type": "stream",
     "text": [
      "\n",
      "22  126154.7416229248  126.1541829816997  0.5586904883384705\n"
     ]
    },
    {
     "data": {
      "application/vnd.jupyter.widget-view+json": {
       "model_id": "b7abc4b91e574188a0bd7ef9c1d2b657",
       "version_major": 2,
       "version_minor": 0
      },
      "text/plain": [
       "HBox(children=(FloatProgress(value=0.0, max=1875.0), HTML(value='')))"
      ]
     },
     "metadata": {},
     "output_type": "display_data"
    },
    {
     "name": "stdout",
     "output_type": "stream",
     "text": [
      "\n",
      "23  126152.25463867188  126.15152121335268  0.7332638800144196\n"
     ]
    },
    {
     "data": {
      "application/vnd.jupyter.widget-view+json": {
       "model_id": "378e4d1c081b43969c515d4182030d9f",
       "version_major": 2,
       "version_minor": 0
      },
      "text/plain": [
       "HBox(children=(FloatProgress(value=0.0, max=1875.0), HTML(value='')))"
      ]
     },
     "metadata": {},
     "output_type": "display_data"
    },
    {
     "name": "stdout",
     "output_type": "stream",
     "text": [
      "\n",
      "24  126152.11602783203  126.15160550549626  0.5107672214508057\n"
     ]
    },
    {
     "data": {
      "application/vnd.jupyter.widget-view+json": {
       "model_id": "1257ff917d2b4f5ea737b50cb8eab127",
       "version_major": 2,
       "version_minor": 0
      },
      "text/plain": [
       "HBox(children=(FloatProgress(value=0.0, max=1875.0), HTML(value='')))"
      ]
     },
     "metadata": {},
     "output_type": "display_data"
    },
    {
     "name": "stdout",
     "output_type": "stream",
     "text": [
      "\n",
      "25  126151.8180770874  126.15131440386176  0.5038040280342102\n"
     ]
    },
    {
     "data": {
      "application/vnd.jupyter.widget-view+json": {
       "model_id": "7aae8631f5ce40008617954b0c04a8a0",
       "version_major": 2,
       "version_minor": 0
      },
      "text/plain": [
       "HBox(children=(FloatProgress(value=0.0, max=1875.0), HTML(value='')))"
      ]
     },
     "metadata": {},
     "output_type": "display_data"
    },
    {
     "name": "stdout",
     "output_type": "stream",
     "text": [
      "\n",
      "26  126147.1063156128  126.14666655287147  0.43962258100509644\n"
     ]
    },
    {
     "data": {
      "application/vnd.jupyter.widget-view+json": {
       "model_id": "d727f6484c4f4edcbaff1c12c264ec28",
       "version_major": 2,
       "version_minor": 0
      },
      "text/plain": [
       "HBox(children=(FloatProgress(value=0.0, max=1875.0), HTML(value='')))"
      ]
     },
     "metadata": {},
     "output_type": "display_data"
    },
    {
     "name": "stdout",
     "output_type": "stream",
     "text": [
      "\n",
      "27  126147.17640304565  126.14630636572838  0.8699466586112976\n"
     ]
    },
    {
     "data": {
      "application/vnd.jupyter.widget-view+json": {
       "model_id": "7920b158b02747f3af469ec802eb49c9",
       "version_major": 2,
       "version_minor": 0
      },
      "text/plain": [
       "HBox(children=(FloatProgress(value=0.0, max=1875.0), HTML(value='')))"
      ]
     },
     "metadata": {},
     "output_type": "display_data"
    },
    {
     "name": "stdout",
     "output_type": "stream",
     "text": [
      "\n",
      "28  126147.02292633057  126.14654561132193  0.47734352946281433\n"
     ]
    }
   ],
   "source": [
    "EPOCHS = 100\n",
    "\n",
    "AE.train()\n",
    "\n",
    "best_loss = 0\n",
    "early_stopping_count = 0\n",
    "total_loss_list = []\n",
    "total_r_loss_list = []\n",
    "total_kl_loss_list = []\n",
    "\n",
    "for epoch in range(EPOCHS):\n",
    "    total_loss = 0\n",
    "    total_r_loss = 0\n",
    "    total_kl_loss = 0\n",
    "    for x_batch, y_batch in tqdm(DataLoader(input_data, 32, True)):\n",
    "        \n",
    "        x_batch = x_batch.to(device)\n",
    "        y_batch = y_batch.to(device)\n",
    "        \n",
    "        optimizer.zero_grad()\n",
    "        \n",
    "        decoder_output = AE(x_batch)\n",
    "        \n",
    "        r_loss = criterion(x_batch, decoder_output)\n",
    "        total_r_loss += r_loss.item()\n",
    "        if AE.encoder_part.use_VAE:\n",
    "            kl_loss = AE.encoder_part.kl_loss\n",
    "            loss = R_LOSS_FACTOR * r_loss + kl_loss\n",
    "            \n",
    "            total_kl_loss += kl_loss.item()\n",
    "        else:\n",
    "            loss = r_loss\n",
    "        \n",
    "        total_loss += loss.item()\n",
    "        \n",
    "        loss.backward()\n",
    "        optimizer.step()\n",
    "    \n",
    "    if epoch == 0:\n",
    "        best_loss = total_loss\n",
    "    else:\n",
    "        if total_loss < best_loss:\n",
    "            best_loss = total_loss\n",
    "            early_stopping_count += 1\n",
    "    total_loss_list.append(total_loss)\n",
    "    total_r_loss_list.append(total_r_loss)\n",
    "    \n",
    "    if AE.encoder_part.use_VAE:\n",
    "        total_kl_loss_list.append(total_kl_loss)\n",
    "        \n",
    "        info2print = '{}  {}  {}  {}'.format(epoch, total_loss, total_r_loss, total_kl_loss)\n",
    "    else:\n",
    "        info2print = '{}  {}  {}'.format(epoch, total_loss, total_r_loss)\n",
    "    \n",
    "    print(info2print)\n",
    "    if early_stopping_count>=20:\n",
    "        break"
   ]
  },
  {
   "cell_type": "markdown",
   "metadata": {},
   "source": [
    "## Model Save"
   ]
  },
  {
   "cell_type": "code",
   "execution_count": 114,
   "metadata": {},
   "outputs": [],
   "source": [
    "torch.save(AE.state_dict(), './models_saved/vae-20200209.pt')"
   ]
  },
  {
   "cell_type": "code",
   "execution_count": 118,
   "metadata": {},
   "outputs": [],
   "source": [
    "channels, H, W = 1, 28, 28\n",
    "\n",
    "sample_input = torch.rand(1,channels, H, W).to(device)\n",
    "input_dim = sample_input.cpu().numpy().shape[1:]\n",
    "\n",
    "encoder_conv_filters = [32,64,64, 64]\n",
    "encoder_conv_kernel_size = [3,3,3,3]\n",
    "encoder_conv_strides = [1,2,2,1]\n",
    "decoder_conv_t_filters = [64,64,32,1]\n",
    "decoder_conv_t_kernel_size = [3,3,3,3]\n",
    "decoder_conv_t_strides = [1,2,2,1]\n",
    "z_dim = 2\n",
    "\n",
    "use_VAE_mode = False\n",
    "\n",
    "encoder_part = Encoder_part(\n",
    "            input_dim = input_dim\n",
    "        , encoder_conv_filters = encoder_conv_filters\n",
    "        , encoder_conv_kernel_size = encoder_conv_kernel_size\n",
    "        , encoder_conv_strides = encoder_conv_strides\n",
    "        , z_dim = z_dim\n",
    "#         , use_batch_norm = True\n",
    "#         , use_dropout= True\n",
    "        , use_VAE = use_VAE_mode\n",
    ").to(device)\n",
    "\n",
    "decoder_part = Decoder_part(\n",
    "        encoder_cnn_output_shape = encoder_part.encoder_cnn_output_shape\n",
    "        , decoder_conv_t_filters = decoder_conv_t_filters\n",
    "        , decoder_conv_t_kernel_size = decoder_conv_t_kernel_size\n",
    "        , decoder_conv_t_strides = decoder_conv_t_strides\n",
    "        , z_dim = z_dim\n",
    "#         , use_batch_norm = True\n",
    "#         , use_dropout= True\n",
    ").to(device)"
   ]
  },
  {
   "cell_type": "code",
   "execution_count": 119,
   "metadata": {},
   "outputs": [],
   "source": [
    "model = Autoenocoder_pt(encoder_part, decoder_part)"
   ]
  },
  {
   "cell_type": "code",
   "execution_count": 120,
   "metadata": {},
   "outputs": [
    {
     "data": {
      "text/plain": [
       "Autoenocoder_pt(\n",
       "  (encoder_part): Encoder_part(\n",
       "    (conv_layers): Sequential(\n",
       "      (Layer 0 Conv2d): Conv2d(1, 32, kernel_size=(3, 3), stride=(1, 1), padding=(1, 1))\n",
       "      (Layer 0 LeakyReLU): LeakyReLU(negative_slope=0.01)\n",
       "      (Layer 1 Conv2d): Conv2d(32, 64, kernel_size=(3, 3), stride=(2, 2), padding=(1, 1))\n",
       "      (Layer 1 LeakyReLU): LeakyReLU(negative_slope=0.01)\n",
       "      (Layer 2 Conv2d): Conv2d(64, 64, kernel_size=(3, 3), stride=(2, 2), padding=(1, 1))\n",
       "      (Layer 2 LeakyReLU): LeakyReLU(negative_slope=0.01)\n",
       "      (Layer 3 Conv2d): Conv2d(64, 64, kernel_size=(3, 3), stride=(1, 1), padding=(1, 1))\n",
       "      (Layer 3 LeakyReLU): LeakyReLU(negative_slope=0.01)\n",
       "    )\n",
       "    (Flattened): Linear(in_features=3136, out_features=2, bias=True)\n",
       "  )\n",
       "  (decoder_part): Decoder_part(\n",
       "    (conv_layers): Sequential(\n",
       "      (Layer 0 Conv2d): ConvTranspose2d(64, 64, kernel_size=(3, 3), stride=(1, 1), padding=(1, 1))\n",
       "      (Layer 0 LeakyReLU): LeakyReLU(negative_slope=0.01)\n",
       "      (Layer 1 Conv2d): ConvTranspose2d(64, 64, kernel_size=(3, 3), stride=(2, 2), padding=(1, 1), output_padding=(1, 1))\n",
       "      (Layer 1 LeakyReLU): LeakyReLU(negative_slope=0.01)\n",
       "      (Layer 2 Conv2d): ConvTranspose2d(64, 32, kernel_size=(3, 3), stride=(2, 2), padding=(1, 1), output_padding=(1, 1))\n",
       "      (Layer 2 LeakyReLU): LeakyReLU(negative_slope=0.01)\n",
       "      (Layer 3 Conv2d): ConvTranspose2d(32, 1, kernel_size=(3, 3), stride=(1, 1), padding=(1, 1))\n",
       "      (Layer 3 Sigmoid): Sigmoid()\n",
       "    )\n",
       "    (Reshaping): Linear(in_features=2, out_features=3136, bias=True)\n",
       "  )\n",
       ")"
      ]
     },
     "execution_count": 120,
     "metadata": {},
     "output_type": "execute_result"
    }
   ],
   "source": [
    "model.load_state_dict(torch.load('./models_saved/ae-20200209.pt'))\n",
    "model.eval()"
   ]
  },
  {
   "cell_type": "markdown",
   "metadata": {},
   "source": [
    "## Analysis"
   ]
  },
  {
   "cell_type": "code",
   "execution_count": 109,
   "metadata": {},
   "outputs": [],
   "source": [
    "(_x_train, y_train), (_x_test, y_test) = load_mnist()\n",
    "_x_train_t = np.transpose(_x_train, (0,3,1,2))\n",
    "_x_test_t = np.transpose(_x_test, (0,3,1,2))\n",
    "\n",
    "x_train = torch.from_numpy(_x_train_t).to(device)\n",
    "x_test = torch.from_numpy(_x_test_t).to(device)"
   ]
  },
  {
   "cell_type": "code",
   "execution_count": 110,
   "metadata": {},
   "outputs": [],
   "source": [
    "n_to_show = 10\n",
    "example_idx = np.random.choice(range(len(x_test)), n_to_show)\n",
    "_example_images = x_test[example_idx]\n",
    "\n",
    "example_images = _example_images.cpu().numpy()"
   ]
  },
  {
   "cell_type": "code",
   "execution_count": 111,
   "metadata": {},
   "outputs": [],
   "source": [
    "_z_points = model.encoder_part(_example_images)\n",
    "z_points = _z_points.cpu().detach().numpy()\n",
    "\n",
    "_reconst_images = model.decoder_part(_z_points)\n",
    "reconst_images = _reconst_images.cpu().detach().numpy()"
   ]
  },
  {
   "cell_type": "markdown",
   "metadata": {},
   "source": [
    "## AutoEncoder 결과"
   ]
  },
  {
   "cell_type": "code",
   "execution_count": 113,
   "metadata": {},
   "outputs": [
    {
     "data": {
      "image/png": "[encoded data removed]",
      "text/plain": [
       "<Figure size 1080x216 with 20 Axes>"
      ]
     },
     "metadata": {
      "needs_background": "light"
     },
     "output_type": "display_data"
    }
   ],
   "source": [
    "fig = plt.figure(figsize=(15, 3))\n",
    "fig.subplots_adjust(hspace=0.4, wspace=0.4)\n",
    "\n",
    "for i in range(n_to_show):\n",
    "    img = example_images[i].squeeze()\n",
    "    sub = fig.add_subplot(2, n_to_show, i+1)\n",
    "    sub.axis('off')\n",
    "    sub.text(0.5, -0.35, str(np.round(z_points[i],1)), fontsize=10, ha='center', transform=sub.transAxes)\n",
    "            \n",
    "    sub.imshow(img, cmap='gray_r')\n",
    "\n",
    "for i in range(n_to_show):\n",
    "    img = reconst_images[i].squeeze()\n",
    "    sub = fig.add_subplot(2, n_to_show, i+n_to_show+1)\n",
    "    sub.axis('off')\n",
    "    sub.imshow(img, cmap='gray_r')"
   ]
  },
  {
   "cell_type": "markdown",
   "metadata": {},
   "source": [
    "## Variational AutoEncoder 결과"
   ]
  },
  {
   "cell_type": "code",
   "execution_count": null,
   "metadata": {},
   "outputs": [],
   "source": []
  },
  {
   "cell_type": "code",
   "execution_count": null,
   "metadata": {},
   "outputs": [],
   "source": []
  },
  {
   "cell_type": "code",
   "execution_count": null,
   "metadata": {},
   "outputs": [],
   "source": []
  },
  {
   "cell_type": "code",
   "execution_count": null,
   "metadata": {},
   "outputs": [],
   "source": []
  }
 ],
 "metadata": {
  "kernelspec": {
   "display_name": "gan",
   "language": "python",
   "name": "gan"
  },
  "language_info": {
   "codemirror_mode": {
    "name": "ipython",
    "version": 3
   },
   "file_extension": ".py",
   "mimetype": "text/x-python",
   "name": "python",
   "nbconvert_exporter": "python",
   "pygments_lexer": "ipython3",
   "version": "3.6.8"
  }
 },
 "nbformat": 4,
 "nbformat_minor": 2
}
